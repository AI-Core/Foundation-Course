{
 "cells": [
  {
   "cell_type": "markdown",
   "metadata": {},
   "source": [
    "# 1.1.2. Sets"
   ]
  },
  {
   "cell_type": "markdown",
   "metadata": {},
   "source": [
    "## Learning Objectives\n",
    "\n",
    "* [Introduce basic set theory and set notation](#theory)\n",
    "* [Venn diagrams, all in parallel to set objects in Python](#venn)\n",
    "* [Examples of set operations](#oper)\n",
    "* [set() as a useful method of removing duplicates in Python](#set)\n"
   ]
  },
  {
   "cell_type": "markdown",
   "metadata": {},
   "source": [
    "<a id='theory'></a>\n",
    "## Introduce basic set theory and set notation"
   ]
  },
  {
   "cell_type": "markdown",
   "metadata": {},
   "source": [
    "Mathematically a **set** is a collection of items not in any particular order. A **Python set** is similar to this mathematical definition with below additional conditions.\n",
    "* **iterable:** An iterable is any Python object capable of returning its members one at a time, permitting it to be iterated over in a loop. _Check 1.0.2. String Manipulation notebook for more information about iterables._\n",
    "* **cannot be duplicates:** The elements in the set cannot be duplicates.\n",
    "* **immutable:** The elements in the set are immutable(cannot be modified) but the set as a whole is mutable. We can add or remove items from set. But we can not modify any items of it.\n",
    "* **no index:** There is no index attached to any element in a python set. So they do not support any indexing or slicing operation."
   ]
  },
  {
   "cell_type": "code",
   "execution_count": null,
   "metadata": {},
   "outputs": [],
   "source": [
    "# set cannot have duplicates\n",
    "# Output: {1, 2, 3, 4}\n",
    "my_set = {1, 2, 3, 4, 3, 2}\n",
    "print(my_set)\n",
    "\n",
    "# we can make set from a list\n",
    "# Output: {1, 2, 3}\n",
    "my_set = set([1, 2, 3, 2])\n",
    "print(my_set)\n",
    "\n",
    "# set cannot have mutable items\n",
    "# here [3, 4] is a mutable list\n",
    "# this will cause an error.\n",
    "\n",
    "my_set = {1, 2, [3, 4]}"
   ]
  },
  {
   "cell_type": "markdown",
   "metadata": {},
   "source": [
    "<br>Sets can also be used to perform mathematical set operations like union, intersection, symmetric difference, etc.\n",
    "<br>Python’s set class represents the mathematical notion of a set. A set is created by placing all the items (elements) inside curly braces {}, separated by comma, or by using the built-in set() function. The basic structures are shown below. **Please note how the order of the elements has changed in the result.**"
   ]
  },
  {
   "cell_type": "code",
   "execution_count": 1,
   "metadata": {},
   "outputs": [
    {
     "name": "stdout",
     "output_type": "stream",
     "text": [
      "{1, 2, 3}\n",
      "{1.0, 'Hello', (1, 2, 3)}\n"
     ]
    }
   ],
   "source": [
    "# Different types of sets in Python\n",
    "# set of integers\n",
    "my_set = {1, 2, 3}\n",
    "print(my_set)\n",
    "\n",
    "# set of mixed datatypes\n",
    "my_set = {1.0, \"Hello\", (1, 2, 3)}\n",
    "print(my_set)"
   ]
  },
  {
   "cell_type": "code",
   "execution_count": 4,
   "metadata": {},
   "outputs": [
    {
     "data": {
      "text/plain": [
       "{17, 21, 22}"
      ]
     },
     "execution_count": 4,
     "metadata": {},
     "output_type": "execute_result"
    }
   ],
   "source": [
    "# created by using the built-in set() function\n",
    "set(['Wed', 'Sun', 'Fri', 'Tue', 'Mon', 'Thu', 'Sat'])\n",
    "set(['Jan', 'Mar', 'Feb'])\n",
    "set([17, 21, 22])"
   ]
  },
  {
   "cell_type": "code",
   "execution_count": 2,
   "metadata": {},
   "outputs": [
    {
     "name": "stdout",
     "output_type": "stream",
     "text": [
      "{'Tue', 'Sat', 'Thu', 'Mon', 'Sun', 'Wed', 'Fri'}\n",
      "{'Feb', 'Jan', 'Mar'}\n",
      "{17, 21, 22}\n"
     ]
    }
   ],
   "source": [
    "Days=set([\"Mon\",\"Tue\",\"Wed\",\"Thu\",\"Fri\",\"Sat\",\"Sun\"])\n",
    "Months={\"Jan\",\"Feb\",\"Mar\"}\n",
    "Dates={21,22,17}\n",
    "print(Days)\n",
    "print(Months)\n",
    "print(Dates)"
   ]
  },
  {
   "cell_type": "markdown",
   "metadata": {},
   "source": [
    "<a id='venn'></a>\n",
    "## Venn diagrams, all in parallel to set objects in Python"
   ]
  },
  {
   "cell_type": "markdown",
   "metadata": {},
   "source": [
    "Let's visualize sets!"
   ]
  },
  {
   "cell_type": "markdown",
   "metadata": {},
   "source": [
    "* **Set Union**\n",
    "<br>Union of A and B is a set of all elements from both sets.\n",
    "Union is performed using | operator. Same can be accomplished using the union() method.\n",
    "<br>\n",
    "<img src=\"images/union.png\" align=\"center\"/> <br>\n",
    "\n",
    "([Source](https://www.programiz.com/python-programming/set))<br>\n",
    "\n",
    "* **Set Intersection**\n",
    "<br>Intersection of A and B is a set of elements that are common in both the sets.\n",
    "Intersection is performed using & operator. Same can be accomplished using the intersection() method.\n",
    "<br>\n",
    "<img src=\"images/inters.png\" align=\"center\"/> <br>\n",
    "\n",
    "([Source](https://www.programiz.com/python-programming/set))<br>\n",
    "\n",
    "* **Set Difference**\n",
    "<br>Difference of the set B from set A(A - B) is a set of elements that are only in A but not in B. Similarly, B - A is a set of elements in B but not in A.\n",
    "Difference is performed using - operator. Same can be accomplished using the difference() method.\n",
    "<br>\n",
    "<img src=\"images/diff.png\" align=\"center\"/> <br>\n",
    "\n",
    "([Source](https://www.programiz.com/python-programming/set))<br>\n",
    "\n",
    "* **Set Symmetric Difference**\n",
    "<br>Symmetric Difference of A and B is a set of elements in A and B but not in both (excluding the intersection).\n",
    "Symmetric difference is performed using ^ operator. Same can be accomplished using the method symmetric_difference().\n",
    "<br>\n",
    "<img src=\"images/sym.png\" align=\"center\"/> <br>\n",
    "\n",
    "([Source](https://www.programiz.com/python-programming/set))<br>\n"
   ]
  },
  {
   "cell_type": "markdown",
   "metadata": {},
   "source": [
    "<a id='oper'></a>\n",
    "## Examples of set operations"
   ]
  },
  {
   "cell_type": "markdown",
   "metadata": {},
   "source": [
    "The sets in python are typically used for mathematical operations like union, intersection, difference and complement etc. We can create a set, access it’s elements and carry out these mathematical operations as shown below."
   ]
  },
  {
   "cell_type": "markdown",
   "metadata": {},
   "source": [
    "* **Creating a set**\n",
    "<br>Creating an empty set is a bit tricky. Empty curly braces {} will make an empty dictionary in Python. To make a set without any elements, we use the set() function without any argument. A set is created by using the set() function or placing all the elements within a pair of curly braces."
   ]
  },
  {
   "cell_type": "code",
   "execution_count": null,
   "metadata": {},
   "outputs": [],
   "source": [
    "# Distinguish set and dictionary while creating empty set\n",
    "\n",
    "# initialize a with {}\n",
    "a = {}\n",
    "\n",
    "# check data type of a\n",
    "print(type(a))\n",
    "\n",
    "# initialize a with set()\n",
    "a = set()\n",
    "\n",
    "# check data type of a\n",
    "print(type(a))"
   ]
  },
  {
   "cell_type": "code",
   "execution_count": null,
   "metadata": {},
   "outputs": [],
   "source": [
    "Days=set([\"Mon\",\"Tue\",\"Wed\",\"Thu\",\"Fri\",\"Sat\",\"Sun\"])\n",
    "Months={\"Jan\",\"Feb\",\"Mar\"}\n",
    "Dates={21,22,17}\n",
    "print(Days)\n",
    "print(Months)\n",
    "print(Dates)"
   ]
  },
  {
   "cell_type": "markdown",
   "metadata": {},
   "source": [
    "* **Accessing Values in a Set**\n",
    "<br>We cannot access individual values in a set. We can only access all the elements together as shown above. But we can also get a list of individual elements by looping through the set."
   ]
  },
  {
   "cell_type": "code",
   "execution_count": null,
   "metadata": {},
   "outputs": [],
   "source": [
    "Days=set([\"Mon\",\"Tue\",\"Wed\",\"Thu\",\"Fri\",\"Sat\",\"Sun\"])\n",
    " \n",
    "for d in Days:\n",
    "    print(d)"
   ]
  },
  {
   "cell_type": "markdown",
   "metadata": {},
   "source": [
    "* **Adding Items to a Set**\n",
    "<br>We can add elements to a set by using add() method. Again as discussed there is no specific index attached to the newly added element."
   ]
  },
  {
   "cell_type": "code",
   "execution_count": null,
   "metadata": {},
   "outputs": [],
   "source": [
    "Days=set([\"Mon\",\"Tue\",\"Wed\",\"Thu\",\"Fri\",\"Sat\"])\n",
    " \n",
    "Days.add(\"Sun\")\n",
    "print(Days)"
   ]
  },
  {
   "cell_type": "markdown",
   "metadata": {},
   "source": [
    "* **Removing Item from a Set**\n",
    "<br>We can remove elements from a set by using discard() method. Again as discussed there is no specific index attached to the newly added element."
   ]
  },
  {
   "cell_type": "code",
   "execution_count": null,
   "metadata": {},
   "outputs": [],
   "source": [
    "Days=set([\"Mon\",\"Tue\",\"Wed\",\"Thu\",\"Fri\",\"Sat\"])\n",
    " \n",
    "Days.discard(\"Sun\")\n",
    "print(Days)"
   ]
  },
  {
   "cell_type": "markdown",
   "metadata": {},
   "source": [
    "* **Union of Sets**\n",
    "<br>The union operation on two sets produces a new set containing all the distinct elements from both the sets. In the below example the element “Wed” is present in both the sets.\n",
    "<br>**Please note the result below has only one “wed”.**"
   ]
  },
  {
   "cell_type": "code",
   "execution_count": null,
   "metadata": {},
   "outputs": [],
   "source": [
    "DaysA = set([\"Mon\",\"Tue\",\"Wed\"])\n",
    "DaysB = set([\"Wed\",\"Thu\",\"Fri\",\"Sat\",\"Sun\"])\n",
    "AllDays = DaysA|DaysB\n",
    "print(AllDays)"
   ]
  },
  {
   "cell_type": "markdown",
   "metadata": {},
   "source": [
    "* **Intersection of Sets**\n",
    "The intersection operation on two sets produces a new set containing only the common elements from both the sets. In the below example the element “Wed” is present in both the sets.\n",
    "<br>**Please note the result has only one “wed”.**"
   ]
  },
  {
   "cell_type": "code",
   "execution_count": null,
   "metadata": {},
   "outputs": [],
   "source": [
    "DaysA = set([\"Mon\",\"Tue\",\"Wed\"])\n",
    "DaysB = set([\"Wed\",\"Thu\",\"Fri\",\"Sat\",\"Sun\"])\n",
    "AllDays = DaysA & DaysB\n",
    "print(AllDays)"
   ]
  },
  {
   "cell_type": "markdown",
   "metadata": {},
   "source": [
    "* **Difference of Sets**\n",
    "<br>The difference operation on two sets produces a new set containing only the elements from the first set and none from the second set. In the below example the element “Wed” is present in both the sets so it will not be found in the result set."
   ]
  },
  {
   "cell_type": "code",
   "execution_count": null,
   "metadata": {},
   "outputs": [],
   "source": [
    "DaysA = set([\"Mon\",\"Tue\",\"Wed\"])\n",
    "DaysB = set([\"Wed\",\"Thu\",\"Fri\",\"Sat\",\"Sun\"])\n",
    "AllDays = DaysA - DaysB\n",
    "print(AllDays)"
   ]
  },
  {
   "cell_type": "markdown",
   "metadata": {},
   "source": [
    "* **Compare Sets**\n",
    "<br>We can check if a given set is a subset or superset of another set. The result is True or False depending on the elements present in the sets."
   ]
  },
  {
   "cell_type": "code",
   "execution_count": null,
   "metadata": {},
   "outputs": [],
   "source": [
    "DaysA = set([\"Mon\",\"Tue\",\"Wed\"])\n",
    "DaysB = set([\"Mon\",\"Tue\",\"Wed\",\"Thu\",\"Fri\",\"Sat\",\"Sun\"])\n",
    "SubsetRes = DaysA <= DaysB\n",
    "SupersetRes = DaysB >= DaysA\n",
    "print(SubsetRes)\n",
    "print(SupersetRes)"
   ]
  },
  {
   "cell_type": "markdown",
   "metadata": {},
   "source": [
    "To see all operators for set:\n",
    "<br>\n",
    "<img src=\"images/operator.png\" align=\"center\"/> <br>\n",
    "\n",
    "([Source](https://www.geeksforgeeks.org/sets-in-python/))<br>"
   ]
  },
  {
   "cell_type": "markdown",
   "metadata": {},
   "source": [
    "<a id='set'></a>\n",
    "## set() as a useful method of removing duplicates in Python"
   ]
  },
  {
   "cell_type": "markdown",
   "metadata": {},
   "source": [
    "<br>\n",
    "<img src=\"images/dup.png\" align=\"center\"/> <br>\n",
    "\n",
    "([Source](https://www.w3resource.com/w3r_images/Python-data-type-list-excercise-7-b.png))<br>\n"
   ]
  },
  {
   "cell_type": "markdown",
   "metadata": {},
   "source": [
    "Let's focus on one of the operations of getting the unique list from a list that contains a possible duplicated. Remove duplicates from list operation has large number of applications and hence, it’s knowledge is good to have. There're lots of methods to remove duplicates:\n",
    "* Naive method: In naive method, we simply traverse the list and append the first occurrence of the element in new list and ignore all the other occurrences of that particular element.\n",
    "* Using list comprehension: This method has working similar to the above method, but this is just a one-liner shorthand of longer method done with the help of list comprehension.\n",
    "* Using collections.OrderedDict.fromkeys() etc.\n",
    "\n",
    "But we will see the usage of set() to remove duplicates!\n",
    "* **Using set():** This is the most popular way by which the duplicated are removed from the list. But the main and notable drawback of this approach is that the ordering of the element is lost in this particular method."
   ]
  },
  {
   "cell_type": "code",
   "execution_count": null,
   "metadata": {},
   "outputs": [],
   "source": [
    "# removing duplicated from list \n",
    "# using set() \n",
    "\n",
    "# initializing list \n",
    "test_list = [1, 5, 3, 6, 3, 5, 6, 1] \n",
    "print (\"The original list is : \" + str(test_list)) \n",
    "\n",
    "# using set() \n",
    "# to remove duplicated \n",
    "# from list \n",
    "test_list = list(set(test_list)) \n",
    "\n",
    "# printing list after removal \n",
    "# distorted ordering \n",
    "print (\"The list after removing duplicates : \" + str(test_list)) \n"
   ]
  },
  {
   "cell_type": "markdown",
   "metadata": {},
   "source": [
    "## Summary\n",
    "* Mathematically a set is a collection of items not in any particular order.\n",
    "* A Python set is similar to this mathematical definition with below additional conditions.\n",
    "* The elements in the set cannot be duplicates.\n",
    "* The elements in the set are immutable(cannot be modified) but the set as a whole is mutable. We can add or remove items from set. But we can not modify any items of it.\n",
    "* We can lots of operations with sets such as remove items, add items, union sets etc.\n",
    "* set() is the most popular way by which the duplicated are removed from the list. \n",
    "\n",
    "_Further reading:_\n",
    "https://www.programiz.com/python-programming/set"
   ]
  },
  {
   "cell_type": "markdown",
   "metadata": {},
   "source": [
    "## Exercises\n",
    "\n",
    "### Question 1:\n",
    "Write a Python program to check if two given sets have no elements in common.\n"
   ]
  },
  {
   "cell_type": "code",
   "execution_count": null,
   "metadata": {},
   "outputs": [],
   "source": [
    "## Code Here\n"
   ]
  },
  {
   "cell_type": "markdown",
   "metadata": {},
   "source": [
    "### Question 2:\n",
    "Write a Python program to remove the intersection of a 2nd set from the 1st set."
   ]
  },
  {
   "cell_type": "code",
   "execution_count": null,
   "metadata": {},
   "outputs": [],
   "source": [
    "## Code Here\n"
   ]
  },
  {
   "cell_type": "markdown",
   "metadata": {},
   "source": [
    "### Question 3:\n",
    "Write a Python program to find maximum and the minimum value in a set."
   ]
  },
  {
   "cell_type": "code",
   "execution_count": null,
   "metadata": {},
   "outputs": [],
   "source": [
    "## Code Here\n"
   ]
  }
 ],
 "metadata": {
  "kernelspec": {
   "display_name": "Python 3.7.3 64-bit",
   "language": "python",
   "name": "python37364bite72acbb0cda24fc4847ed421ff53abec"
  },
  "language_info": {
   "codemirror_mode": {
    "name": "ipython",
    "version": 3
   },
   "file_extension": ".py",
   "mimetype": "text/x-python",
   "name": "python",
   "nbconvert_exporter": "python",
   "pygments_lexer": "ipython3",
   "version": "3.7.3"
  }
 },
 "nbformat": 4,
 "nbformat_minor": 2
}

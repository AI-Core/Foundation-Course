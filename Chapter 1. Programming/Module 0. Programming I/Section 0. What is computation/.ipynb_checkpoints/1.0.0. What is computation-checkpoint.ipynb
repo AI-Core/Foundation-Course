{
 "cells": [
  {
   "cell_type": "markdown",
   "metadata": {},
   "source": [
    "# 1.0.0. What is computation?"
   ]
  },
  {
   "cell_type": "markdown",
   "metadata": {},
   "source": [
    "_What will be covered in this notebook?_\n",
    "* What is computation\n",
    "* Python basics\n",
    "* Mathematical operations\n",
    "* Python variables and types"
   ]
  },
  {
   "cell_type": "markdown",
   "metadata": {},
   "source": [
    "### a. What does a computer do?"
   ]
  },
  {
   "cell_type": "markdown",
   "metadata": {},
   "source": [
    "Fundamentally a computer does two things, and two things only:\n",
    "* **Performs calculations:** Nowadays computers are really fast and they perform a billion or so calculations per second. It performs these calculations and it has to store them in computer memory.\n",
    "* **Remembers results:** Computers have to remember results. These days we can find computers with hundreds of gigabytes of storage. How big is that? If a byte (the number of bits, typically eight, required to represent one character) weighed one gram (which it doesn’t), 100 gigabytes would weigh 10,000 metric tons. For comparison, that’s roughly the combined weight of 15,000 African elephants."
   ]
  },
  {
   "cell_type": "markdown",
   "metadata": {},
   "source": [
    "![computer_comparison.jpeg](images0/computer_comparison.jpeg)\n",
    "\n",
    "https://medium.com/@romanoclara146/future-gadget-eeada3525d49"
   ]
  },
  {
   "cell_type": "markdown",
   "metadata": {},
   "source": [
    "### b. What kind of calculations?\n"
   ]
  },
  {
   "cell_type": "markdown",
   "metadata": {},
   "source": [
    "* **Built-in to the language**: Very low level types of calculations like addition, subtraction, multiplication, and so on. \n",
    "* **Ones that you define as the programmer**: You can put these  primitive calculation types together and then define your own calculations."
   ]
  },
  {
   "cell_type": "markdown",
   "metadata": {},
   "source": [
    "### c. Computers only know and do what you tell them (algorithms as ‘recipes’)"
   ]
  },
  {
   "cell_type": "markdown",
   "metadata": {},
   "source": [
    "Computers are not magical and they don't have a mind.\n",
    "They just know how to perform calculations really quickly. But you have to tell them what calculations to do. "
   ]
  },
  {
   "cell_type": "markdown",
   "metadata": {},
   "source": [
    "All knowledge can be thought of as either declarative or imperative. These are two _types of the knodwledge_ :\n",
    "* **Declarative**: Statement of fact. For example, “the square root of x is a number y such that y*y\t=\tx.” This is a statement of fact. Unfortunately, it doesn’t tell us anything about how to find a square root. \n",
    "* **Imperative**: Recipe for deducing information or how-to. For example, the way to compute the square root of a number."
   ]
  },
  {
   "cell_type": "markdown",
   "metadata": {},
   "source": [
    "Computers don't know what to do with that statement. But they do know how to follow a recipe. So here's the recipe for  deducing square root of a number x:\n",
    "1. Start with a **guess**, g.\n",
    "2. If g * g is **close enough** to x, stop and say that g is the answer.\n",
    "3. Otherwise create a **new guess** by averaging g and x/g, i.e., (g\t+\tx/g)/2.\n",
    "4. Using this new guess, which we again call g, **repeat** the process until g*g is close enough to x.\n",
    "\n"
   ]
  },
  {
   "cell_type": "markdown",
   "metadata": {},
   "source": [
    "![square_root](images0/square_root_ex.png)"
   ]
  },
  {
   "cell_type": "markdown",
   "metadata": {},
   "source": [
    "So as seen above, a recipe has 3 parts:\n",
    "1. **Sequence of steps**: There were 4 steps.\n",
    "2. **Flow of control**:  There were parts where we made decisions. Are we close enough? \n",
    "3. **When to stop**: Determining a way to stop. In the previous example, the way of stopping was that we decided we were close enough. Close enough was maybe being within .01, .001, whatever you pick.\n"
   ]
  },
  {
   "cell_type": "markdown",
   "metadata": {},
   "source": [
    "#### Your turn! \n",
    "_Think about a recipe from your daily life and try to determine three parts of it!_"
   ]
  },
  {
   "cell_type": "markdown",
   "metadata": {},
   "source": [
    "![recipe](images0/recipe.png)"
   ]
  },
  {
   "cell_type": "markdown",
   "metadata": {},
   "source": [
    "Note that the description of the method is a sequence of simple steps, together with a flow of control that specifies when each step is to be executed. Such a description is called an algorithm. In computer science speak, this recipe is going to be an algorithm."
   ]
  },
  {
   "cell_type": "markdown",
   "metadata": {},
   "source": [
    "How to capture a recipe in a mechanical process ?\n",
    "* **Fixed program computer**: It can only do one thing. For example, a calculator.  It only knows how to do addition, multiplication, subtraction, division. If you want to plot something, you can't.\n",
    "\n",
    "* **Stored program computer**: Machine stores and executes instructions. You can do different tasks in the same machine. \n",
    "    * sequence of **instructions stored** inside computer\n",
    "        * built from predefined set of primitive instructions\n",
    "            1. arithmetic and logic\n",
    "            2. simple tests\n",
    "            3. moving data\n",
    "    * special program (interpreter) **executes each instruction in order**\n",
    "        * use tests to change flow of control through sequence\n",
    "        * stop when done\n"
   ]
  },
  {
   "cell_type": "markdown",
   "metadata": {},
   "source": [
    "![architecture](images0/architecture.png)"
   ]
  },
  {
   "cell_type": "markdown",
   "metadata": {},
   "source": [
    "What are the basic primitives?\n",
    "* Turing showed that you can **compute anything** using 6 primitives (move left, move right, read, write, scan and do nothing)\n",
    "* Modern programming languages have more convenient set of primitives and can abstract methods to create **new primitives**\n",
    "* ATTENTION! Anything computable in one language is computable in any other programming language\n"
   ]
  },
  {
   "cell_type": "markdown",
   "metadata": {},
   "source": [
    "### d. Syntax & Semantics: parallel to the English language"
   ]
  },
  {
   "cell_type": "markdown",
   "metadata": {},
   "source": [
    "Once you have your set of primitives (primitive operations) for a particular language, you can start creating expressions!\n",
    "* Expressions are complex but legal combinations of primitives in a programming language\n",
    "* Expressions and computations have values and meanings in a programming language\n"
   ]
  },
  {
   "cell_type": "markdown",
   "metadata": {},
   "source": [
    "![aspects](images0/syntax.png)"
   ]
  },
  {
   "cell_type": "markdown",
   "metadata": {},
   "source": [
    "What is the problem here? The problem that comes into play in programming languages is it's not the meaning that\n",
    "you might have intended, as the programmer. **_That's where things can go wrong._**\n"
   ]
  },
  {
   "cell_type": "markdown",
   "metadata": {},
   "source": [
    "* **Syntactic errors**\n",
    "    * common and easily caught\n",
    "* **Static semantic errors**\n",
    "    * some languages check for these before running program\n",
    "    * can cause unpredictable behavior\n",
    "* No semantic errors but **different meaning than what programmer intended**\n",
    "    * program crashes, stops running\n",
    "    * program runs forever\n",
    "    * program gives an answer but different than expected"
   ]
  },
  {
   "cell_type": "markdown",
   "metadata": {},
   "source": [
    "#### Your turn! \n",
    "_Computers can be annoyingly literal. If you don’t tell them exactly what you want them to do, they are likely to do the wrong thing. Try writing an algorithm for driving between two destinations. Write it the way you would for a person, and then imagine what would happen if that person were as stupid as a computer, and executed the algorithm exactly as written. How many traffic tickets might that person get?_"
   ]
  },
  {
   "cell_type": "markdown",
   "metadata": {},
   "source": [
    "### e. Programs & Commands\n"
   ]
  },
  {
   "cell_type": "markdown",
   "metadata": {},
   "source": [
    "A gentle introduction to Python:\n",
    "* Python is a general-purpose programming language that can be used effectively to build almost any kind of program.\n",
    "* It is not optimal for programs that have high reliability constraints (because of its weak static semantic checking).\n",
    "* It is a relatively simple language that is easy to learn.\n",
    "* There are also a large number of freely available libraries that interface to Python and provide useful extended functionality.\n",
    "* Python is a living language. Since its introduction by Guido von Rossum in 1990, it has undergone many changes."
   ]
  },
  {
   "cell_type": "markdown",
   "metadata": {},
   "source": [
    "A Python **program**, sometimes called a script, is a sequence of definitions and commands.\n",
    "* Definitions evaluated\n",
    "* Commands executed by Python interpreter in a shell\n",
    "\n",
    "Commands (statements) instruct interpreter to do something\n",
    "* Can be typed directly in a shell or stored in a file that is read into the shell and evaluated\n",
    "*  For example, the statement **print('Yankees rule!')** instructs the interpreter to call the function **print**, which will output the string **Yankees rule!** to the window associated with the shell."
   ]
  },
  {
   "cell_type": "markdown",
   "metadata": {},
   "source": [
    "### f. Objects "
   ]
  },
  {
   "cell_type": "markdown",
   "metadata": {},
   "source": [
    "Everything is an **object** in Python.  Objects are the core things that Python programs manipulate. Every object has a **type** that defines the kinds of things that programs can do with that object. For example:\n",
    "* An object is the _number_ 5. You can add the number to another number, subtract the number, take it to the power of something, and so on.\n",
    "* We are _humans_ and that's our type. And we can walk, speak English, et cetera. \n"
   ]
  },
  {
   "cell_type": "markdown",
   "metadata": {},
   "source": [
    "There are 2 types of objects:\n",
    "* **Scalar**: Objects are indivisible. Think of them as the atoms of the language. The number five is a scalar object because it can't be subdivided.\n",
    "* **Non-scalar**: Objects, for example strings, have internal structure. a list of numbers, for example, 5, 6, 7,8, is going to be a non-scalar object because you can subdivide it. It's made up of a sequence of numbers.\n",
    "\n",
    "\n"
   ]
  },
  {
   "cell_type": "markdown",
   "metadata": {},
   "source": [
    "![objects](images0/obj.png)"
   ]
  },
  {
   "cell_type": "markdown",
   "metadata": {},
   "source": [
    "### g. Printing to console & type function"
   ]
  },
  {
   "cell_type": "markdown",
   "metadata": {},
   "source": [
    "If you want to find the type of an object, you can use this special command called **type**. To try some examples, run the cells below:"
   ]
  },
  {
   "cell_type": "code",
   "execution_count": null,
   "metadata": {},
   "outputs": [],
   "source": [
    "type(5)"
   ]
  },
  {
   "cell_type": "code",
   "execution_count": null,
   "metadata": {},
   "outputs": [],
   "source": [
    "type(3.0)"
   ]
  },
  {
   "cell_type": "code",
   "execution_count": null,
   "metadata": {},
   "outputs": [],
   "source": [
    "type(3!=2)"
   ]
  },
  {
   "cell_type": "code",
   "execution_count": null,
   "metadata": {},
   "outputs": [],
   "source": [
    "type([2, 3, 4])"
   ]
  },
  {
   "cell_type": "markdown",
   "metadata": {},
   "source": [
    "What is type conversion (cast)? If you happen to want to convert between two different types, you put the type that you want to convert to right before the object that you want to convert to."
   ]
  },
  {
   "cell_type": "code",
   "execution_count": null,
   "metadata": {},
   "outputs": [],
   "source": [
    "type(3)"
   ]
  },
  {
   "cell_type": "code",
   "execution_count": null,
   "metadata": {},
   "outputs": [],
   "source": [
    "# float(3) will convert the integer 3 to the float 3.0\n",
    "type(float(3))"
   ]
  },
  {
   "cell_type": "code",
   "execution_count": null,
   "metadata": {},
   "outputs": [],
   "source": [
    "type(3.4)"
   ]
  },
  {
   "cell_type": "code",
   "execution_count": null,
   "metadata": {},
   "outputs": [],
   "source": [
    "# int(3.9) truncates float 3.9 to integer 3. Converting to an integer just truncates. \n",
    "# It just takes away the decimal and keeps just the integer part.\n",
    "type(int(3.9))"
   ]
  },
  {
   "cell_type": "markdown",
   "metadata": {},
   "source": [
    "One of the most important things that you can do in basically any programming is to print things out. Printing out is how you interact with the user. To print things out, you use the **print** command."
   ]
  },
  {
   "cell_type": "code",
   "execution_count": null,
   "metadata": {},
   "outputs": [],
   "source": [
    "3 + 2"
   ]
  },
  {
   "cell_type": "markdown",
   "metadata": {},
   "source": [
    "As you can see above, we can print the value without print() command but it doesn't actually print anything. \"Out\" tells you that it's an interaction within the shell only. It's not interacting with anyone else. "
   ]
  },
  {
   "cell_type": "code",
   "execution_count": null,
   "metadata": {},
   "outputs": [],
   "source": [
    "print(3+2)\n",
    "print(\"Hello world!\")"
   ]
  },
  {
   "cell_type": "markdown",
   "metadata": {},
   "source": [
    "If you don't have any \"Out,\" that means it got printed out to the console.\n",
    "\n"
   ]
  },
  {
   "cell_type": "markdown",
   "metadata": {},
   "source": [
    "### 1.h. Operations, Expressions, Values & Variables"
   ]
  },
  {
   "cell_type": "markdown",
   "metadata": {},
   "source": [
    "**Expression:**\n",
    "* **combine objects and operators** to form expressions\n",
    "* an expression has a **value**, which has a type. So an expression evaluates to a value.\n",
    "* syntax for a simple expression:  (object) (operator) (object)"
   ]
  },
  {
   "cell_type": "markdown",
   "metadata": {},
   "source": [
    "Operators on ints and floats:\n",
    "\n",
    "![operator](images0/operator.png)"
   ]
  },
  {
   "cell_type": "markdown",
   "metadata": {},
   "source": [
    "These **operations** have the typical precedence that you might expect in math, for example.Parentheses used to tell Python to do these operations first.\n",
    "* Operator precedence without parentheses\n",
    "    * \\**\n",
    "    * *\n",
    "    * /\n",
    "    * \\+ and – executed left to right, as appear in expression\n"
   ]
  },
  {
   "cell_type": "code",
   "execution_count": null,
   "metadata": {
    "scrolled": true
   },
   "outputs": [],
   "source": [
    "28 % 3"
   ]
  },
  {
   "cell_type": "code",
   "execution_count": null,
   "metadata": {},
   "outputs": [],
   "source": [
    "400 / 7"
   ]
  },
  {
   "cell_type": "code",
   "execution_count": null,
   "metadata": {},
   "outputs": [],
   "source": [
    "3 * 4 - 5"
   ]
  },
  {
   "cell_type": "markdown",
   "metadata": {},
   "source": [
    "#### Your turn ! \n",
    "_Firstly, guess the answer for the calculation below and run the cell to check your answer._"
   ]
  },
  {
   "cell_type": "code",
   "execution_count": null,
   "metadata": {},
   "outputs": [],
   "source": [
    "question1 = (3 + 1) * 4 - 5\n",
    "question1 = question1 ** 2\n",
    "print(question1)"
   ]
  },
  {
   "cell_type": "markdown",
   "metadata": {},
   "source": [
    "Now we have ways of creating expressions. And we have operations we can do on objects. But what's going to be useful is to be able to save **values** to some name. We save a value to a **variable** name. To do this, you can use the equal sign. Equal sign is an assignment of a value to a variable name.\n",
    "\n",
    "![value](images0/value.png)\n",
    "* value stored in computer memory \n",
    "* an assignment binds name to value\n",
    "* retrieve value associated with name or variable by invoking the name, by typing pi.\n",
    "\n",
    "We give name to values to reuse names instead of values. It's easier to change code later. Run the cell below. You can change radius value and run cell again."
   ]
  },
  {
   "cell_type": "code",
   "execution_count": null,
   "metadata": {},
   "outputs": [],
   "source": [
    "pi = 3.14159\n",
    "radius = 2.2 # change the right side of assignment\n",
    "# area of circle\n",
    "area = pi*(radius**2)\n",
    "print(area)"
   ]
  },
  {
   "cell_type": "markdown",
   "metadata": {},
   "source": [
    "**In math**, you're often presented with a problem that says, solve for x. \"x + y\" is equal to something something.\n",
    "**In programming**, if you want to solve for x, you need to tell the computer exactly how to solve for x. Also, in programming:\n",
    "* The right-hand side is going to be an expression. It's something that's going to be evaluated to a value. \n",
    "* The left-hand side is always a variable.\n",
    "* It's going to be an assignment. The equal sign is not like in math.\n",
    "* There's only one thing (variable) to the left of the equal sign. \n",
    "* An equal sign stands for an assignment.\n"
   ]
  },
  {
   "cell_type": "markdown",
   "metadata": {},
   "source": [
    "#### Your turn!\n",
    "_Which is allowed in Python and why?_\n",
    "\n",
    "a) x + y = 2\n",
    "\n",
    "b) x*x = 2\n",
    "\n",
    "c) 2 = x\n",
    "\n",
    "d) xy = 2"
   ]
  },
  {
   "cell_type": "markdown",
   "metadata": {},
   "source": [
    "We said that an assignment binds name to value. **Changing bindings**:\n",
    "* can re-bind variable names using new assignment statements\n",
    "* previous value may still stored in memory but lost the handle for it\n",
    "* value for area does not change until you tell the computer to do the calculation again"
   ]
  },
  {
   "cell_type": "code",
   "execution_count": null,
   "metadata": {},
   "outputs": [],
   "source": [
    "pi = 3.14159\n",
    "radius = 2.2\n",
    "# area of circle\n",
    "area = pi*(radius**2)\n",
    "print(area)\n",
    "# re-bind radius value\n",
    "radius = radius + 1\n",
    "print(area)"
   ]
  },
  {
   "cell_type": "markdown",
   "metadata": {},
   "source": [
    "Please note that, although we changed the value of radius, the value of area **did not change**. It did not change because these are all the instructions we told the computer to do. We just told it to change radius to be radius plus 1. We never told it to recalculate the value of area. The computer only does what we tell it to do. Run the cell below to see the difference. "
   ]
  },
  {
   "cell_type": "code",
   "execution_count": null,
   "metadata": {},
   "outputs": [],
   "source": [
    "pi = 3.14159\n",
    "radius = 2.2\n",
    "# area of circle\n",
    "area = pi*(radius**2)\n",
    "print(area)\n",
    "# re-bind radius value\n",
    "radius = radius + 1\n",
    "\n",
    "# calculate area again\n",
    "area = pi*(radius**2)\n",
    "print(area)"
   ]
  },
  {
   "cell_type": "markdown",
   "metadata": {},
   "source": [
    "#### Your turn!\n",
    "_Guess what will be the outputs of two print commands? Run the cell and explain the answer!_"
   ]
  },
  {
   "cell_type": "code",
   "execution_count": null,
   "metadata": {},
   "outputs": [],
   "source": [
    "usa_gold = 46\n",
    "uk_gold = 27\n",
    "romania_gold = 1\n",
    "\n",
    "total_gold = usa_gold + uk_gold + romania_gold\n",
    "print(total_gold)  # guess what?\n",
    "\n",
    "romania_gold += 1\n",
    "print(total_gold)  # guess what?"
   ]
  },
  {
   "cell_type": "markdown",
   "metadata": {},
   "source": [
    "## Summary"
   ]
  },
  {
   "cell_type": "markdown",
   "metadata": {},
   "source": [
    "* A computer performs calculations and remembers results and it only does what we tell it to do.\n",
    "* A recipe (algorithm) has 3 parts: Sequence of steps, Flow of control and When to stop\n",
    "* Where things go wrong: Syntactic errors, Static semantic errors and No semantic errors but different meaning than what programmer intended\n",
    "* A program is a sequence of definitions and commands.Commands instruct interpreter to do something.\n",
    "* We have 2 types of objects: Scalar and non-scalar.\n",
    "* Printing out is how you interact with the user.\n",
    "* The equal sign is not like in math. We assign a value to a variable with equal sign.\n",
    "* There's only one thing to the left of the equal sign.\n",
    "* We can change value of a variable but the calculations including this value does not change until we do the same calculations again."
   ]
  },
  {
   "cell_type": "markdown",
   "metadata": {},
   "source": [
    "# Exercise 1. A Very Simple Program: Raising a number to a power and taking a logarithm\n",
    "\n",
    "Go and try to write a program that does the following in order:\n",
    "1. Asks the user to enter a number “x”\n",
    "2. Asks the user to enter a number “y”\n",
    "3. Prints out number “x”, raised to the power “y”.\n",
    "4. Prints out the log (base 2) of “x”.\n",
    "\n",
    "An example of an interaction with your program is shown below. The words printed in blue are ones the computer should print, based on your commands, while the words in black are an example of a user's input. The colors are simply here to help you distinguish the two components.\n",
    "\n",
    "![exercise](images0/assign.png)\n",
    "\n",
    "**Hints:**\n",
    "* To see how to read input from a user's console into the Python environment, you may find it convenient to look at the same section (see for example the input() function).\n",
    "* To take the logarithm of a variable, import either of the numpy or pylab packages. You can then call either numpy.log2 or pylab.log2 to calculate the logarithm.\n",
    "* Remember that if you want to hold onto a value, you need to store it in a variable (i.e., give it a name to which you can refer when you want that value)."
   ]
  },
  {
   "cell_type": "code",
   "execution_count": null,
   "metadata": {},
   "outputs": [],
   "source": [
    "# Your code is here!\n",
    "\n",
    "\n"
   ]
  }
 ],
 "metadata": {
  "kernelspec": {
   "display_name": "Python 3.7.3 64-bit",
   "language": "python",
   "name": "python37364bite72acbb0cda24fc4847ed421ff53abec"
  },
  "language_info": {
   "codemirror_mode": {
    "name": "ipython",
    "version": 3
   },
   "file_extension": ".py",
   "mimetype": "text/x-python",
   "name": "python",
   "nbconvert_exporter": "python",
   "pygments_lexer": "ipython3",
   "version": "3.7.3"
  }
 },
 "nbformat": 4,
 "nbformat_minor": 2
}

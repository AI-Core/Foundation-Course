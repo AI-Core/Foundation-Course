{
 "cells": [
  {
   "cell_type": "markdown",
   "metadata": {},
   "source": [
    "## 1.0.1. Branching and Iteration"
   ]
  },
  {
   "cell_type": "markdown",
   "metadata": {},
   "source": [
    "_What will be covered in this notebook?_\n",
    "\n",
    "* Intro: input() function\n",
    "* Comparison & logic operators\n",
    "* Conditional statements & indentation\n",
    "* While/for loops & iterables\n"
   ]
  },
  {
   "cell_type": "markdown",
   "metadata": {},
   "source": [
    "##### Quick recap of the last module:\n",
    "* What was the two things a computer do?\n",
    "* A computer only does what it is told.\n",
    "* Syntax and semantics\n",
    "* Simple objects and these objects were of different types. So we saw integers, floats, and booleans.\n",
    "* A couple of simple operations with these objects."
   ]
  },
  {
   "cell_type": "markdown",
   "metadata": {},
   "source": [
    "### a. Intro: input() function\n",
    "\n",
    "\n"
   ]
  },
  {
   "cell_type": "markdown",
   "metadata": {},
   "source": [
    "In the last module, we've seen so far integers, which were whole numbers, floats, which were decimal numbers, and we have seen Booleans, which were true and false. Now, we're going to look at a new type of object called a **string**. "
   ]
  },
  {
   "cell_type": "markdown",
   "metadata": {},
   "source": [
    "**Strings** are going to be sequences of characters. And these characters can be anything:\n",
    "* Letters, special characters, spaces, digits\n",
    "\n",
    "Enclose in quotation marks or single quotes so that Python can understand it's a string:"
   ]
  },
  {
   "cell_type": "code",
   "execution_count": 1,
   "metadata": {},
   "outputs": [
    {
     "name": "stdout",
     "output_type": "stream",
     "text": [
      "hello there\n",
      "<class 'str'>\n"
     ]
    }
   ],
   "source": [
    "hi = \"hello there\"\n",
    "print(hi)\n",
    "print(type(hi))"
   ]
  },
  {
   "cell_type": "markdown",
   "metadata": {},
   "source": [
    "We can do two operations with strings:\n",
    "\n",
    "**1. Concatenate**: Means put the strings together:"
   ]
  },
  {
   "cell_type": "code",
   "execution_count": 6,
   "metadata": {},
   "outputs": [
    {
     "name": "stdout",
     "output_type": "stream",
     "text": [
      "greet: hello thereana\n",
      "greeting: hello there ana\n"
     ]
    }
   ],
   "source": [
    "name = \"ana\"                    # create a new string\n",
    "greet = hi + name               # concatenate hi and name variables\n",
    "print(\"greet: \" + greet)        # print out greet variable and attention here: computer didn't add a space\n",
    "                                    # remember computer just doing what it's told! \n",
    "greeting = hi + \" \" + name      # concatenate hi variable, space and name variable so we insert space manually\n",
    "print(\"greeting: \" + greeting)  # print out the new string"
   ]
  },
  {
   "cell_type": "markdown",
   "metadata": {},
   "source": [
    "**2. Star operator**: Stands for multiplication, between a string and a number. When you do that, Python interprets it as repeat that string that many number of times."
   ]
  },
  {
   "cell_type": "code",
   "execution_count": 8,
   "metadata": {},
   "outputs": [
    {
     "name": "stdout",
     "output_type": "stream",
     "text": [
      "hello there ana ana ana\n"
     ]
    }
   ],
   "source": [
    "silly = hi + (\" \" + name) * 3    # we have a string \"space+name\" and a number \"3\", so we'll repeat anna for 3 times\n",
    "print(silly)                     # print out silly variable"
   ]
  },
  {
   "cell_type": "markdown",
   "metadata": {},
   "source": [
    "So far, we learned how to use \"print\". So you use print to interact with the user. It's cool to write programs that print\n",
    "things out to the user. So the key word here being **print**.\n",
    "\n",
    "* You put parentheses after print. \n",
    "* In the parentheses, you put in whatever you want to show the user.\n"
   ]
  },
  {
   "cell_type": "code",
   "execution_count": 3,
   "metadata": {
    "scrolled": true
   },
   "outputs": [
    {
     "name": "stdout",
     "output_type": "stream",
     "text": [
      "1\n",
      "my fav num is 1 . x = 1\n",
      "my fav num is 1. x = 1\n"
     ]
    }
   ],
   "source": [
    "x = 1            # created a variable named x and assigned it the value 1\n",
    "print(x)         # print it out\n",
    "x_str = str(x)   # casting, we're taking the number one, the integer 1, and casting it to a string\n",
    "                     # you'll see why in a moment we cast it\n",
    "print(\"my fav num is\", x, \".\", \"x =\", x)                  # using commas everywhere here\n",
    "print(\"my fav num is \" + x_str + \". \" + \"x = \" + x_str)   # using plus\n",
    "\n",
    "# if you use a comma, Python is going to automatically add a space in between the two things \n",
    "       # that the comma is in between, the values. "
   ]
  },
  {
   "cell_type": "markdown",
   "metadata": {},
   "source": [
    "**ATTENTION:** We can only concatenate string to string. That's the reason why we cast integer x to string. If we don't cast it, we'll get an error. Run the cell above and see the difference."
   ]
  },
  {
   "cell_type": "code",
   "execution_count": 5,
   "metadata": {
    "scrolled": true
   },
   "outputs": [
    {
     "name": "stdout",
     "output_type": "stream",
     "text": [
      "1\n"
     ]
    },
    {
     "ename": "TypeError",
     "evalue": "can only concatenate str (not \"int\") to str",
     "output_type": "error",
     "traceback": [
      "\u001b[1;31m---------------------------------------------------------------------------\u001b[0m",
      "\u001b[1;31mTypeError\u001b[0m                                 Traceback (most recent call last)",
      "\u001b[1;32m<ipython-input-5-9beec8230865>\u001b[0m in \u001b[0;36m<module>\u001b[1;34m\u001b[0m\n\u001b[0;32m      4\u001b[0m \u001b[0mx_str\u001b[0m \u001b[1;33m=\u001b[0m \u001b[0mx\u001b[0m          \u001b[1;31m# don't cast and x stays as an integer\u001b[0m\u001b[1;33m\u001b[0m\u001b[1;33m\u001b[0m\u001b[0m\n\u001b[0;32m      5\u001b[0m \u001b[1;33m\u001b[0m\u001b[0m\n\u001b[1;32m----> 6\u001b[1;33m \u001b[0mprint\u001b[0m\u001b[1;33m(\u001b[0m\u001b[1;34m\"my fav num is \"\u001b[0m \u001b[1;33m+\u001b[0m \u001b[0mx_str\u001b[0m \u001b[1;33m+\u001b[0m \u001b[1;34m\". \"\u001b[0m \u001b[1;33m+\u001b[0m \u001b[1;34m\"x = \"\u001b[0m \u001b[1;33m+\u001b[0m \u001b[0mx_str\u001b[0m\u001b[1;33m)\u001b[0m\u001b[1;33m\u001b[0m\u001b[1;33m\u001b[0m\u001b[0m\n\u001b[0m",
      "\u001b[1;31mTypeError\u001b[0m: can only concatenate str (not \"int\") to str"
     ]
    }
   ],
   "source": [
    "x = 1              # created a variable named x and assigned it the value 1\n",
    "print(x)           # print it out\n",
    "# x_str = str(x)   # casting, we're taking the number one, the integer 1, and casting it to a string\n",
    "x_str = x          # don't cast and x stays as an integer\n",
    "\n",
    "print(\"my fav num is \" + x_str + \". \" + \"x = \" + x_str)"
   ]
  },
  {
   "cell_type": "markdown",
   "metadata": {},
   "source": [
    "Printing things out to the console is nice, but the second part of sort of writing an interactive program is getting **input** from the user. If you've done \"Exercise 1\" on the last notebook, you might have sort of already tried to understand this on your own.\n",
    "\n",
    "* **input(\"\")**\n",
    "    * Input function prints whatever is in the quotes\n",
    "    * Program stops and waits for the user to type in something and hit Enter."
   ]
  },
  {
   "cell_type": "code",
   "execution_count": 16,
   "metadata": {},
   "outputs": [
    {
     "name": "stdout",
     "output_type": "stream",
     "text": [
      "Type anything... ha\n",
      "hahahahaha\n"
     ]
    }
   ],
   "source": [
    "text = input(\"Type anything... \")   # bind that string object to this variable named \"text\"\n",
    "print(5*text)                       # do whatever I want with this variable text, print text out for 5 times"
   ]
  },
  {
   "cell_type": "markdown",
   "metadata": {},
   "source": [
    "**Your Turn!**\n",
    "\n",
    "What do you think is going to be printed out if we give input \"5\"? 25 or 5 five times? Guess first and run the cell below. Type 5 as the input then press Enter to see the answer:"
   ]
  },
  {
   "cell_type": "code",
   "execution_count": 15,
   "metadata": {},
   "outputs": [
    {
     "name": "stdout",
     "output_type": "stream",
     "text": [
      "Type anything... 5\n",
      "55555\n"
     ]
    }
   ],
   "source": [
    "text = input(\"Type anything... \")   # type 5 as the input\n",
    "print(5*text)"
   ]
  },
  {
   "cell_type": "markdown",
   "metadata": {},
   "source": [
    "**ATTENTION:** Whatever you type in, just by default, by definition of the input command, Python always makes it a **string**. So if you want to work with numbers, you have to explicitly tell it, you need to **cast** it to integer, float etc. \n",
    "\n",
    "Please type 5 again for the cell below and see the difference:"
   ]
  },
  {
   "cell_type": "code",
   "execution_count": 14,
   "metadata": {},
   "outputs": [
    {
     "name": "stdout",
     "output_type": "stream",
     "text": [
      "Type a number... 5\n",
      "25\n"
     ]
    }
   ],
   "source": [
    "num = int(input(\"Type a number... \"))    # If you want to work with numbers as numbers in your program\n",
    "                                            # then you have to cast string to integer\n",
    "print(5*num)"
   ]
  },
  {
   "cell_type": "markdown",
   "metadata": {},
   "source": [
    "### b. Comparison & logic operators\n"
   ]
  },
  {
   "cell_type": "code",
   "execution_count": null,
   "metadata": {},
   "outputs": [],
   "source": []
  },
  {
   "cell_type": "code",
   "execution_count": null,
   "metadata": {},
   "outputs": [],
   "source": []
  },
  {
   "cell_type": "markdown",
   "metadata": {},
   "source": [
    "### c. Conditional statements & indentation\n",
    " "
   ]
  },
  {
   "cell_type": "code",
   "execution_count": null,
   "metadata": {},
   "outputs": [],
   "source": []
  },
  {
   "cell_type": "code",
   "execution_count": null,
   "metadata": {},
   "outputs": [],
   "source": []
  },
  {
   "cell_type": "markdown",
   "metadata": {},
   "source": [
    "### d. While/for loops & iterables"
   ]
  },
  {
   "cell_type": "code",
   "execution_count": null,
   "metadata": {},
   "outputs": [],
   "source": []
  },
  {
   "cell_type": "code",
   "execution_count": null,
   "metadata": {},
   "outputs": [],
   "source": []
  },
  {
   "cell_type": "markdown",
   "metadata": {},
   "source": [
    "### Summary"
   ]
  },
  {
   "cell_type": "markdown",
   "metadata": {},
   "source": [
    "* Strings are the type of object that are sequences of characters.\n",
    "* We can only do 2 operations with strings: concatenate and star operation\n",
    "* Input is a way to get anything from the user and it only gives us a string.\n",
    "* other\n",
    "* other\n",
    "* other\n",
    "\n"
   ]
  },
  {
   "cell_type": "markdown",
   "metadata": {},
   "source": [
    "### EXERCISE 2. "
   ]
  },
  {
   "cell_type": "code",
   "execution_count": null,
   "metadata": {},
   "outputs": [],
   "source": [
    "# will add a challenge"
   ]
  }
 ],
 "metadata": {
  "kernelspec": {
   "display_name": "Python 3.7.3 64-bit",
   "language": "python",
   "name": "python37364bite72acbb0cda24fc4847ed421ff53abec"
  }
 },
 "nbformat": 4,
 "nbformat_minor": 2
}

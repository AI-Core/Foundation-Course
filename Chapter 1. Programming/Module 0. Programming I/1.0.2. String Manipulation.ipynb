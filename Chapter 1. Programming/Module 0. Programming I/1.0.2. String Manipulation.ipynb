{
 "cells": [
  {
   "cell_type": "markdown",
   "metadata": {},
   "source": [
    "## 1.0.2. String Manipulation"
   ]
  },
  {
   "cell_type": "markdown",
   "metadata": {},
   "source": [
    "## Learning Objectives\n",
    "\n",
    "\n",
    "* [Immutability](#Immutability)\n",
    "* [Slicing](#Slicing)\n",
    "* [Operators and methods](#Operators)\n",
    "* [Iteration](#Iteration)\n"
   ]
  },
  {
   "cell_type": "markdown",
   "metadata": {},
   "source": [
    "<a id='Immutability'></a>\n",
    "## Immutability"
   ]
  },
  {
   "cell_type": "markdown",
   "metadata": {},
   "source": [
    "Let's remember!\n",
    "* Strings are a **sequence** of case sensitive characters\n",
    "* They are a type of object.\n",
    "* We compare strings with ==, >, < etc.\n"
   ]
  },
  {
   "cell_type": "code",
   "execution_count": 12,
   "metadata": {},
   "outputs": [
    {
     "ename": "SyntaxError",
     "evalue": "invalid syntax (<ipython-input-12-ae62125772b6>, line 3)",
     "output_type": "error",
     "traceback": [
      "\u001b[1;36m  File \u001b[1;32m\"<ipython-input-12-ae62125772b6>\"\u001b[1;36m, line \u001b[1;32m3\u001b[0m\n\u001b[1;33m    print('What's the problem here?')\u001b[0m\n\u001b[1;37m                ^\u001b[0m\n\u001b[1;31mSyntaxError\u001b[0m\u001b[1;31m:\u001b[0m invalid syntax\n"
     ]
    }
   ],
   "source": [
    "# remember a string is in quotation marks !\n",
    "# Using single quotations can be problematic, here, the apostrophe ends the string early\n",
    "print('What's the problem here?')"
   ]
  },
  {
   "cell_type": "code",
   "execution_count": 13,
   "metadata": {},
   "outputs": [
    {
     "name": "stdout",
     "output_type": "stream",
     "text": [
      "What's the problem here?\n"
     ]
    }
   ],
   "source": [
    "# we can use double quotations\n",
    "print(\"What's the problem here?\")"
   ]
  },
  {
   "cell_type": "code",
   "execution_count": 14,
   "metadata": {},
   "outputs": [
    {
     "name": "stdout",
     "output_type": "stream",
     "text": [
      "What's the \"problem\" here?\n"
     ]
    }
   ],
   "source": [
    "# or backslash if we have single and double quotes\n",
    "print(\"What\\'s the \\\"problem\\\" here?\")"
   ]
  },
  {
   "cell_type": "markdown",
   "metadata": {},
   "source": [
    "Beyond these features, we need to know that the string objects are **immutable**. That means a string value cannot be updated. We can verify this by trying to update a part of the string which will led us to an error."
   ]
  },
  {
   "cell_type": "code",
   "execution_count": 6,
   "metadata": {},
   "outputs": [
    {
     "name": "stdout",
     "output_type": "stream",
     "text": [
      "<class 'str'>\n"
     ]
    },
    {
     "ename": "TypeError",
     "evalue": "'str' object does not support item assignment",
     "output_type": "error",
     "traceback": [
      "\u001b[1;31m---------------------------------------------------------------------------\u001b[0m",
      "\u001b[1;31mTypeError\u001b[0m                                 Traceback (most recent call last)",
      "\u001b[1;32m<ipython-input-6-369fbf15c7c3>\u001b[0m in \u001b[0;36m<module>\u001b[1;34m\u001b[0m\n\u001b[0;32m      2\u001b[0m \u001b[0mexample\u001b[0m \u001b[1;33m=\u001b[0m \u001b[1;34m\"Hello world!\"\u001b[0m\u001b[1;33m\u001b[0m\u001b[1;33m\u001b[0m\u001b[0m\n\u001b[0;32m      3\u001b[0m \u001b[0mprint\u001b[0m\u001b[1;33m(\u001b[0m\u001b[0mtype\u001b[0m\u001b[1;33m(\u001b[0m\u001b[0mexample\u001b[0m\u001b[1;33m)\u001b[0m\u001b[1;33m)\u001b[0m\u001b[1;33m\u001b[0m\u001b[1;33m\u001b[0m\u001b[0m\n\u001b[1;32m----> 4\u001b[1;33m \u001b[0mexample\u001b[0m\u001b[1;33m[\u001b[0m\u001b[1;36m0\u001b[0m\u001b[1;33m]\u001b[0m \u001b[1;33m=\u001b[0m \u001b[1;34m\"M\"\u001b[0m\u001b[1;33m\u001b[0m\u001b[1;33m\u001b[0m\u001b[0m\n\u001b[0m",
      "\u001b[1;31mTypeError\u001b[0m: 'str' object does not support item assignment"
     ]
    }
   ],
   "source": [
    "# Can not reassign \n",
    "example = \"Hello world!\"\n",
    "print(type(example))\n",
    "example[0] = \"M\""
   ]
  },
  {
   "cell_type": "code",
   "execution_count": 11,
   "metadata": {},
   "outputs": [
    {
     "name": "stdout",
     "output_type": "stream",
     "text": [
      "example_1 =  Hello world! \n",
      "example_2 =  Mello world!\n"
     ]
    }
   ],
   "source": [
    "# One possible solution is to create a new string object with necessary modifications:\n",
    "\n",
    "example_1 = \"Hello world!\"\n",
    "example_2 = \"M\"+ example_1[1:]\n",
    "print(\"example_1 = \", example_1, \"\\nexample_2 = \", example_2)"
   ]
  },
  {
   "cell_type": "code",
   "execution_count": 11,
   "metadata": {},
   "outputs": [
    {
     "ename": "TypeError",
     "evalue": "'str' object does not support item assignment",
     "output_type": "error",
     "traceback": [
      "\u001b[1;31m---------------------------------------------------------------------------\u001b[0m",
      "\u001b[1;31mTypeError\u001b[0m                                 Traceback (most recent call last)",
      "\u001b[1;32m<ipython-input-11-deb69f480f75>\u001b[0m in \u001b[0;36m<module>\u001b[1;34m\u001b[0m\n\u001b[0;32m      1\u001b[0m \u001b[0ms\u001b[0m \u001b[1;33m=\u001b[0m \u001b[1;34m\"hello\"\u001b[0m\u001b[1;33m\u001b[0m\u001b[1;33m\u001b[0m\u001b[0m\n\u001b[1;32m----> 2\u001b[1;33m \u001b[0ms\u001b[0m\u001b[1;33m[\u001b[0m\u001b[1;36m0\u001b[0m\u001b[1;33m]\u001b[0m \u001b[1;33m=\u001b[0m \u001b[1;34m'y'\u001b[0m   \u001b[1;31m# gives an error\u001b[0m\u001b[1;33m\u001b[0m\u001b[1;33m\u001b[0m\u001b[0m\n\u001b[0m",
      "\u001b[1;31mTypeError\u001b[0m: 'str' object does not support item assignment"
     ]
    }
   ],
   "source": [
    "s = \"hello\"\n",
    "s[0] = 'y'   # gives an error"
   ]
  },
  {
   "cell_type": "code",
   "execution_count": 6,
   "metadata": {},
   "outputs": [
    {
     "name": "stdout",
     "output_type": "stream",
     "text": [
      "yello\n"
     ]
    }
   ],
   "source": [
    "s = 'y'+s[1:len(s)]   # is allowed, s bound to new object\n",
    "print(s)"
   ]
  },
  {
   "cell_type": "markdown",
   "metadata": {},
   "source": [
    "<br>\n",
    "<img src=\"images/bound.png\" align=\"center\"/> <br>\n",
    "\n",
    "_Source on page 7:_ ([Click here](https://ocw.mit.edu/courses/electrical-engineering-and-computer-science/6-0001-introduction-to-computer-science-and-programming-in-python-fall-2016/lecture-slides-code/MIT6_0001F16_Lec3.pdf))<br>"
   ]
  },
  {
   "cell_type": "markdown",
   "metadata": {},
   "source": [
    "<a id='Slicing'></a>\n",
    "## Slicing"
   ]
  },
  {
   "cell_type": "markdown",
   "metadata": {},
   "source": [
    "Sometimes, we might want to get a **substring**. So we want to:\n",
    "* start at the first character and go halfway into the string or\n",
    "* take a few characters in between or\n",
    "* skip every other letter or something like that in our string.\n",
    "\n",
    "In order to do these more complicated operation, we use **slicing**. In our daily life, let's think of a birthday cake. You want only a slice of it and basically get a slice.\n",
    "<br>\n",
    "<img src=\"images/cake.jpg\" width=350 height=400 align=\"center\"/> <br>\n",
    "_Source:_ ([Click here](https://www.superhealthykids.com/wp-content/uploads/2020/05/VanillaStrawberryCake2-745x496.jpg))<br>"
   ]
  },
  {
   "cell_type": "markdown",
   "metadata": {},
   "source": [
    "Before we move one, let's look at **indexing**:\n",
    "* Since strings are a sequence of characters, we might want to get what character is at a certain position. We're going to tell Python, I want to know the character, at this certain position or at this certain index, inside my sting.\n",
    "* Square brackets used to perform **indexing** into a string to get the value at a certain index/position\n",
    "\n",
    "<img src=\"images/index.png\" align=\"center\"/>"
   ]
  },
  {
   "cell_type": "code",
   "execution_count": null,
   "metadata": {},
   "outputs": [],
   "source": [
    "s = \"abc\"\n",
    "\n",
    "print(s[0])    # evaluates to \"a\"\n",
    "print(s[1])    # evaluates to \"b\"\n",
    "print(s[2])    # evaluates to \"c\""
   ]
  },
  {
   "cell_type": "code",
   "execution_count": null,
   "metadata": {},
   "outputs": [],
   "source": [
    "print(s[-1])   # evaluates to \"c\"\n",
    "print(s[-2])   # evaluates to \"b\"\n",
    "print(s[-3])  # evaluates to \"a\""
   ]
  },
  {
   "cell_type": "markdown",
   "metadata": {},
   "source": [
    "* We can slice strings using: **[start:stop:step]**\n",
    "* If give two numbers:     **[start:stop]**, step=1 by default\n",
    "* You can also omit numbers and leave just colons\n",
    "\n",
    "This notation here should seem a little bit familiar, because we saw it last lecture when we did it with range.\n",
    "We had a start, stop, and a step. The notation was a little bit different, because, in range, we had open-close parentheses and commas in between. But except for that, this sort of works the same.\n",
    "\n",
    "<img src=\"images/substr.png\" width=350 height=400 align=\"center\"/>\n"
   ]
  },
  {
   "cell_type": "code",
   "execution_count": 16,
   "metadata": {
    "scrolled": true
   },
   "outputs": [
    {
     "name": "stdout",
     "output_type": "stream",
     "text": [
      "1\n",
      "2\n",
      "3\n",
      "4\n",
      "5\n"
     ]
    }
   ],
   "source": [
    "# range(start, stop, step)\n",
    "x = range(1, 6)\n",
    "for n in x:\n",
    "    print(n)"
   ]
  },
  {
   "cell_type": "code",
   "execution_count": null,
   "metadata": {},
   "outputs": [],
   "source": [
    "s = \"abcdefgh\"\n",
    "\n",
    "print(s[3:6])     # evaluates to \"def\", same as s[3:6:1]\n",
    "print(s[3:6:1])   # evaluates to \"def\", same as above\n",
    "print(s[3:6:2])   # evaluates to \"df\"\n",
    "print(s[::])      # evaluates to \"abcdefgh\", same as s[0:len(s):1]\n",
    "print(s[:])       # evaluates to \"abcdefgh\", same as s[0:len(s)] step=1 by default\n",
    "print(s[::-1])    # evaluates to \"hgfedbca\", same as s[-1:-(len(s)+1):-1]\n",
    "print(s[4:1:-2])  # evaluates to \"ec\"\n",
    "\n",
    "x = range(1)\n",
    "print(x)\n"
   ]
  },
  {
   "cell_type": "markdown",
   "metadata": {},
   "source": [
    "**Your Turn!**\n",
    "\n",
    "What does the code below print? Guess and run the cell to see the answer!"
   ]
  },
  {
   "cell_type": "code",
   "execution_count": null,
   "metadata": {},
   "outputs": [],
   "source": [
    "s = \"6.00 is 6.0001 and 6.0002\"\n",
    "new_str = \"\"\n",
    "new_str += s[-1]\n",
    "new_str += s[0]\n",
    "new_str += s[4::30]    \n",
    "new_str += s[13:10:-1]\n",
    "print(new_str)"
   ]
  },
  {
   "cell_type": "markdown",
   "metadata": {},
   "source": [
    "<a id='Operators'></a>\n",
    "## Operators and methods"
   ]
  },
  {
   "cell_type": "markdown",
   "metadata": {},
   "source": [
    "We can do more than just concatenate two strings together or do these little tests on them. Today we're going to start introducing the idea of a **function** or a procedure. We'll focus on function next lecture but for now, you can think of a **function** as sort of a procedure that does something for you. \n",
    "\n",
    "We'll look at some functions in this notebook and you can find the rest at:\n",
    "https://docs.python.org/2/library/stdtypes.html#string-methods\n",
    "\n",
    "<br>\n",
    "<img src=\"images/function.png\" width=300 height=250  align=\"center\"/> <br>\n",
    "\n",
    "[Source](https://medium.com/@kuanzhasulan/python-functions-352137dd4d84)<br>\n",
    "\n",
    "As seen above, a function basically takes in an input and gives an output. It does some calculations or operations with the input and we get an output in return. Let's think about a snack machine. Here are the arguments according to the diagram shown above:\n",
    "* **Input:** putting money, pushing the button\n",
    "* **Function:** the machine gets what you wanted and a specific item drops into the output slot \n",
    "* **Output:** a specific item\n",
    "<br>\n",
    "<img src=\"images/snack.jpg\" width=200 height=200  align=\"center\"/> <br>\n",
    "\n",
    "[Source for the machine](https://www.candymachines.com/Seaga-Infinity-INF5S-Snack-Vending-Machine-P2641.aspx)<br>\n",
    "\n",
    "\n",
    "### len()\n",
    "* len() is a function used to retrieve the **length** of the string in the parentheses. That's going to tell you how many characters are in the string. These characters are going to be letters, digits, special characters, spaces, and so on. So it's just going to count how many characters are in a string."
   ]
  },
  {
   "cell_type": "code",
   "execution_count": 7,
   "metadata": {},
   "outputs": [
    {
     "data": {
      "text/plain": [
       "3"
      ]
     },
     "execution_count": 7,
     "metadata": {},
     "output_type": "execute_result"
    }
   ],
   "source": [
    "s = \"abc\"    # define a string variable called 's' \n",
    "len(s)       # evaluates to 3"
   ]
  },
  {
   "cell_type": "markdown",
   "metadata": {},
   "source": [
    "### upper()"
   ]
  },
  {
   "cell_type": "code",
   "execution_count": 17,
   "metadata": {},
   "outputs": [
    {
     "name": "stdout",
     "output_type": "stream",
     "text": [
      "ABCDEFGH\n",
      "abcdefgh\n"
     ]
    }
   ],
   "source": [
    "# .upper() method makes all caps (not inplace)\n",
    "print(s.upper())\n",
    "print(s)"
   ]
  },
  {
   "cell_type": "code",
   "execution_count": 19,
   "metadata": {},
   "outputs": [
    {
     "name": "stdout",
     "output_type": "stream",
     "text": [
      "abcdefgh\n",
      "ABCDEFGH\n"
     ]
    }
   ],
   "source": [
    "# if we want to change x itself, we must reassign it\n",
    "print(s)\n",
    "\n",
    "s = s.upper()\n",
    "\n",
    "print(s)"
   ]
  },
  {
   "cell_type": "markdown",
   "metadata": {},
   "source": [
    "### lower()"
   ]
  },
  {
   "cell_type": "code",
   "execution_count": 20,
   "metadata": {
    "scrolled": true
   },
   "outputs": [
    {
     "name": "stdout",
     "output_type": "stream",
     "text": [
      "abcdefgh\n"
     ]
    }
   ],
   "source": [
    "# .lower() method makes all lowercase (not inplace)\n",
    "print(s.lower())"
   ]
  },
  {
   "cell_type": "markdown",
   "metadata": {},
   "source": [
    "### split()\n",
    "The split method breaks up a string at the specified separator and returns a list of strings. \n",
    "<br>This method takes a separator input (optional)- It is a delimiter. The string splits at the specified separator.\n",
    "If the separator is not specified, any whitespace (space, newline etc.) string is a separator."
   ]
  },
  {
   "cell_type": "code",
   "execution_count": 15,
   "metadata": {},
   "outputs": [
    {
     "name": "stdout",
     "output_type": "stream",
     "text": [
      "['Hello', 'World']\n",
      "['Hell', ' W', 'rld']\n"
     ]
    }
   ],
   "source": [
    "x = \"Hello World\"\n",
    "\n",
    "# split() method splits on space as default or desired separator\n",
    "print(x.split())\n",
    "\n",
    "# we gave a specific seperator \"o\"\n",
    "print(x.split(\"o\"))"
   ]
  },
  {
   "cell_type": "code",
   "execution_count": 19,
   "metadata": {},
   "outputs": [
    {
     "name": "stdout",
     "output_type": "stream",
     "text": [
      "['Milk,', 'Chicken,', 'Bread']\n",
      "['Milk', 'Chicken', 'Bread']\n",
      "['Milk, Chicken, Bread']\n"
     ]
    }
   ],
   "source": [
    "grocery = 'Milk, Chicken, Bread'\n",
    "\n",
    "# splits at space as default\n",
    "print(grocery.split())\n",
    "\n",
    "# splits at comma+space ', '\n",
    "print(grocery.split(', '))\n",
    "\n",
    "# Splitting at ':'\n",
    "print(grocery.split(':'))"
   ]
  },
  {
   "cell_type": "markdown",
   "metadata": {},
   "source": [
    "<img src=\"images/split.png\" align=\"center\"/> "
   ]
  },
  {
   "cell_type": "markdown",
   "metadata": {},
   "source": [
    "### .format"
   ]
  },
  {
   "cell_type": "markdown",
   "metadata": {},
   "source": [
    "* The .format method (A method is a function associated with an object) is a way of inserting something into a string.\n",
    "* This can be other strings or a variable taken from elsewhere in your code.\n",
    "* The syntax used is detailed below.\n",
    "* When using .format to add in a float to a string, we can specify the width and precision of the decimal."
   ]
  },
  {
   "cell_type": "code",
   "execution_count": 23,
   "metadata": {},
   "outputs": [
    {
     "name": "stdout",
     "output_type": "stream",
     "text": [
      "The fox brown quick\n"
     ]
    }
   ],
   "source": [
    "# default prints in order\n",
    "print(\"The {} {} {}\".format(\"fox\", \"brown\", \"quick\"))"
   ]
  },
  {
   "cell_type": "code",
   "execution_count": 24,
   "metadata": {},
   "outputs": [
    {
     "name": "stdout",
     "output_type": "stream",
     "text": [
      "The quick brown fox\n"
     ]
    }
   ],
   "source": [
    "# can index\n",
    "print(\"The {2} {1} {0}\".format(\"fox\", \"brown\", \"quick\"))"
   ]
  },
  {
   "cell_type": "code",
   "execution_count": 25,
   "metadata": {},
   "outputs": [
    {
     "name": "stdout",
     "output_type": "stream",
     "text": [
      "The quick brown fox\n"
     ]
    }
   ],
   "source": [
    "# can use variable keys for readability\n",
    "print(\"The {q} {b} {f}\".format(f=\"fox\", b=\"brown\", q=\"quick\"))"
   ]
  },
  {
   "cell_type": "code",
   "execution_count": 26,
   "metadata": {},
   "outputs": [
    {
     "name": "stdout",
     "output_type": "stream",
     "text": [
      "0.1287001287001287\n",
      "\n",
      "The result was 0.129\n",
      "The result was 0.129\n",
      "The result was 0.1287001\n",
      "The result was    0.129\n"
     ]
    }
   ],
   "source": [
    "# create long decimal\n",
    "result = 100/777\n",
    "print(result, end = \"\\n\\n\")\n",
    "\n",
    "# use value:width.precisionf for formatting\n",
    "# width is minimum length of string, padded with whitespace if necessary\n",
    "# precision is decimal places\n",
    "print(\"The result was {:1.3f}\".format(result))\n",
    "print(\"The result was {r:1.3f}\".format(r=result))\n",
    "print(\"The result was {r:1.7f}\".format(r=result))\n",
    "print(\"The result was {r:8.3f}\".format(r=result))"
   ]
  },
  {
   "cell_type": "markdown",
   "metadata": {},
   "source": [
    "<a id='Iteration'></a>\n",
    "## Iteration"
   ]
  },
  {
   "cell_type": "markdown",
   "metadata": {},
   "source": [
    "We can apply for loops, very easily, to write very nice, readable code when dealing with strings.\n",
    "\n",
    "* for LOOPS RECAP\n",
    "\n",
    "for loops have a **loop variable** that iterates over a set of values:\n",
    "<br><img src=\"images/for.png\" width=600 height=400 align=\"center\"/> <br>\n",
    "\n",
    "* **range** is a way to iterate over numbers, but a for loop variable can **iterate over any set of values**, not just numbers!\n",
    "\n",
    "These two code snippets below do the same thing but the bottom one is more “pythonic”:"
   ]
  },
  {
   "cell_type": "code",
   "execution_count": 29,
   "metadata": {},
   "outputs": [
    {
     "name": "stdout",
     "output_type": "stream",
     "text": [
      "There is an i or u\n",
      "There is an i or u\n"
     ]
    }
   ],
   "source": [
    "s = \"abcdefghi\"\n",
    "\n",
    "for index in range(len(s)):\n",
    "    if s[index] == 'i' or s[index] == 'u':\n",
    "        print(\"There is an i or u\")\n",
    "     \n",
    "        \n",
    "for char in s:\n",
    "    if char == 'i' or char == 'u':\n",
    "        print(\"There is an i or u\")"
   ]
  },
  {
   "cell_type": "markdown",
   "metadata": {},
   "source": [
    "### Note: Brief description of iterables in Python\n",
    "<br>An iterable is any Python object capable of returning its members one at a time, permitting it to be iterated over in a loop. Most of the objects of Python are iterable. All the sequences like Python String, Python List, Python Dictionary etc are iterable. Strings have some characters as its members and we can iterate its members in a loop. [Click here for more information about iterables](https://www.pythonlikeyoumeanit.com/Module2_EssentialsOfPython/Iterables.html#:~:text=Definition%3A,over%20in%20a%20for%2Dloop)"
   ]
  },
  {
   "cell_type": "code",
   "execution_count": 14,
   "metadata": {
    "scrolled": true
   },
   "outputs": [
    {
     "name": "stdout",
     "output_type": "stream",
     "text": [
      "L\n",
      "o\n",
      "n\n",
      "d\n",
      "o\n",
      "n\n"
     ]
    }
   ],
   "source": [
    "string = 'London'\n",
    "\n",
    "for member in string:\n",
    "    print(member)"
   ]
  },
  {
   "cell_type": "markdown",
   "metadata": {},
   "source": [
    "<br>Are you confused? Now, let's give an example from daily life. Suppose, a group of 5 boys are standing in a line. You're pointing at the first boy and ask him about his name. Then, he replied. After that, you ask the next boy and so on. The below picture will illustrate the thing.\n",
    "<br>\n",
    "<img src=\"images/iterator.jpg\" width=500 height=600 align=\"center\"/> <br>\n",
    "\n",
    "([Source](https://medium.com/@kuanzhasulan/python-functions-352137dd4d84))<br>\n",
    "In this case, you are the **Iterator**!!!! Obviously, the group of boys is the **iterable** element.\n",
    "\n",
    "---"
   ]
  },
  {
   "cell_type": "markdown",
   "metadata": {},
   "source": [
    "### CODE EXAMPLE: ROBOT CHEERLEADERS\n",
    "\n",
    "<br>\n",
    "<img src=\"images/robotcheer.gif\" align=\"center\"/><br>\n",
    "\n",
    "_Source:_  ([Click here](https://www.programmersought.com/images/613/1e4c176c84dfdfc4a5eaa207fda3a05d.gif))<br>"
   ]
  },
  {
   "cell_type": "code",
   "execution_count": 32,
   "metadata": {},
   "outputs": [
    {
     "name": "stdout",
     "output_type": "stream",
     "text": [
      "I will cheer for you! Enter a word: ROBOTS\n",
      "Enthusiasm level (1-10): 6\n",
      "Give me an R! R\n",
      "Give me an O! O\n",
      "Give me a B! B\n",
      "Give me an O! O\n",
      "Give me a T! T\n",
      "Give me an S! S\n",
      "What does that spell?\n",
      "ROBOTS !!!\n",
      "ROBOTS !!!\n",
      "ROBOTS !!!\n",
      "ROBOTS !!!\n",
      "ROBOTS !!!\n",
      "ROBOTS !!!\n"
     ]
    }
   ],
   "source": [
    "an_letters = \"aefhilmnorsxAEFHILMNORSX\"\n",
    "\n",
    "word = input(\"I will cheer for you! Enter a word: \")\n",
    "times = int(input(\"Enthusiasm level (1-10): \"))\n",
    "\n",
    "i = 0\n",
    "while i < len(word):\n",
    "    char = word[i]\n",
    "    if char in an_letters:\n",
    "        print(\"Give me an \" + char + \"! \" + char)\n",
    "    else:\n",
    "        print(\"Give me a \" + char + \"! \" + char)\n",
    "    i += 1\n",
    "\n",
    "print(\"What does that spell?\")\n",
    "for i in range(times):\n",
    "    print(word, \"!!!\")\n"
   ]
  },
  {
   "cell_type": "markdown",
   "metadata": {},
   "source": [
    "<br>\n",
    "<img src=\"images/robot.png\" align=\"center\"/>\n",
    "\n",
    "_Source on page 10:_ ([Click here](https://ocw.mit.edu/courses/electrical-engineering-and-computer-science/6-0001-introduction-to-computer-science-and-programming-in-python-fall-2016/lecture-slides-code/MIT6_0001F16_Lec3.pdf))<br>\n",
    "\n",
    "**Your Turn!**\n",
    "\n",
    "Can you change the code example \"ROBOT CHEERLEADERS\" according to the image above? Simply add for loop!"
   ]
  },
  {
   "cell_type": "code",
   "execution_count": null,
   "metadata": {},
   "outputs": [],
   "source": [
    "## Your code is here!\n",
    "\n"
   ]
  },
  {
   "cell_type": "markdown",
   "metadata": {},
   "source": [
    "**Your Turn!**\n",
    "\n",
    "How many times will the code below print \"common letter\"? Guess and run the cell to see the answer!"
   ]
  },
  {
   "cell_type": "code",
   "execution_count": null,
   "metadata": {},
   "outputs": [],
   "source": [
    "s1 = \"mit u rock\"\n",
    "s2 = \"i rule mit\"\n",
    "if len(s1) == len(s2):\n",
    "    for char1 in s1:\n",
    "        for char2 in s2:\n",
    "            if char1 == char2:\n",
    "                print(\"common letter\")\n",
    "                break"
   ]
  },
  {
   "cell_type": "markdown",
   "metadata": {},
   "source": [
    "### Summary"
   ]
  },
  {
   "cell_type": "markdown",
   "metadata": {},
   "source": [
    "* Strings are immutable  – cannot be modified \n",
    "* We can slice strings using [start:stop:step]\n",
    "* We can do many operations with strings such as len(), indexing, upper(), lower(), .format etc.\n",
    "* We can apply for loops, very easily, to write very nice, readable code when dealing with strings."
   ]
  },
  {
   "cell_type": "markdown",
   "metadata": {},
   "source": [
    "## Exercise: Some Manipulations with Strings\n",
    "\n",
    "### Question 1:\n",
    "Write a Python program to get two strings as input. As the result, separate them by a space and swap the first two characters of each string.\n",
    "\n",
    "* Sample String 1 Input : 'abc'\n",
    "* Sample String 2 Input : 'xyz'\n",
    "* Expected Result : 'xyc abz'"
   ]
  },
  {
   "cell_type": "code",
   "execution_count": null,
   "metadata": {},
   "outputs": [],
   "source": [
    "## Code Here!\n"
   ]
  },
  {
   "cell_type": "markdown",
   "metadata": {},
   "source": [
    "### Question 2:\n",
    "Write a Python program that takes input from the user and displays that input back in upper and lower cases.\n",
    "\n",
    "* Sample String Input : 'RestaRt'\n",
    "* Expected Result Upper : 'RESTART'\n",
    "* Expected Result Lower: 'restart'"
   ]
  },
  {
   "cell_type": "code",
   "execution_count": null,
   "metadata": {},
   "outputs": [],
   "source": [
    "## Code Here!\n"
   ]
  },
  {
   "cell_type": "markdown",
   "metadata": {},
   "source": [
    "### Question 3:\n",
    "Write a Python program to get an input string from a given string where all occurrences of its first char have been changed to '$', __except the first char itself__.\n",
    "\n",
    "* Sample String Input : 'restart'\n",
    "* Expected Result : 'resta$t'\n",
    "\n",
    "Attention: We didn't change the first character 'r' here. We only changed the next one.\n",
    "\n",
    "* Another Sample String Input : 'pencil'\n",
    "* Another Expected Result : 'pencil'\n",
    "\n",
    "Attention: We didn't change the string. Because the first char is 'p' and we only have one 'p' in our input. We don't have any next one. So we couldn't change any char in 'pencil'."
   ]
  },
  {
   "cell_type": "code",
   "execution_count": null,
   "metadata": {},
   "outputs": [],
   "source": [
    "## Code Here!\n"
   ]
  }
 ],
 "metadata": {
  "kernelspec": {
   "display_name": "Python 3.7.3 64-bit",
   "language": "python",
   "name": "python37364bite72acbb0cda24fc4847ed421ff53abec"
  },
  "language_info": {
   "codemirror_mode": {
    "name": "ipython",
    "version": 3
   },
   "file_extension": ".py",
   "mimetype": "text/x-python",
   "name": "python",
   "nbconvert_exporter": "python",
   "pygments_lexer": "ipython3",
   "version": "3.7.3"
  }
 },
 "nbformat": 4,
 "nbformat_minor": 2
}

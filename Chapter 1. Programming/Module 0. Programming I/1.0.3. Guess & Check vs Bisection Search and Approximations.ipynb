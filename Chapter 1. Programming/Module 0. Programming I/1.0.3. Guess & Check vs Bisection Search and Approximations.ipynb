{
 "cells": [
  {
   "cell_type": "markdown",
   "metadata": {},
   "source": [
    "## 1.0.3. Guess & Check vs Bisection Search and Approximations"
   ]
  },
  {
   "cell_type": "markdown",
   "metadata": {},
   "source": [
    "_What will be covered in this notebook?_\n",
    "\n",
    "* Use the example of functions that aim to compute the cube root of a given input\n",
    "* Guess & Check solver (exhaustive enumeration)\n",
    "* Bisection Search solver\n",
    "* Introduce approximations\n",
    "* Compare performance of guess and check vs bisection\n",
    "\n",
    "_**Quick recap of the last module:**_\n",
    "* \n",
    "* \n",
    "* \n",
    "* \n",
    "\n"
   ]
  },
  {
   "cell_type": "markdown",
   "metadata": {},
   "source": [
    "So far, we know integer, floats, Booleans. We know a bit of string manipulation, math operations. We added, recently, these conditionals and branching to write slightly more interesting programs. Then we have loops, for and while loops to add interesting and more complicated programs. \n",
    "<br>Now, we're going to look at three algorithms, all in the context of solving one problem, which is finding the cube root.\n",
    "1. Guess and check\n",
    "2. Approximation algorithm\n",
    "3. Bisection search\n",
    "\n",
    "## 1. Guess and Check\n",
    "* You might have done this in math, in high school. \n",
    "* The process below also called **exhaustive enumeration**: You guess the solution and do it systematically until you find a solution or you've guessed all the possible values, you've **exhausted all of your search space.**\n",
    "\n",
    "* Given a problem, the steps you need to follow are:\n",
    "    * You are able to **guess a value** for solution (let's say, find the cube root of a number)\n",
    "    * You are able to **check if the solution is correct**\n",
    "    * Keep guessing until find solution or guessed all values\n",
    "\n",
    "<br>Here's a very simple guess and check code that finds the cube root of a number. So we're trying to find the cube root of 8. \n",
    "* Our cube is 8. \n",
    "* We're going to have a for loop that says, we're going to start from 0 and go all the way up to 8. \n",
    "* For every one of these numbers, we're going to say, is our guess to the power of 3 equal to the cube 8? \n",
    "* And if it is, we're going to print out this message.\n",
    "\n"
   ]
  },
  {
   "cell_type": "code",
   "execution_count": 2,
   "metadata": {},
   "outputs": [
    {
     "name": "stdout",
     "output_type": "stream",
     "text": [
      "Cube root of 8 is 2\n"
     ]
    }
   ],
   "source": [
    "cube = 8\n",
    "for guess in range(cube+1):                       # remember, range 0..9 means [0,1,2,3,4,5,6,7,8]\n",
    "    if guess**3 == cube:                          # check if 0*0*0 = 8\n",
    "        print(\"Cube root of\", cube, \"is\", guess)"
   ]
  },
  {
   "cell_type": "markdown",
   "metadata": {},
   "source": [
    "Pretty simple, however, this code is not very user friendly, right? If the user wants to find the cube root of 9, they're not going to get any output, because we never print anything in the case of the guess not being a perfect cube.\n",
    "<br>So we can modify the code a little bit to add two extra features: \n",
    "1. We're going to be able to deal with negative cubes.\n",
    "2. We're going to tell the user, if the cube is not a perfect cube: \"hey, this cube is not a perfect cube.\".\n",
    "\n",
    "<img src=\"images/perfect.png\" align=\"center\"/><br>\n",
    "Source: ([Click here](https://qph.fs.quoracdn.net/main-qimg-d3bdbac6571b0857664fc16ce5523d75.webp))"
   ]
  },
  {
   "cell_type": "code",
   "execution_count": 4,
   "metadata": {},
   "outputs": [
    {
     "name": "stdout",
     "output_type": "stream",
     "text": [
      "Cube root of 8 is 2\n"
     ]
    }
   ],
   "source": [
    "cube = 8\n",
    "for guess in range(abs(cube)+1):   # abs() return the absolute value of the given number, we applied first feature\n",
    "    if guess**3 >= abs(cube):\n",
    "        break                      # once we've found the cubed root of this number 8, there's no need to keep searching, break\n",
    "if guess**3 != abs(cube):\n",
    "    print(cube, 'is not a perfect cube')    # applied second feature\n",
    "else:\n",
    "    if cube < 0:                   # applied first feature\n",
    "        guess = -guess        \n",
    "    print('Cube root of '+str(cube)+' is '+str(guess))"
   ]
  },
  {
   "cell_type": "markdown",
   "metadata": {},
   "source": [
    "### Your Turn!\n",
    "Go and try to change cube variable in the example above. 9 is not a perfect cube so we need to see the warning. Try and run the code."
   ]
  },
  {
   "cell_type": "markdown",
   "metadata": {},
   "source": [
    "## 2. Approximation Algorithm\n"
   ]
  },
  {
   "cell_type": "code",
   "execution_count": null,
   "metadata": {},
   "outputs": [],
   "source": []
  },
  {
   "cell_type": "code",
   "execution_count": null,
   "metadata": {},
   "outputs": [],
   "source": []
  },
  {
   "cell_type": "code",
   "execution_count": null,
   "metadata": {},
   "outputs": [],
   "source": []
  },
  {
   "cell_type": "code",
   "execution_count": null,
   "metadata": {},
   "outputs": [],
   "source": []
  },
  {
   "cell_type": "markdown",
   "metadata": {},
   "source": [
    "### Summary\n",
    "* \n",
    "* \n",
    "* \n",
    "* \n",
    "* "
   ]
  },
  {
   "cell_type": "markdown",
   "metadata": {},
   "source": [
    "## Exercise 4.\n"
   ]
  },
  {
   "cell_type": "markdown",
   "metadata": {},
   "source": [
    "Explain the exercise!"
   ]
  },
  {
   "cell_type": "code",
   "execution_count": null,
   "metadata": {},
   "outputs": [],
   "source": [
    "# Your code is here!"
   ]
  }
 ],
 "metadata": {
  "kernelspec": {
   "display_name": "Python 3.7.3 64-bit",
   "language": "python",
   "name": "python37364bite72acbb0cda24fc4847ed421ff53abec"
  },
  "language_info": {
   "codemirror_mode": {
    "name": "ipython",
    "version": 3
   },
   "file_extension": ".py",
   "mimetype": "text/x-python",
   "name": "python",
   "nbconvert_exporter": "python",
   "pygments_lexer": "ipython3",
   "version": "3.7.3"
  }
 },
 "nbformat": 4,
 "nbformat_minor": 2
}

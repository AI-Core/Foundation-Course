{
 "metadata": {
  "language_info": {
   "codemirror_mode": {
    "name": "ipython",
    "version": 3
   },
   "file_extension": ".py",
   "mimetype": "text/x-python",
   "name": "python",
   "nbconvert_exporter": "python",
   "pygments_lexer": "ipython3",
   "version": 3
  },
  "orig_nbformat": 2
 },
 "nbformat": 4,
 "nbformat_minor": 2,
 "cells": [
  {
   "source": [
    "# 1.2.1. Introduction to Error Handling\n",
    "\n",
    "### Learning Objectives:\n",
    "- [Introduction to Error Handling](#Introduction-to-Error-Handling)\n",
    "- ['try-except' block]('try\\-except'-block)\n",
    "- []()"
   ],
   "cell_type": "markdown",
   "metadata": {}
  },
  {
   "source": [
    "## Error/Exception Handling\n",
    "- Code does not always run smoothly as we surely all know by now: sometimes it throws errors.\n",
    "- However, when there is an error Python will stop executing the code there and then, preventing any subsequent code from running.\n",
    "- Hence, we use error and exception handling to circumvent this, and allow blocks of our code to run despite errors.\n",
    "- We will learn 3 new keywords here, __try__, __except__ and __finally__.\n",
    "<br><br>\n",
    "- try clause: this indicates the block of code we want to attempt to run, it will only finish if there are no errors.\n",
    "- except clause: if there is an error in the try clause, the execution will stop there and the except clause will be run.\n",
    "- finally clause: this is the block of code to be run regardless of any errors.\n",
    "<br><br>\n",
    "This is best seen using an example:"
   ],
   "cell_type": "markdown",
   "metadata": {}
  },
  {
   "cell_type": "code",
   "execution_count": null,
   "metadata": {},
   "outputs": [],
   "source": [
    "# here we define a simple adding function for two numbers\n",
    "def add_pair(x,y):\n",
    "    return x + y\n",
    "\n",
    "# this function call works\n",
    "add_pair(1,3)\n",
    "\n",
    "# this throws a TypeError, as we specified too many arguments\n",
    "add_pair(1,2,3)\n",
    "\n",
    "# this line is not executed, as the code threw an error\n",
    "add_pair(3,4)"
   ]
  },
  {
   "cell_type": "code",
   "execution_count": null,
   "metadata": {},
   "outputs": [],
   "source": [
    "# we can see that this would have worked, if the code had continued to run\n",
    "add_pair(3,4)"
   ]
  },
  {
   "cell_type": "code",
   "execution_count": null,
   "metadata": {},
   "outputs": [],
   "source": [
    "# we can get around this using a try except statement\n",
    "# execution switches to except statement if try statement throws error\n",
    "\n",
    "# define the function\n",
    "def add_pair(x,y):\n",
    "    return x + y\n",
    "\n",
    "\n",
    "try: # try the block of code\n",
    "    result = add_pair(1,2,3)\n",
    "    print(\"It worked\")\n",
    "    print(\"The result is {}\".format(result))\n",
    "\n",
    "except: # the block of code to run in case of an error\n",
    "    print(\"There is something wrong here\")"
   ]
  },
  {
   "cell_type": "code",
   "execution_count": null,
   "metadata": {},
   "outputs": [],
   "source": [
    "# when the code executes correctly, the try statement completes\n",
    "\n",
    "def add_pair(x,y):\n",
    "    return x + y\n",
    "\n",
    "try:\n",
    "    result = add_pair(1,3)\n",
    "    print(\"It worked\")\n",
    "    print(\"The result is {}\".format(result))\n",
    "\n",
    "except:\n",
    "    print(\"There is something wrong here\")"
   ]
  },
  {
   "source": [
    "## Except clauses for specific errors\n",
    "- We can also add in except clauses for specific errors such as SyntaxError or TypeError (see Python documentation for a full list of errors).<br>\n",
    "- __It is almost always better to use except to get around specific errors rather than using a 'catch-all' except clause, as a general except clause can easily hide genuine errors.__\n",
    "- Check Python documentation for a full list of errors (link in Further Reading)."
   ],
   "cell_type": "markdown",
   "metadata": {}
  },
  {
   "source": [
    "def add_pair(x,y):\n",
    "    return x + y\n",
    "\n",
    "try:\n",
    "    result = add_pair(1,2,3)\n",
    "    print(\"It worked\")\n",
    "    print(\"The result is {}\".format(result))\n",
    "\n",
    "except TypeError: # executed in case of a TypeError\n",
    "    print(\"There was a type error\")\n",
    "    \n",
    "except NameError: # executed in case of a NameError \n",
    "    print(\"You used the wrong name\")"
   ],
   "cell_type": "code",
   "metadata": {},
   "execution_count": null,
   "outputs": []
  },
  {
   "source": [
    "def add_pair(x,y):\n",
    "    return x + y\n",
    "\n",
    "try: # note the spelling mistake \n",
    "    result = add_pai(1,2,3)\n",
    "    print(\"It worked\")\n",
    "    print(\"The result is {}\".format(result))\n",
    "\n",
    "except TypeError: # executed in case of a TypeError\n",
    "    print(\"There was a type error\")\n",
    "    \n",
    "except NameError: # executed in case of a NameError \n",
    "    print(\"You used the wrong name\")"
   ],
   "cell_type": "code",
   "metadata": {},
   "execution_count": null,
   "outputs": []
  },
  {
   "source": [
    "A finally clause is executed regardless of whether an error occurs or not in the try statement:"
   ],
   "cell_type": "markdown",
   "metadata": {}
  },
  {
   "cell_type": "code",
   "execution_count": null,
   "metadata": {},
   "outputs": [],
   "source": [
    "def add_pair(x,y):\n",
    "    return x + y\n",
    "\n",
    "try:\n",
    "    result = add_pair(1,3)\n",
    "    print(\"It worked\")\n",
    "    print(\"The result is {}\".format(result))\n",
    "\n",
    "except TypeError:\n",
    "    print(\"There was a type error\")\n",
    "    \n",
    "except NameError: \n",
    "    print(\"You used the wrong name\")\n",
    "\n",
    "finally: # executed with or without errors in try statement\n",
    "    print(\"This block of code is ALWAYS executed\")"
   ]
  },
  {
   "cell_type": "code",
   "execution_count": null,
   "metadata": {},
   "outputs": [],
   "source": [
    "def add_pair(x,y):\n",
    "    return x + y\n",
    "\n",
    "try:\n",
    "    result = add_pair(1,2,3)\n",
    "    print(\"It worked\")\n",
    "    print(\"The result is {}\".format(result))\n",
    "\n",
    "except TypeError:\n",
    "    print(\"There was a type error\")\n",
    "    \n",
    "except NameError: \n",
    "    print(\"You used the wrong name\")\n",
    "\n",
    "finally: # executed with or without errors in try statement\n",
    "    print(\"This block of code is ALWAYS executed\")"
   ]
  },
  {
   "source": [
    "If there is an error in the finally statement, it will still throw an error after executing the try statement - Python cannot execute erroneous code:"
   ],
   "cell_type": "markdown",
   "metadata": {}
  },
  {
   "cell_type": "code",
   "execution_count": null,
   "metadata": {},
   "outputs": [],
   "source": [
    "def add_pair(x,y):\n",
    "    return x + y\n",
    "\n",
    "try:\n",
    "    result = add_pair(1,3)\n",
    "    print(\"It worked\")\n",
    "    print(\"The result is {}\".format(result))\n",
    "\n",
    "except TypeError:\n",
    "    print(\"There was a type error\")\n",
    "    \n",
    "except NameError: \n",
    "    print(\"You used the wrong name\")\n",
    "\n",
    "finally: # executed with or without errors in try statement\n",
    "    prin(\"This block of code is ALWAYS executed\")\n",
    "# typo means finally statement cannot execute"
   ]
  }
 ]
}
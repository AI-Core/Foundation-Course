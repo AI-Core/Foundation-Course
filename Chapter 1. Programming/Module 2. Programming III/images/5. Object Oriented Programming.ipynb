{
 "cells": [
  {
   "cell_type": "markdown",
   "metadata": {},
   "source": [
    "# 1.2.0. Object-Oriented Programming"
   ]
  },
  {
   "cell_type": "markdown",
   "metadata": {},
   "source": [
    "### Learning objectives\n",
    "\n",
    "- [Procedural vs. Object-Oriented Programming](#Procedural-vs.-Object\\-Oriented-Programming)\n",
    "- [Objects: A Deeper Dive](#Objects:-A-Deeper-Dive)\n",
    "- [Introduction to Classes](#Introduction-to-Classes)\n",
    "- [OOP Abstraction & Decomposition](#OOP-Abstraction-&-Decomposition)\n",
    "- [Objects: Inheritance](#Objects:-Inheritance)\n",
    "\n",
    "- Understand the basics of why object-oriented programming is used.\n",
    "- Understand the nature of classes, attributes and methods.\n",
    "- Know how to create a class.\n",
    "- Know how to add attributes.\n",
    "- Know how to add methods.\n",
    "- Understand the nature of an object.\n",
    "- Know how to instantiate a class.\n",
    "- Understand class inheritance.\n",
    "- Know how to use base classes to create derived classes."
   ]
  },
  {
   "cell_type": "markdown",
   "metadata": {},
   "source": [
    "# Procedural vs. Object-Oriented Programming\n",
    "\n",
    "Most programming you have done up to now is __procedural__. In simple terms, this is simply carrying out a procedure with a logical sequence of steps. In many cases our code can instead be more neatly organised on a conceptual level by grouping related functions together into what we call a __class__. Classes are like object constructors, or rather like a blueprint for creating objects. But what exactly does this mean? When working with classes, our programming is referred to as __object-oriented programming (OOP)__.\n",
    "\n",
    "<img style='display: block; margin-left: auto; margin-right: auto; width: 50%;' src='https://user.oc-static.com/upload/2017/10/19/15084493877125_C03p01ch03-procedural-vs-oop.png'>\n",
    "\n",
    "[Source](https://user.oc-static.com/upload/2017/10/19/15084493877125_C03p01ch03-procedural-vs-oop.png)\n",
    "\n",
    "Procedural programming and OOP are known as __programming paradigms__. This simply means different ways of structuring your code, so don't worry about it too much. Before learning about classes, let us take a closer look at what Python objects actually are. \n"
   ]
  },
  {
   "source": [
    "# Objects: A Deeper Dive"
   ],
   "cell_type": "markdown",
   "metadata": {}
  },
  {
   "source": [
    "So far, we have taken a brief look at what objects are. As mentioned before, almost everything is an object in Python. All objects have types, and can still vary within their own type. For example, within this framework, I am an object of type person. This means I am the same _type_ as all other people, although every object of type person is a little bit different. Every object is referred as  Is that all we need to keep track of when dealing with objects?\n",
    "\n",
    "## NO!\n",
    "\n",
    "Let us break down the internal structure of different object types. Let us look at lists in particular. They are non-scalar objects as they can be subdivided into their individual elements. Certain object types contain what are known as __methods__. Methods are functions that 'belong to' an object. You have already seen some of these methods in play with lists, as shown below with lists:"
   ],
   "cell_type": "markdown",
   "metadata": {}
  },
  {
   "cell_type": "code",
   "execution_count": 2,
   "metadata": {},
   "outputs": [
    {
     "output_type": "stream",
     "name": "stdout",
     "text": [
      "[1, 2, 3, [4, 5], 6, 7, 8, 9]\n"
     ]
    }
   ],
   "source": [
    "# Defining lists and calling list methods\n",
    "a, b, c = [1, 2, 3], [4, 5], [6, 7, 8, 9]\n",
    "a.append(b)\n",
    "a.extend(c)\n",
    "print(a)"
   ]
  },
  {
   "cell_type": "code",
   "execution_count": 7,
   "metadata": {},
   "outputs": [
    {
     "output_type": "error",
     "ename": "AttributeError",
     "evalue": "'int' object has no attribute 'extend'",
     "traceback": [
      "\u001b[0;31m---------------------------------------------------------------------------\u001b[0m",
      "\u001b[0;31mAttributeError\u001b[0m                            Traceback (most recent call last)",
      "\u001b[0;32m<ipython-input-7-897b0b81e24e>\u001b[0m in \u001b[0;36m<module>\u001b[0;34m\u001b[0m\n\u001b[1;32m      1\u001b[0m \u001b[0;31m# Trying to call list methods on objects of another type\u001b[0m\u001b[0;34m\u001b[0m\u001b[0;34m\u001b[0m\u001b[0;34m\u001b[0m\u001b[0m\n\u001b[1;32m      2\u001b[0m \u001b[0ma\u001b[0m\u001b[0;34m,\u001b[0m \u001b[0mb\u001b[0m \u001b[0;34m=\u001b[0m \u001b[0;36m2\u001b[0m\u001b[0;34m,\u001b[0m \u001b[0;36m3\u001b[0m\u001b[0;34m\u001b[0m\u001b[0;34m\u001b[0m\u001b[0m\n\u001b[0;32m----> 3\u001b[0;31m \u001b[0ma\u001b[0m\u001b[0;34m.\u001b[0m\u001b[0mextend\u001b[0m\u001b[0;34m(\u001b[0m\u001b[0mb\u001b[0m\u001b[0;34m)\u001b[0m\u001b[0;34m\u001b[0m\u001b[0;34m\u001b[0m\u001b[0m\n\u001b[0m",
      "\u001b[0;31mAttributeError\u001b[0m: 'int' object has no attribute 'extend'"
     ]
    }
   ],
   "source": [
    "# Trying to call list methods on objects of another type\n",
    "a, b = 2, 3\n",
    "a.extend(b)"
   ]
  },
  {
   "source": [
    "The first difference from common functions is that they are called with the __'.'__ operator, and in general we call them as follows:\n",
    "\n",
    "<object\\>.<method\\>(arguments) \n",
    "\n",
    "Objects can also have what are known as __attributes__, which are variables of a class that are shared between all of its instances. All objects of type person would have attributes such as 'has eyes', 'has mouth', regardless of which _instance_ of the object which you are looking at. Some objects of the same type can have different values for the same atribute. Some objects of type person may have 'has_hair = __True__', while some others may have 'has_hair = __False__'. In general, we can access attributes as follows:\n",
    "\n",
    "<object\\>.<attribute\\>"
   ],
   "cell_type": "markdown",
   "metadata": {}
  },
  {
   "source": [
    "## Challenge:\n",
    "Consider an object of type _pencil_. Take some time and come up with as many attributes and methods for _pencil_ objects! We will come back and compare out attributes and methods.\n",
    "\n",
    "<details>\n",
    "    <summary> Pencil attributes and methods </summary>\n",
    "    <p> Attributes: 'is_sharpened', 'colour', 'has_eraser', 'eraser_colour', 'is_mechanical' </p>\n",
    "    <p> Methods: 'write', 'erase', 'sharpen' </p>\n",
    "</details>"
   ],
   "cell_type": "markdown",
   "metadata": {}
  },
  {
   "source": [
    "# Introduction to Classes\n",
    "\n",
    "As previously mentioned, a __class__ is a just a blueprint for creating our very own object types! This can often times make our code a lot more readable and efficient if done appropriately. For instance, we often write 'machine learning model' classes to that we can use similar models in different contexts. To create a class, we need __class definitions__ just as we need __function definitions__ for functions. Below we show an example in code a very basic class example:"
   ],
   "cell_type": "markdown",
   "metadata": {}
  },
  {
   "cell_type": "code",
   "execution_count": 8,
   "metadata": {},
   "outputs": [],
   "source": [
    "class Person: # ------------------------------------> This is a class definition\n",
    "    def __init__(self, greeting):  # ----------------> This is a class constructor\n",
    "        self.greeting = greeting  # -----------------> This is an attribute\n",
    "    def greet(self): # ------------------------------> This is a method\n",
    "        print(self.greeting)"
   ]
  },
  {
   "source": [
    "__The following vocabulary is very important__, we have __defined__ the class Person. After definition, we can __instantiate__ objects (create instances) of the class (essentially now object type) Greeter. In our class definition, we have the attribute 'greeting' and the method 'greet'. We will get to those in more detail, but first things first: what is 'self' and what is __init__ ?\n",
    "\n",
    "- The __self__ keyword represents the instance of the class. We use it because we want this definition to work with any instance of class Person. Since we haven't defined them yet, we refer to them as self. Thus, self.greeting is the greeting attribute of the given greeter object. __It is always the first input argument for all our methods__, as we see above for the Person class.\n",
    "\n",
    "- The __init__ method is known as the __constructor__ of the given class, and is generally written as the first method of a class. It is automatically called when we instantiate an object and allows us to customize the inital state of the given instance. In our case, we allow every Greeter object to have a different greeting. To instantiate an object of a given class, we use function call whose inputs are the required inputs for the __init__ method. \n",
    "\n",
    "These will become clearer as we do a few more examples."
   ],
   "cell_type": "markdown",
   "metadata": {}
  },
  {
   "source": [
    "## Challenge:\n",
    "\n",
    "Using the greeter class, instantiate two Person instances with different 'greeting' values, and call the greet method for both of them. Check out this [documentation](https://docs.python.org/3/tutorial/classes.html) if you're stuck."
   ],
   "cell_type": "markdown",
   "metadata": {}
  },
  {
   "cell_type": "code",
   "execution_count": 9,
   "metadata": {},
   "outputs": [
    {
     "output_type": "stream",
     "name": "stdout",
     "text": [
      "Hello there!\nGood day!\n"
     ]
    }
   ],
   "source": [
    "# Instantiating two greeters\n",
    "bob_greeter = greeter('Hello there!')\n",
    "sally_greeter = greeter('Good day!')\n",
    "\n",
    "# Calling their greet method\n",
    "bob_greeter.greet()\n",
    "sally_greeter.greet()"
   ]
  },
  {
   "source": [
    "Congrats! You have now instantiated your first objects from a custom Python class. Now let's go a step further and create your Python class definition. Below is the general form of a class definition."
   ],
   "cell_type": "markdown",
   "metadata": {}
  },
  {
   "cell_type": "code",
   "execution_count": 5,
   "metadata": {},
   "outputs": [],
   "source": [
    "# class definition\n",
    "class ClassName:\n",
    "    \n",
    "    # class constructor\n",
    "    def __init__(self, param1, param2 = 1):\n",
    "        \n",
    "        # attributes\n",
    "        self.param1 = param1\n",
    "        self.param2 = param2\n",
    "        \n",
    "        # attribute defined using other attributes\n",
    "        self.param3 = ClassName.att + param2\n",
    "        \n",
    "        # attribute defined without parameter\n",
    "        self.param4 = 0\n",
    "    \n",
    "    # methods\n",
    "    def some_method(self, ext_input): # can add external arguments\n",
    "        return self.param1 + ext_input + ClassName.att\n",
    "    \n",
    "    def some_other_method(self, ext_input1, ext_input2): # method to modify attribute\n",
    "        self.param4 = ext_input1 + ext_input2"
   ]
  },
  {
   "source": [
    "## Challenge:\n",
    "\n",
    "Here, we would like you to code up your own class definition for the class _Pencil_. This class should have the following:\n",
    "- Attributes: has_eraser, is_sharpened, write_count (number of times you call .write()), erase_count (number of times you call .erase())\n",
    "- Methods: \n",
    "    - write(): takes in an input string and returns the same text. if this is the 3rd time it is called, set is_sharpened to False\n",
    "    - erase(): takes in an input string and returns an empty string. if this is the 3rd time it is called, set has_eraser to False\n",
    "    - sharpen(): sets is_sharpened to True\n",
    "- The input to the constructor should only be the values for the colour and has_eraser attributes\n",
    "- Any instance of the Pencil class should be sharpened and be brand new (never used!)\n",
    "- If it has no eraser, the erase method should instead return '---' (representing a poorly erased text!)\n",
    "- If it is not sharpened, the write method should instead return '' (cannot write anything with an unsharpened pencil)\n",
    "\n",
    "__Suggestion:__ Start with all the bullet points except the last two. If everything works as expected, then include it!"
   ],
   "cell_type": "markdown",
   "metadata": {}
  },
  {
   "cell_type": "code",
   "execution_count": 17,
   "metadata": {},
   "outputs": [],
   "source": [
    "## Define your own Pencil class\n",
    "class Pencil:\n",
    "    def __init__(self, colour, has_eraser):\n",
    "        self.colour = colour\n",
    "        self.has_eraser = has_eraser\n",
    "        self.is_sharpened = True\n",
    "        self.write_count = 0\n",
    "        self.erase_count = 0\n",
    "    def write(self, text):\n",
    "        if self.is_sharpened:\n",
    "            self.write_count += 1\n",
    "            if self.write_count == 3:\n",
    "                self.is_sharpened = False\n",
    "            return text\n",
    "        else:\n",
    "            return '-nothing-'\n",
    "    def erase(self, text):\n",
    "        if self.has_eraser:\n",
    "            self.erase_count += 1\n",
    "            if self.erase_count == 3:\n",
    "                self.has_eraser = False\n",
    "            return 'blank'\n",
    "        else:\n",
    "            return '---'\n",
    "    def sharpen(self):\n",
    "        self.is_sharpened = True"
   ]
  },
  {
   "cell_type": "code",
   "execution_count": 18,
   "metadata": {},
   "outputs": [
    {
     "output_type": "stream",
     "name": "stdout",
     "text": [
      "True True\n\nsomething something else something elser\n-nothing- False\nIt's working again True\n\nblank blank blank\n--- False\n"
     ]
    }
   ],
   "source": [
    "# Test out whether you defined it correctly!\n",
    "red_pencil = Pencil('red', True)\n",
    "print(red_pencil.is_sharpened, red_pencil.has_eraser)\n",
    "print()\n",
    "\n",
    "# Checking if write and sharpen methods work\n",
    "text = red_pencil.write('something')\n",
    "text2 = red_pencil.write('something else')\n",
    "text3 = red_pencil.write('something elser')\n",
    "text4 = red_pencil.write('my pencil stopped working')\n",
    "print(text, text2, text3)\n",
    "print(text4, red_pencil.is_sharpened)\n",
    "red_pencil.sharpen()\n",
    "text5 = red_pencil.write(\"It's working again\")\n",
    "print(text5, red_pencil.is_sharpened)\n",
    "print()\n",
    "\n",
    "# Checking if erase method works\n",
    "blank = red_pencil.erase(text)\n",
    "blank2 = red_pencil.erase(text2)\n",
    "blank3 = red_pencil.erase(text3)\n",
    "blank4 = red_pencil.erase(text5)\n",
    "print(blank, blank2, blank3)\n",
    "print(blank4, red_pencil.has_eraser)\n"
   ]
  },
  {
   "cell_type": "markdown",
   "metadata": {},
   "source": [
    "## Syntax Recap\n",
    "\n",
    "#### Class Definition\n",
    "1. class keyword: indicates creation of class.\n",
    "2. ClassName: use PascalCase (no spaces, capitalised words) for naming classes, snake_case for functions/variables.\n",
    "3. Parentheses/colon: do not need parentheses, but add as a matter of style, add colon to end statement and indicate indent.\n",
    "\n",
    "#### Class Constructor\n",
    "4. \\_\\_init\\_\\_ is the first 'method' in the class, named the class constructor. This is called automatically when instance of class created. Note the 'def' keyword is the same as functions, and it has parameters like functions, BUT it is a __METHOD__.\n",
    "5. The first argument for \\_\\_init\\_\\_ is 'self' by convention, this is used to refer to each instance of a class (how Python distinguishes one instance of a class from another).\n",
    "6. The arguments for \\_\\_init\\_\\_ define the inputs assigned to each class instance.\n",
    "7. Can define defaults for these parameters e.g. param2 = 1, BUT default arguments cannot be followed by non-default arguments.\n",
    "\n",
    "#### Attributes\n",
    "8. Attributes are assigned using \\_\\_init\\_\\_ parameters with the self conventional keyword.\n",
    "9. Hence we use the syntax self.param = param to assign attributes.\n",
    "10. Attributes do not require () when called as they are not executable.\n",
    "11. We can define attributes using other attributes as shown with self.param3.\n",
    "\n",
    "#### Methods\n",
    "12. Methods are defined as functions within a class.\n",
    "13. They perform operations based on inputs as defined by attributes.\n",
    "14. Whether or not a method takes any external parameters, the first parameter of a method is always self.\n",
    "15. When referencing attributes, we must reference instance: self.param1, NOT param1.\n",
    "16. Methods can take external arguments such as ext_input: these must be specified when calling the method.\n",
    "\n",
    "#### Defining Attributes using Methods\n",
    "17. We can have attributes that are not defined by parameters of \\_\\_init\\_\\_.\n",
    "18. These can be defined as being empty or zero for example.\n",
    "19. We can then define them later using a method.\n",
    "20. For example, some_other_method takes in ext_input1 and ext_input2 and uses them to define self.param4."
   ]
  },
  {
   "source": [
    "# OOP Abstraction & Decomposition\n",
    "\n",
    "When we used functions, we saw that functions had two very useful properties:\n",
    "- __Decomposition__: Functions can be used to split up out code into self-contained, re-usable chunks that help keep our code concise and coherent\n",
    "- __Abstraction__: We don't need to understand the exact code inside a function definition to use it, all we need are the instructions!\n",
    "\n",
    "Just as with functions, we also achieve decomposition and abstraction with OOP. Instead of functions, we can break out our code further into class definitions with the appropriate methods, as we have seen above. Once a class is defined, we can use as many instances of that class as we would like. OOP also provides us with abstraction, as we do not need to know exactly what is written inside a class definition, all we need to know is its __internal representation__ (attributes), and understand how the __interface__ (methods) works. As we have seen in previous lessons, we do not need to know the underlying code used to make lists work to be able to work objects of type list and their corresponding methods."
   ],
   "cell_type": "markdown",
   "metadata": {}
  },
  {
   "source": [
    "# Objects: Inheritance\n",
    "\n",
    "So far, we have looked at class definitions as a way of defining our very own object type with an internal representation (attributes) and behaviour (methods) of our choice. This is very useful in grouping similar things together, which we as humans often find logical to do and saves us from re-writing lots of code. If we wanted to work on a veterinary database that stores information on dogs, we shouldn't need to write a paragraph for each dog, but rather instances of a Dog class with different attributes (e.g. breed, size, weight). Web-developers don't need to write a specific blocks of code for every separate button on their website, but rather can create a 'Button' class and have different attributes (e.g. color, size, text). In short, grouping things is really helpful!\n",
    "\n",
    "<img src='images/dogs.jpg' >"
   ],
   "cell_type": "markdown",
   "metadata": {}
  },
  {
   "cell_type": "markdown",
   "metadata": {},
   "source": [
    "## Exercise\n",
    "Here is an example for you to have a go at. Try defining a class for a cylinder. It should contain: <br>\n",
    "- 2 parameters:\n",
    "    - height\n",
    "    - radius, which should have a default value of 1.\n",
    "<br><br>\n",
    "- 4 attributes:\n",
    "    - height\n",
    "    - radius\n",
    "    - surface_area, initialised as None.\n",
    "    - volume, initialised as None.\n",
    "<br><br>\n",
    "- 2 methods:\n",
    "    - get_surface_area: \n",
    "        - define surface_area.\n",
    "        - update attribute surface_area.\n",
    "        - return surface_area rounded to 2dp.\n",
    "    - get_volume:\n",
    "        - define volume.\n",
    "        - update attribute volume.\n",
    "        - return volume rounded to 2dp.\n",
    "<br><br>\n",
    "- Use google to find the formulae for surface area and volume of a cylinder.\n",
    "- Use the formulae to create method definitions for these.\n",
    "- The skeletal structure of the class is laid out for you below; replace the \"CODE HERE\" comments with your own code\n",
    "- The spacing and indentation is laid out correctly for you."
   ]
  },
  {
   "cell_type": "code",
   "execution_count": 5,
   "metadata": {},
   "outputs": [],
   "source": [
    "# import the math module, use math.pi for pi\n",
    "import math\n",
    "\n",
    "# define a class called Cylinder\n",
    "# CODE HERE\n",
    "\n",
    "    \n",
    "    # define __init__ with parameters height and radius with default 1\n",
    "    # CODE HERE\n",
    "        \n",
    "        # define attributes, initialise surface_area and volume as None\n",
    "        # CODE HERE\n",
    "        # CODE HERE\n",
    "        # CODE HERE\n",
    "        # CODE HERE\n",
    "    \n",
    "    # define get_surface_area method\n",
    "    # CODE HERE\n",
    "        \n",
    "        # assign surface area to variable surface_area\n",
    "        # CODE HERE\n",
    "        \n",
    "        # update attribute surface_area\n",
    "        # CODE HERE\n",
    "        \n",
    "        # return surface area rounded to 2dp\n",
    "        # CODE HERE\n",
    "    \n",
    "    # define get_volume method\n",
    "    # CODE HERE\n",
    "        \n",
    "        # CODE HERE\n",
    "        \n",
    "        # CODE HERE\n",
    "        \n",
    "        # CODE HERE"
   ]
  },
  {
   "cell_type": "markdown",
   "metadata": {},
   "source": [
    "Now test your class by running the following cells:"
   ]
  },
  {
   "cell_type": "code",
   "execution_count": 6,
   "metadata": {},
   "outputs": [],
   "source": [
    "cyl1 = Cylinder(5,20)"
   ]
  },
  {
   "cell_type": "code",
   "execution_count": 7,
   "metadata": {},
   "outputs": [
    {
     "name": "stdout",
     "output_type": "stream",
     "text": [
      "5\n",
      "20\n"
     ]
    }
   ],
   "source": [
    "print(cyl1.height)\n",
    "print(cyl1.radius)"
   ]
  },
  {
   "cell_type": "code",
   "execution_count": 8,
   "metadata": {},
   "outputs": [],
   "source": [
    "cyl1.volume\n",
    "cyl1.surface_area"
   ]
  },
  {
   "cell_type": "code",
   "execution_count": 9,
   "metadata": {},
   "outputs": [
    {
     "data": {
      "text/plain": [
       "3141.59"
      ]
     },
     "execution_count": 9,
     "metadata": {},
     "output_type": "execute_result"
    }
   ],
   "source": [
    "cyl1.get_surface_area()"
   ]
  },
  {
   "cell_type": "code",
   "execution_count": 10,
   "metadata": {},
   "outputs": [
    {
     "data": {
      "text/plain": [
       "6283.19"
      ]
     },
     "execution_count": 10,
     "metadata": {},
     "output_type": "execute_result"
    }
   ],
   "source": [
    "cyl1.get_volume()"
   ]
  },
  {
   "cell_type": "code",
   "execution_count": 11,
   "metadata": {},
   "outputs": [
    {
     "name": "stdout",
     "output_type": "stream",
     "text": [
      "6283.185307179587\n",
      "3141.592653589793\n"
     ]
    }
   ],
   "source": [
    "print(cyl1.volume)\n",
    "print(cyl1.surface_area)"
   ]
  },
  {
   "cell_type": "code",
   "execution_count": null,
   "metadata": {},
   "outputs": [],
   "source": []
  },
  {
   "cell_type": "markdown",
   "metadata": {},
   "source": [
    "## Class Inheritance\n",
    "- We can use classes to create other classes, this is called __INHERITANCE__.\n",
    "- The class we use to define is called the __BASE CLASS__.\n",
    "- The class(es) defined is(are) called the __DERIVED CLASS(ES)__.\n",
    "- The derived classes 'inherit' features from the base class.\n",
    "- We can create an instance of the base class using super() inside the inherited class in order to call its features.\n",
    "- We can overwrite inherited methods by using the same method name.\n",
    "- We can define new methods using novel method names."
   ]
  },
  {
   "cell_type": "code",
   "execution_count": 13,
   "metadata": {},
   "outputs": [],
   "source": [
    "# here we define a simple base class Building with no attributes and 1 method\n",
    "\n",
    "class Building():\n",
    "    \n",
    "    def __init__(self):\n",
    "        print(\"This is a building\")\n",
    "    \n",
    "    def contents(self):\n",
    "        print(\"Things\")"
   ]
  },
  {
   "cell_type": "code",
   "execution_count": 14,
   "metadata": {},
   "outputs": [
    {
     "name": "stdout",
     "output_type": "stream",
     "text": [
      "This is a building\n"
     ]
    }
   ],
   "source": [
    "# we instantiate Building as x\n",
    "x = Building()"
   ]
  },
  {
   "cell_type": "code",
   "execution_count": 15,
   "metadata": {},
   "outputs": [
    {
     "name": "stdout",
     "output_type": "stream",
     "text": [
      "Things\n"
     ]
    }
   ],
   "source": [
    "# x.contents() here gives us 'things'\n",
    "x.contents()"
   ]
  },
  {
   "cell_type": "code",
   "execution_count": 18,
   "metadata": {},
   "outputs": [],
   "source": [
    "# here we use Building to define a derived class House\n",
    "\n",
    "class House(Building): # we pass in the base class as an argument\n",
    "    \n",
    "    def __init__(self):\n",
    "        super().__init__() # we super() to call __init__ from Building\n",
    "        print(\"This is a house\")\n",
    "        \n",
    "    def contents(self): # overwrite inherited method Building.contents() by using the same name\n",
    "        print(\"Furniture\")\n",
    "    \n",
    "    def inhabitants(self): # create new method by using new method name\n",
    "        print(\"People\")"
   ]
  },
  {
   "cell_type": "code",
   "execution_count": 19,
   "metadata": {},
   "outputs": [
    {
     "name": "stdout",
     "output_type": "stream",
     "text": [
      "This is a building\n",
      "This is a house\n"
     ]
    }
   ],
   "source": [
    "# we instantiate House as y\n",
    "# here we get the __init__ output from building AND from house\n",
    "y = House()"
   ]
  },
  {
   "cell_type": "code",
   "execution_count": 20,
   "metadata": {},
   "outputs": [
    {
     "name": "stdout",
     "output_type": "stream",
     "text": [
      "Furniture\n"
     ]
    }
   ],
   "source": [
    "# when we call y.contents(), we now see it is overwritten by the new definition\n",
    "y.contents()"
   ]
  },
  {
   "cell_type": "code",
   "execution_count": 21,
   "metadata": {},
   "outputs": [
    {
     "name": "stdout",
     "output_type": "stream",
     "text": [
      "People\n"
     ]
    }
   ],
   "source": [
    "# y also has a new method, .inhabitants()\n",
    "y.inhabitants()"
   ]
  },
  {
   "cell_type": "markdown",
   "metadata": {},
   "source": [
    "## Summary\n",
    "You should now understand:\n",
    "- The nature of classes, attributes, methods and objects\n",
    "- The difference between functions and methods\n",
    "- How class inheritance works\n",
    "<br><br>\n",
    "You should now know:\n",
    "- How to create a class\n",
    "- How to add attributes and methods to a class\n",
    "- How to instantiate a class and call its attributes and methods\n",
    "- How to create derived classes from a base class\n",
    "\n",
    "## Further reading\n",
    "- For those of you who want to read further and in more detail about classes, please refer to Python documentation on classes:\n",
    "- https://docs.python.org/3/tutorial/classes.html"
   ]
  },
  {
   "cell_type": "code",
   "execution_count": null,
   "metadata": {},
   "outputs": [],
   "source": []
  }
 ],
 "metadata": {
  "kernelspec": {
   "display_name": "Python 3",
   "language": "python",
   "name": "python3"
  },
  "language_info": {
   "codemirror_mode": {
    "name": "ipython",
    "version": 3
   },
   "file_extension": ".py",
   "mimetype": "text/x-python",
   "name": "python",
   "nbconvert_exporter": "python",
   "pygments_lexer": "ipython3",
   "version": "3.8.5-final"
  }
 },
 "nbformat": 4,
 "nbformat_minor": 4
}
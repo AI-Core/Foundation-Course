{
 "metadata": {
  "language_info": {
   "codemirror_mode": {
    "name": "ipython",
    "version": 3
   },
   "file_extension": ".py",
   "mimetype": "text/x-python",
   "name": "python",
   "nbconvert_exporter": "python",
   "pygments_lexer": "ipython3",
   "version": "3.8.5-final"
  },
  "orig_nbformat": 2,
  "kernelspec": {
   "name": "python3",
   "display_name": "Python 3"
  }
 },
 "nbformat": 4,
 "nbformat_minor": 2,
 "cells": [
  {
   "source": [
    "# 1.2.1. Introduction to Error Handling\n",
    "\n",
    "### Learning Objectives:\n",
    "- [Introduction to Errors/Exceptions](#Introduction-to-Errors/Exceptions)\n",
    "- [Exception Handling](#Exception-Handling)\n",
    "- [Custom Exception Handling](#Custom-Exception-Handling)"
   ],
   "cell_type": "markdown",
   "metadata": {}
  },
  {
   "source": [
    "## Error/Exception Handling\n",
    "\n",
    "\n",
    "\n",
    "- Code does not always run smoothly as we surely all know by now: sometimes it throws errors.\n",
    "- However, when there is an error Python will stop executing the code there and then, preventing any subsequent code from running.\n",
    "- Hence, we use error and exception handling to circumvent this, and allow blocks of our code to run despite errors.\n",
    "- We will learn 3 new keywords here, __try__, __except__ and __finally__.\n",
    "<br><br>\n",
    "- try clause: this indicates the block of code we want to attempt to run, it will only finish if there are no errors.\n",
    "- except clause: if there is an error in the try clause, the execution will stop there and the except clause will be run.\n",
    "- finally clause: this is the block of code to be run regardless of any errors.\n",
    "<br><br>\n",
    "This is best seen using an example:"
   ],
   "cell_type": "markdown",
   "metadata": {}
  },
  {
   "source": [
    "# Introduction to Errors/Exceptions\n",
    "\n",
    "So far, we have most definitely encountered all types of errors that are thrown while writing our Python programs, resulting in a hault in the program execution. These errors are referred to as __exceptions__, as your code resulted in exceptions to what the program expected. Some common exceptions that we have encountered so far are the following:\n",
    "\n",
    "- _SyntaxError_: Implies there was some improper syntax passed somewhere within your Python script\n",
    "- _NameError_: Implies that we tried to use an indentifier (variable name) with an invalid or unknown name\n",
    "- _TypeError_: Implies that we tried to perform an operation on an incorrect object type \n",
    "- _ValueError_: Implies that we passed in a value to a function/method of the correct type, but with an invalid value for some reason\n",
    "\n",
    "Below, we show a simple function and an example of what happens when we encounter an error/exception. The error raised below is a _TypeError_.\n"
   ],
   "cell_type": "markdown",
   "metadata": {}
  },
  {
   "cell_type": "code",
   "execution_count": 1,
   "metadata": {},
   "outputs": [
    {
     "output_type": "stream",
     "name": "stdout",
     "text": [
      "4\n"
     ]
    },
    {
     "output_type": "error",
     "ename": "TypeError",
     "evalue": "add_pair() takes 2 positional arguments but 3 were given",
     "traceback": [
      "\u001b[0;31m---------------------------------------------------------------------------\u001b[0m",
      "\u001b[0;31mTypeError\u001b[0m                                 Traceback (most recent call last)",
      "\u001b[0;32m<ipython-input-1-afb04b60b091>\u001b[0m in \u001b[0;36m<module>\u001b[0;34m\u001b[0m\n\u001b[1;32m      7\u001b[0m \u001b[0;34m\u001b[0m\u001b[0m\n\u001b[1;32m      8\u001b[0m \u001b[0;31m# this throws a TypeError, as we specified too many arguments\u001b[0m\u001b[0;34m\u001b[0m\u001b[0;34m\u001b[0m\u001b[0;34m\u001b[0m\u001b[0m\n\u001b[0;32m----> 9\u001b[0;31m \u001b[0mprint\u001b[0m\u001b[0;34m(\u001b[0m\u001b[0madd_pair\u001b[0m\u001b[0;34m(\u001b[0m\u001b[0;36m1\u001b[0m\u001b[0;34m,\u001b[0m\u001b[0;36m2\u001b[0m\u001b[0;34m,\u001b[0m\u001b[0;36m3\u001b[0m\u001b[0;34m)\u001b[0m\u001b[0;34m)\u001b[0m\u001b[0;34m\u001b[0m\u001b[0;34m\u001b[0m\u001b[0m\n\u001b[0m\u001b[1;32m     10\u001b[0m \u001b[0;34m\u001b[0m\u001b[0m\n\u001b[1;32m     11\u001b[0m \u001b[0;31m# this line is not executed, as the code threw an error\u001b[0m\u001b[0;34m\u001b[0m\u001b[0;34m\u001b[0m\u001b[0;34m\u001b[0m\u001b[0m\n",
      "\u001b[0;31mTypeError\u001b[0m: add_pair() takes 2 positional arguments but 3 were given"
     ]
    }
   ],
   "source": [
    "# here we define a simple adding function for two numbers\n",
    "def add_pair(x,y):\n",
    "    return x + y\n",
    "\n",
    "# this function call works\n",
    "print(add_pair(1,3))\n",
    "\n",
    "# this throws a TypeError, as we specified too many arguments\n",
    "print(add_pair(1,2,3))\n",
    "\n",
    "# this line is not executed, as the code threw an error\n",
    "print(add_pair(3,4))"
   ]
  },
  {
   "cell_type": "code",
   "execution_count": 2,
   "metadata": {},
   "outputs": [
    {
     "output_type": "execute_result",
     "data": {
      "text/plain": [
       "7"
      ]
     },
     "metadata": {},
     "execution_count": 2
    }
   ],
   "source": [
    "# we can see that this would have worked, if the code had continued to run\n",
    "add_pair(3,4)"
   ]
  },
  {
   "source": [
    "As you can imagine, since we are human, there are dozens of different types of exceptions corresponding to all the different ways in which our program can go wrong. Furthermore, if you are writing a program to be used by __people__, you can bet your money on lots of their inputs making your program throw all kinds of errors. Instead of letting these issues get in our way, Python provides us multiple methods of __error/exception handling.__"
   ],
   "cell_type": "markdown",
   "metadata": {}
  },
  {
   "source": [
    "# Exception Handling\n",
    "In Python, we can carry use __error handlers__ when we expect that our code might throw an error. The most basic form error handling is done by using __try__ and __except__ statements. In their simplest form, they are used as follows:\n",
    "\n",
    "try:\n",
    "\n",
    "<block of code that we want to program to try to run, which we expect may throw an error\\>\n",
    "\n",
    "except:\n",
    "\n",
    "<block of code that we want the program to run in case the code ran in the try block did throw an error\\>\n",
    "\n",
    "Below, we show how we can handle exceptions with the example we saw above of the _TypeError_:"
   ],
   "cell_type": "markdown",
   "metadata": {}
  },
  {
   "cell_type": "code",
   "execution_count": 4,
   "metadata": {},
   "outputs": [
    {
     "output_type": "stream",
     "name": "stdout",
     "text": [
      "An error occured.\n"
     ]
    }
   ],
   "source": [
    "# We can get around this using a try except statement\n",
    "# Execution switches to except statement if try statement throws error\n",
    "\n",
    "# Define the 'add' function from before\n",
    "def add_pair(x,y):\n",
    "    return x + y\n",
    "\n",
    "try: # Try the block of code\n",
    "    result = add_pair(1,2,3)\n",
    "    print(\"It worked\")\n",
    "    print(\"The result is {}\".format(result))\n",
    "\n",
    "except: # The block of code to run in case of an error\n",
    "    print(\"An error occured.\")"
   ]
  },
  {
   "cell_type": "code",
   "execution_count": 6,
   "metadata": {},
   "outputs": [
    {
     "output_type": "stream",
     "name": "stdout",
     "text": [
      "Our function worked!\nThe result is 4\n"
     ]
    }
   ],
   "source": [
    "# When the code in the try statement is executed correctly, the code block in the except statement does not run!\n",
    "\n",
    "def add_pair(x,y):\n",
    "    return x + y\n",
    "\n",
    "try:\n",
    "    result = add_pair(1,3)\n",
    "    print(\"Our function worked!\")\n",
    "    print(\"The result is {}\".format(result))\n",
    "\n",
    "except:\n",
    "    print(\"An error occured.\")"
   ]
  },
  {
   "source": [
    "As we saw before, there are multiple types of errors that can occur in our program, and the code in the simple _except_ statement we have written will run regardless of the error. Generally, we may want to be more specifc, whether to keep running the code or give more explanatory error messages. To do this, __we can use multiple except statements to execute a different block of code according to different types of errors__. We will now look at the example above, but using multiple _except_ statements to catch different types of errors and behave differently. To find out more about different types of errors in Python, go [here](https://docs.python.org/3/library/exceptions.html)."
   ],
   "cell_type": "markdown",
   "metadata": {}
  },
  {
   "source": [
    "# Addition function from the previous examples. In this first case, as there are too many inputs, we should get TypeError\n",
    "def add_pair(x,y):\n",
    "    return x + y\n",
    "\n",
    "try:\n",
    "    result = add_pair(1,2,3)\n",
    "    print(\"It worked\")\n",
    "    print(\"The result is {}\".format(result))\n",
    "\n",
    "except TypeError: # executed in case of a TypeError\n",
    "    print(\"There was a type error.\")\n",
    "    \n",
    "except NameError: # executed in case of a NameError \n",
    "    print(\"There was a name error.\")\n",
    "\n",
    "except: # catches any other type of errors\n",
    "    print(\"An error occurred.\")"
   ],
   "cell_type": "code",
   "metadata": {},
   "execution_count": 8,
   "outputs": [
    {
     "output_type": "stream",
     "name": "stdout",
     "text": [
      "There was a type error.\n"
     ]
    }
   ]
  },
  {
   "source": [
    "# In this case, there is a spelling mistake, which should raise a NameError\n",
    "\n",
    "try: # note the spelling mistake \n",
    "    result = add_pai(1,2,3)\n",
    "    print(\"It worked\")\n",
    "    print(\"The result is {}\".format(result))\n",
    "\n",
    "except TypeError: # executed in case of a TypeError\n",
    "    print(\"There was a type error.\")\n",
    "    \n",
    "except NameError: # executed in case of a NameError \n",
    "    print(\"There was a name error.\")\n",
    "\n",
    "except: # catches any other type of errors\n",
    "    print(\"An error occurred.\")"
   ],
   "cell_type": "code",
   "metadata": {},
   "execution_count": 9,
   "outputs": [
    {
     "output_type": "stream",
     "name": "stdout",
     "text": [
      "You used the wrong name\n"
     ]
    }
   ]
  },
  {
   "source": [
    "We can spice up our error handling with two other statements beyond only _try_ and _except_:\n",
    "- ___finally___: Code in a finally clause is executed regardless of whether an error occurs or not in the try statement\n",
    "- ___else___: A finally clause is executed regardless of whether an error occurs or not in the try statement"
   ],
   "cell_type": "markdown",
   "metadata": {}
  },
  {
   "cell_type": "code",
   "execution_count": 10,
   "metadata": {},
   "outputs": [
    {
     "output_type": "stream",
     "name": "stdout",
     "text": [
      "The result is 4\nIt worked\nThis block of code is ALWAYS executed\n"
     ]
    }
   ],
   "source": [
    "# The code in this cell should run without an error, what code runs in that case?\n",
    "\n",
    "def add_pair(x,y):\n",
    "    return x + y\n",
    "\n",
    "try:\n",
    "    result = add_pair(1,3)\n",
    "    print(\"The result is {}\".format(result))\n",
    "\n",
    "except TypeError:\n",
    "    print(\"There was a type error\")\n",
    "    \n",
    "except NameError: \n",
    "    print(\"You used the wrong name\")\n",
    "\n",
    "except: # Catches any other type of errors\n",
    "    print(\"An error occurred.\")\n",
    "\n",
    "else: # Runs if code in try statement runs without errors\n",
    "    print(\"It worked\") \n",
    "\n",
    "finally: # Executed with or without errors in try statement\n",
    "    print(\"This block of code is ALWAYS executed\")"
   ]
  },
  {
   "cell_type": "code",
   "execution_count": 11,
   "metadata": {},
   "outputs": [
    {
     "output_type": "stream",
     "name": "stdout",
     "text": [
      "There was a type error\nThis block of code is ALWAYS executed\n"
     ]
    }
   ],
   "source": [
    "# The code in this cell should result in a TypeError, what code runs in that case? \n",
    "\n",
    "def add_pair(x,y):\n",
    "    return x + y\n",
    "\n",
    "try:\n",
    "    result = add_pair(1,2,3)\n",
    "    print(\"The result is {}\".format(result))\n",
    "\n",
    "except TypeError:\n",
    "    print(\"There was a type error\")\n",
    "    \n",
    "except NameError: \n",
    "    print(\"You used the wrong name\")\n",
    "\n",
    "except:\n",
    "    print(\"An error occurred\")\n",
    "\n",
    "else:\n",
    "    print(\"It worked\")\n",
    "\n",
    "finally: # executed with or without errors in try statement\n",
    "    print(\"This block of code is ALWAYS executed\")"
   ]
  },
  {
   "source": [
    "We have now seen simple try-except statements as well as the addition of finally/else statements to provide us with more error handling flexibility. The question some of you might be asking yourselves now is: \"What's the point of using exception handling techniques when I could just have different cases handled with if/elif/else statements?\"\n",
    "\n",
    "This is actually a very important question, and is fact one with an open-ended answer. While you could achieve exception handling with conditional statements, conventially, we use try/except statements when the normal path through the code should proceed without error unless there truly are some exceptonal conditions. For example, if we were writing a program that needed to take input information from a user, we would generally try to use conditional statements to handle things such as inputting their name instead of their DOB, and use try/except statements if the server goes down, your credentials expire/ are incorrect, and other unexpected scenarios.\n",
    "\n",
    "It is very important to know that __it is sloppy to use try/except to protect yourself from bad programming__. Don't use these because you don't really understand what your code is going to do!"
   ],
   "cell_type": "markdown",
   "metadata": {}
  },
  {
   "source": [
    "# Challenge\n",
    "- Using try/except/finally/else statements, write a function called product that has two input parameters, x and y, and computes $x^{y}$. The function should:\n",
    "    - try to compute $x^{y}$\n",
    "    - print('There was a TypeError.') if you encounter a TypeError\n",
    "    - print('Something went wrong.') if you encounter any other type of error\n",
    "    - print('Function ran successfully.') if the function ran throwing an error\n",
    "    - print('Function called.') any time the function is run regardless of the input"
   ],
   "cell_type": "markdown",
   "metadata": {}
  }
 ]
}
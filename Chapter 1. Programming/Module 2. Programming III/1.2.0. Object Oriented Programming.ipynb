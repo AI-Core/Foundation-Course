{
 "cells": [
  {
   "cell_type": "markdown",
   "metadata": {},
   "source": [
    "# 1.2.0. Object-Oriented Programming"
   ]
  },
  {
   "cell_type": "markdown",
   "metadata": {},
   "source": [
    "### Learning objectives\n",
    "\n",
    "- [Procedural vs. Object-Oriented Programming](#Procedural-vs.-Object\\-Oriented-Programming)\n",
    "- [Objects: A Deeper Dive](#Objects:-A-Deeper-Dive)\n",
    "- [Introduction to Classes](#Introduction-to-Classes)\n",
    "- [OOP Abstraction & Decomposition](#OOP-Abstraction-&-Decomposition)\n",
    "- [Objects: Inheritance](#Objects:-Inheritance)\n",
    "- [Magic Methods](#Magic-Methods)"
   ]
  },
  {
   "cell_type": "markdown",
   "metadata": {},
   "source": [
    "# Procedural vs. Object-Oriented Programming\n",
    "\n",
    "Most programming you have done up to now is __procedural__. In simple terms, this is simply carrying out a procedure with a logical sequence of steps. In many cases our code can instead be more neatly organised on a conceptual level by grouping related functions together into what we call a __class__. Classes are like object constructors, or rather like a blueprint for creating objects. When working with classes, our programming is referred to as __object-oriented programming (OOP)__.\n",
    "\n",
    "<img style='display: block; margin-left: auto; margin-right: auto; width: 50%;' src='https://user.oc-static.com/upload/2017/10/19/15084493877125_C03p01ch03-procedural-vs-oop.png'>\n",
    "\n",
    "[Source](https://user.oc-static.com/upload/2017/10/19/15084493877125_C03p01ch03-procedural-vs-oop.png)\n",
    "\n",
    "Procedural programming and OOP are known as __programming paradigms__. This simply means different ways of structuring your code, so don't worry about it too much. Before learning about classes, let us take a closer look at what Python objects actually are. \n"
   ]
  },
  {
   "source": [
    "# Objects: A Deeper Dive"
   ],
   "cell_type": "markdown",
   "metadata": {}
  },
  {
   "source": [
    "So far, we have taken a brief look at what objects are. As mentioned before, almost everything is an object in Python. All objects have types, and can still vary within their own type. For example, within this framework, I am an object of type person. This means I am the same _type_ as all other people, although every object of type person is a little bit different. Every object is referred as  Is that all we need to keep track of when dealing with objects?\n",
    "\n",
    "## NO!\n",
    "\n",
    "Let us break down the internal structure of different object types. Let us look at lists in particular. They are non-scalar objects as they can be subdivided into their individual elements. Certain object types contain what are known as __methods__. Methods are functions that 'belong to' an object. You have already seen some of these methods in play, as shown below with lists:"
   ],
   "cell_type": "markdown",
   "metadata": {}
  },
  {
   "cell_type": "code",
   "execution_count": 2,
   "metadata": {},
   "outputs": [
    {
     "output_type": "stream",
     "name": "stdout",
     "text": [
      "[1, 2, 3, [4, 5], 6, 7, 8, 9]\n"
     ]
    }
   ],
   "source": [
    "# Defining lists and calling list methods\n",
    "a, b, c = [1, 2, 3], [4, 5], [6, 7, 8, 9]\n",
    "a.append(b)\n",
    "a.extend(c)\n",
    "print(a)"
   ]
  },
  {
   "cell_type": "code",
   "execution_count": 7,
   "metadata": {},
   "outputs": [
    {
     "output_type": "error",
     "ename": "AttributeError",
     "evalue": "'int' object has no attribute 'extend'",
     "traceback": [
      "\u001b[0;31m---------------------------------------------------------------------------\u001b[0m",
      "\u001b[0;31mAttributeError\u001b[0m                            Traceback (most recent call last)",
      "\u001b[0;32m<ipython-input-7-897b0b81e24e>\u001b[0m in \u001b[0;36m<module>\u001b[0;34m\u001b[0m\n\u001b[1;32m      1\u001b[0m \u001b[0;31m# Trying to call list methods on objects of another type\u001b[0m\u001b[0;34m\u001b[0m\u001b[0;34m\u001b[0m\u001b[0;34m\u001b[0m\u001b[0m\n\u001b[1;32m      2\u001b[0m \u001b[0ma\u001b[0m\u001b[0;34m,\u001b[0m \u001b[0mb\u001b[0m \u001b[0;34m=\u001b[0m \u001b[0;36m2\u001b[0m\u001b[0;34m,\u001b[0m \u001b[0;36m3\u001b[0m\u001b[0;34m\u001b[0m\u001b[0;34m\u001b[0m\u001b[0m\n\u001b[0;32m----> 3\u001b[0;31m \u001b[0ma\u001b[0m\u001b[0;34m.\u001b[0m\u001b[0mextend\u001b[0m\u001b[0;34m(\u001b[0m\u001b[0mb\u001b[0m\u001b[0;34m)\u001b[0m\u001b[0;34m\u001b[0m\u001b[0;34m\u001b[0m\u001b[0m\n\u001b[0m",
      "\u001b[0;31mAttributeError\u001b[0m: 'int' object has no attribute 'extend'"
     ]
    }
   ],
   "source": [
    "# Trying to call list methods on objects of another type\n",
    "a, b = 2, 3\n",
    "a.extend(b)"
   ]
  },
  {
   "source": [
    "The first difference from common functions is that they are called with the __'.'__ operator, and in general we call them as follows:\n",
    "\n",
    "<object\\>.<method\\>(arguments) \n",
    "\n",
    "Objects can also have what are known as __attributes__, which are variables of a class that are shared between all of its instances. All objects of type person would have attributes such as 'has eyes', 'has mouth', regardless of which _instance_ of the object which you are looking at. Some objects of the same type can have different values for the same atribute. Some objects of type person may have 'has_hair = __True__', while some others may have 'has_hair = __False__'. In general, we can access attributes as follows:\n",
    "\n",
    "<object\\>.<attribute\\>"
   ],
   "cell_type": "markdown",
   "metadata": {}
  },
  {
   "source": [
    "## Challenge:\n",
    "Consider an object of type _pencil_. Take some time and come up with as many attributes (characteristics) and methods (things it can do) for _pencil_ objects! We will come back and compare out attributes and methods.\n",
    "\n",
    "<details>\n",
    "    <summary> Pencil attributes and methods </summary>\n",
    "    <p> Attributes: 'is_sharpened', 'colour', 'has_eraser', 'eraser_colour', 'is_mechanical' </p>\n",
    "    <p> Methods: 'write', 'erase', 'sharpen' </p>\n",
    "</details>"
   ],
   "cell_type": "markdown",
   "metadata": {}
  },
  {
   "source": [
    "# Introduction to Classes\n",
    "\n",
    "As previously mentioned, a __class__ is a just a blueprint for creating our very own object types! This can often times make our code a lot more readable and efficient if done appropriately. For instance, we often write 'machine learning model' classes to that we can use similar models in different contexts. To create a class, we need __class definitions__ just as we need __function definitions__ for functions. Below we show an example in code a very basic class example:"
   ],
   "cell_type": "markdown",
   "metadata": {}
  },
  {
   "cell_type": "code",
   "execution_count": 21,
   "metadata": {},
   "outputs": [],
   "source": [
    "class Person: # ------------------------------------> This is a class definition\n",
    "    def __init__(self, greeting):  # ----------------> This is a class constructor\n",
    "        self.greeting = greeting  # -----------------> This is an attribute\n",
    "    def greet(self): # ------------------------------> This is a method\n",
    "        print(self.greeting)\n",
    "    def wave(self):\n",
    "        print('\\U0001F44B'+'\\U0001F601')"
   ]
  },
  {
   "source": [
    "__The following vocabulary is very important__, we have __defined__ the class Person. After definition, we can __instantiate__ objects (create instances) of the class (essentially now object type) Person. In our class definition, we have the attribute 'greeting' and the method 'greet'. We will get to those in more detail, but first things first: what is 'self' and what is '\\__init\\__' ?\n",
    "\n",
    "- The __self__ keyword represents the instance of the class. We use it because we want this definition to work with any instance of class Person. Since we haven't defined them yet, we refer to them as self, as in 'themselves'. Thus, self.greeting is the greeting attribute of the given Person object. __It is always the first parameter for all our methods__, as we see above for the Person class.\n",
    "\n",
    "- The \\__init\\__ method is known as the __constructor__ of the given class, and is generally written as the first method of a class. It is automatically called when we instantiate an object and allows us to customize the inital state of the given instance. In our case, we allow every Greeter object to have a different greeting. To instantiate an object of a given class, we use function call whose inputs are the required inputs for the __init__ method. \n",
    "\n",
    "These will become clearer as we do a few more examples."
   ],
   "cell_type": "markdown",
   "metadata": {}
  },
  {
   "source": [
    "## Challenge:\n",
    "\n",
    "From the Person class, instantiate two instances with different 'greeting' values, and call the greet method for both of them. Check out this [documentation](https://docs.python.org/3/tutorial/classes.html) if you're stuck."
   ],
   "cell_type": "markdown",
   "metadata": {}
  },
  {
   "cell_type": "code",
   "execution_count": 22,
   "metadata": {},
   "outputs": [
    {
     "output_type": "stream",
     "name": "stdout",
     "text": [
      "Hello there!\nGood day!\n👋😁\n👋😁\n"
     ]
    }
   ],
   "source": [
    "# Instantiating two greeters\n",
    "bob = Person('Hello there!')\n",
    "sally = Person('Good day!')\n",
    "\n",
    "# Calling their greet method\n",
    "bob.greet()\n",
    "sally.greet()\n",
    "\n",
    "# Calling their wave method\n",
    "bob.wave()\n",
    "sally.wave()"
   ]
  },
  {
   "source": [
    "Congrats! You have now instantiated your first objects from a custom Python class. Now let's go a step further and create your Python class definition. Below is the general form of a class definition."
   ],
   "cell_type": "markdown",
   "metadata": {}
  },
  {
   "cell_type": "code",
   "execution_count": 5,
   "metadata": {},
   "outputs": [],
   "source": [
    "# class definition\n",
    "class ClassName:\n",
    "    \n",
    "    # class constructor\n",
    "    def __init__(self, param1, param2 = 1):\n",
    "        \n",
    "        # attributes\n",
    "        self.param1 = param1\n",
    "        self.param2 = param2\n",
    "        \n",
    "        # attribute defined using other attributes\n",
    "        self.param3 = ClassName.att + param2\n",
    "        \n",
    "        # attribute defined without parameter\n",
    "        self.param4 = 0\n",
    "    \n",
    "    # methods\n",
    "    def some_method(self, ext_input): # can add external arguments\n",
    "        return self.param1 + ext_input + ClassName.att\n",
    "    \n",
    "    def some_other_method(self, ext_input1, ext_input2): # method to modify attribute\n",
    "        self.param4 = ext_input1 + ext_input2"
   ]
  },
  {
   "source": [
    "Now let's see if you can define your own class! Here, we would like you to code up your own class definition for the class _Pencil_. This class should have the following:\n",
    "- Attributes: has_eraser, is_sharpened, write_count (number of times you call .write()), erase_count (number of times you call .erase())\n",
    "- Methods: \n",
    "    - write(): takes in an input string and returns the same text. if this is the 3rd time it is called, set is_sharpened to False\n",
    "    - erase(): takes in an input string and returns an empty string. if this is the 3rd time it is called, set has_eraser to False\n",
    "    - sharpen(): sets is_sharpened to True\n",
    "- The input to the constructor should only be the values for the colour and has_eraser attributes\n",
    "- Any instance of the Pencil class should be sharpened and be brand new (never used!)\n",
    "- If it has no eraser, the erase method should instead return '---' (representing a poorly erased text!)\n",
    "- If it is not sharpened, the write method should instead return '' (cannot write anything with an unsharpened pencil)\n",
    "\n",
    "__Suggestion:__ Start with all the bullet points except the last two. If everything works as expected, then include it!"
   ],
   "cell_type": "markdown",
   "metadata": {}
  },
  {
   "cell_type": "code",
   "execution_count": 17,
   "metadata": {},
   "outputs": [],
   "source": [
    "## Define your own Pencil class\n",
    "class Pencil:\n",
    "    def __init__(self, colour, has_eraser):\n",
    "        self.colour = colour\n",
    "        self.has_eraser = has_eraser\n",
    "        self.is_sharpened = True\n",
    "        self.write_count = 0\n",
    "        self.erase_count = 0\n",
    "    def write(self, text):\n",
    "        if self.is_sharpened:\n",
    "            self.write_count += 1\n",
    "            if self.write_count == 3:\n",
    "                self.is_sharpened = False\n",
    "            return text\n",
    "        else:\n",
    "            return '-nothing-'\n",
    "    def erase(self, text):\n",
    "        if self.has_eraser:\n",
    "            self.erase_count += 1\n",
    "            if self.erase_count == 3:\n",
    "                self.has_eraser = False\n",
    "            return 'blank'\n",
    "        else:\n",
    "            return '---'\n",
    "    def sharpen(self):\n",
    "        self.is_sharpened = True"
   ]
  },
  {
   "cell_type": "code",
   "execution_count": 18,
   "metadata": {},
   "outputs": [
    {
     "output_type": "stream",
     "name": "stdout",
     "text": [
      "True True\n\nsomething something else something elser\n-nothing- False\nIt's working again True\n\nblank blank blank\n--- False\n"
     ]
    }
   ],
   "source": [
    "# Test out whether you defined it correctly!\n",
    "red_pencil = Pencil('red', True)\n",
    "print(red_pencil.is_sharpened, red_pencil.has_eraser)\n",
    "print()\n",
    "\n",
    "# Checking if write and sharpen methods work\n",
    "text = red_pencil.write('something')\n",
    "text2 = red_pencil.write('something else')\n",
    "text3 = red_pencil.write('something elser')\n",
    "text4 = red_pencil.write('my pencil stopped working')\n",
    "print(text, text2, text3)\n",
    "print(text4, red_pencil.is_sharpened)\n",
    "red_pencil.sharpen()\n",
    "text5 = red_pencil.write(\"It's working again\")\n",
    "print(text5, red_pencil.is_sharpened)\n",
    "print()\n",
    "\n",
    "# Checking if erase method works\n",
    "blank = red_pencil.erase(text)\n",
    "blank2 = red_pencil.erase(text2)\n",
    "blank3 = red_pencil.erase(text3)\n",
    "blank4 = red_pencil.erase(text5)\n",
    "print(blank, blank2, blank3)\n",
    "print(blank4, red_pencil.has_eraser)\n"
   ]
  },
  {
   "cell_type": "markdown",
   "metadata": {},
   "source": [
    "## Syntax Recap\n",
    "\n",
    "#### Class Definition\n",
    "1. class keyword: indicates creation of class.\n",
    "2. ClassName: use PascalCase (no spaces, capitalised words) for naming classes, snake_case for functions/variables.\n",
    "3. Parentheses/colon: do not need parentheses, but add as a matter of style, add colon to end statement and indicate indent.\n",
    "\n",
    "#### Class Constructor\n",
    "4. \\_\\_init\\_\\_ is the first 'method' in the class, named the class constructor. This is called automatically when instance of class created. Note the 'def' keyword is the same as functions, and it has parameters like functions, BUT it is a __METHOD__.\n",
    "5. The first argument for \\_\\_init\\_\\_ is 'self' by convention, this is used to refer to each instance of a class (how Python distinguishes one instance of a class from another).\n",
    "6. The arguments for \\_\\_init\\_\\_ define the inputs assigned to each class instance.\n",
    "7. Can define defaults for these parameters e.g. param2 = 1, BUT default arguments cannot be followed by non-default arguments.\n",
    "\n",
    "#### Attributes\n",
    "8. Attributes are typically assigned using \\_\\_init\\_\\_ parameters with the self conventional keyword.\n",
    "9. Hence we use the syntax self.param = param to assign attributes.\n",
    "10. Attributes do not require () when called as they are not executable.\n",
    "11. We can define attributes using other attributes as shown with self.param3.\n",
    "\n",
    "#### Methods\n",
    "12. Methods are defined as functions within a class.\n",
    "13. They perform operations based on inputs as defined by attributes.\n",
    "14. Whether or not a method takes any external parameters, the first parameter of a method is always self.\n",
    "15. When referencing attributes, we must reference instance: self.param1, NOT param1.\n",
    "16. Methods can take external arguments such as ext_input: these must be specified when calling the method.\n",
    "\n",
    "#### Defining Attributes using Methods\n",
    "17. We can have attributes that are not defined by parameters of \\_\\_init\\_\\_.\n",
    "18. These can be defined as being empty or zero for example.\n",
    "19. We can then define them later using a method.\n",
    "20. For example, some_other_method takes in ext_input1 and ext_input2 and uses them to define self.param4."
   ]
  },
  {
   "source": [
    "# OOP Abstraction & Decomposition\n",
    "\n",
    "When we used functions, we saw that functions had two very useful properties:\n",
    "- __Decomposition__: Functions can be used to split up out code into self-contained, re-usable chunks that help keep our code concise and coherent\n",
    "- __Abstraction__: We don't need to understand the exact code inside a function definition to use it, all we need are the instructions!\n",
    "\n",
    "Just as with functions, we also achieve decomposition and abstraction with OOP. Instead of functions, we can break out our code further into class definitions with the appropriate methods, as we have seen above. Once a class is defined, we can use as many instances of that class as we would like. OOP also provides us with abstraction, as we do not need to know exactly what is written inside a class definition, all we need to know is its __internal representation__ (attributes), and understand how the __interface__ (methods) works. As we have seen in previous lessons, we do not need to know the underlying code used to make lists work to be able to work objects of type list and their corresponding methods."
   ],
   "cell_type": "markdown",
   "metadata": {}
  },
  {
   "source": [
    "# Objects: Inheritance\n",
    "\n",
    "So far, we have looked at class definitions as a way of defining our very own object type with an internal representation (attributes) and behaviour (methods) of our choice. This is very useful in grouping similar things together, which we as humans often find logical to do and saves us from re-writing lots of code. Web-developers don't need to write a specific blocks of code for every separate button on their website, but rather can define a 'Button' class with different attributes (e.g. color, size, text). Likewise, if we wanted to develop a veterinary database that stores information on dogs, we shouldn't need to write a paragraph for each dog, but rather instances of a Dog class with different attributes (e.g. breed, size, weight).\n",
    "\n",
    "<img style='width: 50%; display: block; margin-left: auto; margin-right: auto;' src='images/dogs.jpg'>\n",
    "\n",
    "But we can do just more than use objects to make separate groups (e.g. dog, person, pencil), but we can expand our organisation further. Let's say that we have a Dog class already defined, but now we found a veterinary that specialises in treating Labrador Retrievers. We could create a whole new class, LabradorRetriever, from scratch. But doesn't that feel a bit inneficcient? After all, a LabradorRetriever object is just a Dog object with the 'breed' attribute set to \"Labrador Retriever\". This is where __inheritance__ comes in: we can create a LabradorRetriever class that __inherits__ from the Dog class. Consider the example below:"
   ],
   "cell_type": "markdown",
   "metadata": {}
  },
  {
   "cell_type": "code",
   "execution_count": 5,
   "metadata": {},
   "outputs": [
    {
     "output_type": "stream",
     "name": "stdout",
     "text": [
      "Name: Steve \nBreed: Shiba \nAge: 3 years \nFur Colour: red \nWeight: 12kg \n\nName: Josh \nBreed: Labrador Retriever \nAge: 6 years \nFur Colour: yellow \nWeight: 32kg \n\n"
     ]
    }
   ],
   "source": [
    "# Defining a Dog class\n",
    "class Dog:\n",
    "    def __init__(self, name, breed, age, fur_colour, weight):\n",
    "        self.name = name\n",
    "        self.breed = breed\n",
    "        self.age = age\n",
    "        self.fur_colour = fur_colour\n",
    "        self.weight = weight\n",
    "    def get_doggo_info(self):\n",
    "        print(\"Name: {} \\nBreed: {} \\nAge: {} \\nFur Colour: {} \\nWeight: {} \\n\".format(self.name, self.breed, self.age, self.fur_colour, self.weight))\n",
    "\n",
    "# Bad way to define Labrador Retriever class\n",
    "class LabradorRetriever:\n",
    "    def __init__(self, name, age, fur_colour, weight):\n",
    "        self.name = name\n",
    "        self.breed = 'Labrador Retriever'\n",
    "        self.age = age\n",
    "        self.fur_colour = fur_colour\n",
    "        self.weight = weight\n",
    "    def get_doggo_info(self):\n",
    "        print(\"Name: {} \\nBreed: {} \\nAge: {} \\nFur Colour: {} \\nWeight: {} \\n\".format(self.name, self.breed, self.age, self.fur_colour, self.weight))\n",
    "\n",
    "# Testing our classes\n",
    "random_doggo = Dog('Steve', 'Shiba', '3 years', 'red', '12kg')\n",
    "random_lab = LabradorRetriever('Josh', '6 years', 'yellow', '32kg')\n",
    "\n",
    "random_doggo.get_doggo_info()\n",
    "random_lab.get_doggo_info()"
   ]
  },
  {
   "cell_type": "code",
   "execution_count": 39,
   "metadata": {},
   "outputs": [
    {
     "output_type": "stream",
     "name": "stdout",
     "text": [
      "Name: Buck \nBreed: Labrador Retriever \nAge: 2 months \nFur Colour: yellow \nWeight: 6kg \n\n"
     ]
    }
   ],
   "source": [
    "# Good way to define Labrador Retriever class\n",
    "class LabradorRetriever(Dog):\n",
    "    def __init__(self, name, age, fur_colour, weight):\n",
    "        super().__init__(name, 'Labrador Retriever', age, fur_colour, weight)\n",
    "\n",
    "# Testing our child class!\n",
    "random_lab = LabradorRetriever('Buck', '2 months', 'yellow', '6kg')\n",
    "random_lab.get_doggo_info()"
   ]
  },
  {
   "source": [
    "We will go into the syntax soon, but for now, just appreciate how much cleaner the code is! Not only does it account for our initialisation, but it also inherits the methods from the Dog class! In this case, Dog is the __superclass/parent class/base class__, as it is the class whose behaviour and internal representation is inherited, whereas Labrador Retriever is the __subclass/child class/derived class__, as it is the class that inherits from the parent class. In practice, any class can be made into a parent class, and a parent class can have more than just one child class, and is known as __hierarchical inheritance__. For instace, we could use Dog as a parent class, and make a child class as we did for LabradorRetriever for every other dog breed, as we see below.\n",
    "\n",
    "<img style='width: 50%; display: block; margin-left: auto; margin-right: auto;' src='images/subdogs.png'>\n",
    "\n",
    "Now let's go back to the syntax. For the simplest form of inheritance, we use two additions to our class definition:\n",
    "- A class can inherit from another by declaring the class definition line similar to a function call, with the parent class as the argument. This can be represented as:\n",
    "    - class <child_class>(<parent_class>):\n",
    "    - e.g. class LabradorRetriever(Dog):\n",
    "- We use the super().\\__init\\__() command inside our \\__init\\__() method. All this does is carry out the commands inside the \\__init\\__() method of the superclass and add all the existing methods from the parent class to the child class. This is the reason why in our example, it took all the arguments required by the Dog superclass.\n",
    "    - In the Dog example above, super().\\__init\\__(name, 'Labrador Retriever', age, fur_colour, weight) initialised the attributes name, age, fur_colour, weight and defined the method get_doggo_info()\n",
    "\n",
    "If you would like to find out more about the super() function, click [here](https://realpython.com/python-super/). Let us go over a simple exercise of inheritance, we are going to create a class RadPerson that inherits from the class Person we defined in the beginning of this lesson. The class RadPerson is going to have the exact same functionality as the class Person, except for one caviat: we have to add ' bro' to the end of their personal greeting by default. Note that if the word ' bro' is already present anywhere along their greeting, then we don't want to add the extra ' bro' at the end.\n"
   ],
   "cell_type": "markdown",
   "metadata": {}
  },
  {
   "cell_type": "code",
   "execution_count": 40,
   "metadata": {},
   "outputs": [
    {
     "output_type": "stream",
     "name": "stdout",
     "text": [
      "Hey there bro\n👋😁\n"
     ]
    }
   ],
   "source": [
    "# definition of class cool Person\n",
    "class RadPerson(Person):\n",
    "    def __init__(self, greeting):\n",
    "        if 'bro' not in greeting:\n",
    "            greeting += ' bro'\n",
    "        super().__init__(greeting)\n",
    "\n",
    "radThad = RadPerson('Hey there')\n",
    "radThad.greet()\n",
    "radThad.wave()"
   ]
  },
  {
   "source": [
    "There are some other useful things that we can do when working with inheritance. For example, let's say that we want our child class to have the same method as the parent class, but have different functionality. This is known as __overriding__ the parent class's method, and is simply done by defining a new method of the same name in the child class. Let us say that we want RadPeople to have a different wave than a normal Person. We can override the .wave() method, as shown below:"
   ],
   "cell_type": "markdown",
   "metadata": {}
  },
  {
   "cell_type": "code",
   "execution_count": 24,
   "metadata": {},
   "outputs": [
    {
     "output_type": "stream",
     "name": "stdout",
     "text": [
      "🤙😎\n👋😁\n"
     ]
    }
   ],
   "source": [
    "class RadPerson(Person):\n",
    "    def __init__(self, greeting):\n",
    "        if 'bro' not in greeting:\n",
    "            greeting += ' bro'\n",
    "        super().__init__(greeting)\n",
    "    def wave(self):\n",
    "        print('\\U0001F919' + '\\U0001F60E')\n",
    "\n",
    "# Defining RadPerson and Person\n",
    "radThad = RadPerson(\"what's up\")\n",
    "bob = Person('hello there')\n",
    "\n",
    "# Making them wave\n",
    "radThad.wave()\n",
    "bob.wave()"
   ]
  },
  {
   "source": [
    "Overriding methods gives us the freedom of choosing which of the methods of the parent class we would like the child class to have, and which we would like to define ourselves. Congratulations, you have covered the core foundations of how to work with classes! We will now show you another (not necessary, but still) awesome feature that Python classes have to offer, known as __magic methods__."
   ],
   "cell_type": "markdown",
   "metadata": {}
  },
  {
   "source": [
    "# Magic Methods\n",
    "\n",
    "In Python, we can define __magic methods__, which are special methods which add 'magic' to our class. They are not called by the user directly, but rather happens internally from a certain action. Let's understand by looking at examples of some of the most common magic methods. Let us consider a linear function of the form:\n",
    "\n",
    "$$ y = f(x) = mx +c $$\n",
    "\n",
    "We will now implement a LinearFunction class. It takes in the arguments for $m$ (its slope), and $c$ (its y-intercept) in its \\__init\\__ method. It takes advantage of three magic methods to do the following:\n",
    "- \\__call\\__: This method is called when the instance of the given class is called like a function! In the case of the LinearFunction, the __call__ method gives us the value of f(x) for a given input argument, x\n",
    "- \\__str\\__: This method is called when the str() or print() methods are called with an instance of the class as the argument. The output string/what is printed is whatever is returned by the \\__str\\__ method we define. In our case, we want the output printed to be of the form 'f(x) = mx + c', where m and c are replaced with the actual attribute values of the given instance\n",
    "- \\__add\\__: This method is called when the '+' operator is used between two instances of the class at hand. For the LinearFunction class, we want the the addition of two LinearFunction type objects to return another LinearFunction type object such that the new $m$ is the sum of the $m$s of the two objects and the new $c$ is the sum of the $c$s of the two objects"
   ],
   "cell_type": "markdown",
   "metadata": {}
  },
  {
   "cell_type": "code",
   "execution_count": 36,
   "metadata": {},
   "outputs": [],
   "source": [
    "# Class used to represent linear function\n",
    "class LinearFunction:\n",
    "    # Class constructor\n",
    "    def __init__(self, m, c):\n",
    "        self.m = m\n",
    "        self.c = c\n",
    "        \n",
    "    # Call method to get function ouputs based on a given input argument\n",
    "    def __call__(self, x): # x can be a list or single number\n",
    "        if isinstance(x, int):\n",
    "            return self.m * x + self.c\n",
    "        else:\n",
    "            return [self.m * x_val + self.c for x_val in x]\n",
    "\n",
    "    # Magic method that prints the given function in the format we would expect\n",
    "    def __str__(self):\n",
    "        return'f(x) = {}x + {}'.format(self.m, self.c)\n",
    "\n",
    "    # Magic method that adds two LinearFunction objects\n",
    "    def __add__(self, other_func):\n",
    "        new_linear_function = LinearFunction(self.m + other_func.m, self.c + other_func.c)\n",
    "        return new_linear_function"
   ]
  },
  {
   "cell_type": "code",
   "execution_count": 38,
   "metadata": {},
   "outputs": [
    {
     "output_type": "stream",
     "name": "stdout",
     "text": [
      "3\n[0, 4, 1]\n\nf(x) = 2x + -1\nf(x) = -1x + 3\n\nf(x) = 1x + 2\n"
     ]
    }
   ],
   "source": [
    "# Creating instances of the LinearFunction class\n",
    "func1 = LinearFunction(2, -1)\n",
    "func2 = LinearFunction(-1, 3)\n",
    "\n",
    "# Testing out the __call__ method\n",
    "print(func1(2))\n",
    "print(func2([3, -1, 2]))\n",
    "print()\n",
    "\n",
    "# Testing out the  __str__ method\n",
    "print(func1)\n",
    "print(func2)\n",
    "print()\n",
    "\n",
    "# Testing out the __add__ method\n",
    "func3 = func1 + func2\n",
    "print(func3)"
   ]
  },
  {
   "cell_type": "markdown",
   "metadata": {},
   "source": [
    "# Challenge\n",
    "1. Define a Rectangle class. It should contain:\n",
    "- Two attributes:\n",
    "    - height\n",
    "    - width\n",
    "- Two methods:\n",
    "    - area: returns the area of the rectangle\n",
    "    - perimeter: returns the perimeter of the rectangle\n",
    "2. Define a Square class (child class) that inherits from Rectangle (parent class) "
   ]
  }
 ],
 "metadata": {
  "kernelspec": {
   "display_name": "Python 3",
   "language": "python",
   "name": "python3"
  },
  "language_info": {
   "codemirror_mode": {
    "name": "ipython",
    "version": 3
   },
   "file_extension": ".py",
   "mimetype": "text/x-python",
   "name": "python",
   "nbconvert_exporter": "python",
   "pygments_lexer": "ipython3",
   "version": "3.8.5-final"
  }
 },
 "nbformat": 4,
 "nbformat_minor": 4
}
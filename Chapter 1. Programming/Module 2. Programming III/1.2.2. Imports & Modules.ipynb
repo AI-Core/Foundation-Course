{
 "metadata": {
  "language_info": {
   "codemirror_mode": {
    "name": "ipython",
    "version": 3
   },
   "file_extension": ".py",
   "mimetype": "text/x-python",
   "name": "python",
   "nbconvert_exporter": "python",
   "pygments_lexer": "ipython3",
   "version": "3.8.5-final"
  },
  "orig_nbformat": 2,
  "kernelspec": {
   "name": "python3",
   "display_name": "Python 3"
  }
 },
 "nbformat": 4,
 "nbformat_minor": 2,
 "cells": [
  {
   "source": [
    "# Imports & Modules\n",
    "\n",
    "### Learning Objectives:\n",
    "- [Scripts & Modules](#Scripts-&-Modules)\n",
    "- [Python Standard Library](#Python-Standard-Library)"
   ],
   "cell_type": "markdown",
   "metadata": {}
  },
  {
   "source": [
    "So far, we have only written Python __scripts__, which are a collection of commands in a file designed to be executed like a prorgram. However, as our programs get more and more complex, the code will get longer and if we kept it all in one script, it would become quite incoherent. We might also not want to re-define a function or class we wrote in multiple different scripts, that feels quite inefficient! So how can we get around this?\n",
    "\n",
    "Python provides just the thing, it allows us to put definitions in a file and use them in a script our script. When a Python file is used in this way, it is referred to as __module__. We can __import__ function and class definitions from other modules into the script which we are running. The script that we run directly that imports from other modules is referred to as the __main module__. By splitting up our code like this, we are doing what is referred to as __modular programming!__\n",
    "\n",
    "Let us look at an example. We have written a 'utils.py' module, containing a function that checks whether a string is a palindrome or not. We will explain the syntax shortly. Note, that __to import our own custom modules, the .py file must be in the same directory as the main module!__"
   ],
   "cell_type": "markdown",
   "metadata": {}
  },
  {
   "cell_type": "code",
   "execution_count": 1,
   "metadata": {},
   "outputs": [
    {
     "output_type": "stream",
     "name": "stdout",
     "text": [
      "False\nTrue\n\nHey there\n"
     ]
    }
   ],
   "source": [
    "import utils\n",
    "\n",
    "# Testing imported function\n",
    "str1 = 'banana'\n",
    "str2 = 'racecar'\n",
    "print(utils.is_palindrome(str1))\n",
    "print(utils.is_palindrome(str2))\n",
    "print()\n",
    "\n",
    "# Testing imported class\n",
    "bob = utils.Person('Hey there')\n",
    "bob.greet()"
   ]
  },
  {
   "source": [
    "We can see a few things from the example above:\n",
    "- We can use the __import__ statement followed by the name of the module (without the .py) to __import__ the definitions in the module\n",
    "    - In our example we wanted to access the _is\\_palindrome()_ function\n",
    "- Once imported, we can access individual functions or classes by using the '.' operator, in the following generalised form:\n",
    "    - <module_name>.<function_name/class_name>"
   ],
   "cell_type": "markdown",
   "metadata": {}
  },
  {
   "source": [
    "# Python Standard Library\n",
    "\n",
    "So far we have defined what a __module__ is, but we can take this notion further. At the end of the day, we may want more than to just re-use a few functions/classes here and there, and may actually want to create many functions/classes. Python helps us by allowing us to group many modules together in what is known as a __package__, essentially just a collection of different .py files with a particular functionality. Over time, many people in the Python community began to develop what are known as __Python libraries__, which are collections of related functionality of codes that allow you to perform many tasks without writing your code. These libraries are essentially a collection of packages and modules After all, why should we need to always create our own math functions if we can just re-use code developed by professionals with a simple import statement?\n",
    "\n",
    "While we can download and use many Python libraries online, today we will show you the __Python standard library__. This library is in-built in Python and contains many useful modules we can use. Below, we show you three examples: the __math__, __random__ and __time__ module. "
   ],
   "cell_type": "markdown",
   "metadata": {}
  },
  {
   "cell_type": "code",
   "execution_count": 3,
   "metadata": {},
   "outputs": [
    {
     "output_type": "stream",
     "name": "stdout",
     "text": [
      "3.0\n6\n0.049787068367863944\n"
     ]
    }
   ],
   "source": [
    "# Importing math module, an in-built Python module. It provides many different math functions.\n",
    "import math\n",
    "\n",
    "x = -3\n",
    "\n",
    "print(math.fabs(x)) # print the absolute value of x\n",
    "print(math.factorial(math.fabs(x))) # print the factorial of the absolute value of x\n",
    "print(math.exp(x)) # print e^x\n",
    "\n",
    "# There are many other cool functions in the math module for you to check out\n"
   ]
  },
  {
   "cell_type": "code",
   "execution_count": 15,
   "metadata": {},
   "outputs": [
    {
     "output_type": "stream",
     "name": "stdout",
     "text": [
      "4\ngrape\n['grape', 'apple', 'mango', 'banana']\n"
     ]
    }
   ],
   "source": [
    "# Importing math module, an in-built Python module\n",
    "import random\n",
    "\n",
    "fruits = [\"banana\", \"apple\", \"mango\", \"grape\"]\n",
    "\n",
    "print(random.randrange(20)) # print a random number fom range(start, stop, step)\n",
    "print(random.choice(fruits)) # print a random element from the list of fruits\n",
    "random.shuffle(fruits)\n",
    "print(fruits) # print the fruits list after radomly shuffling it\n",
    "\n",
    "# This module provides us with a flexible approach for generating randomness and uncertainty"
   ]
  },
  {
   "cell_type": "code",
   "execution_count": 20,
   "metadata": {},
   "outputs": [
    {
     "output_type": "stream",
     "name": "stdout",
     "text": [
      "Time ellapsed: 0.6584298610687256 seconds\n"
     ]
    }
   ],
   "source": [
    "# Importing the time module, can be useful for determining how long a program may have taken to run\n",
    "import time\n",
    "\n",
    "t0 = time.time() # current time\n",
    "\n",
    "for i in range(10000000):\n",
    "    continue\n",
    "\n",
    "t_final = time.time() # time after running program\n",
    "\n",
    "print('Time ellapsed: {} seconds'.format(t_final-t0))\n"
   ]
  },
  {
   "source": [
    "What if you don't want to import an entire module, but instead want to import just a single function from the module? In the case of the time module, it seems pretty pointless to import dozens of functions just to use the __time()__ function! We can instead import specific functions/classes from a module as follows"
   ],
   "cell_type": "markdown",
   "metadata": {}
  },
  {
   "cell_type": "code",
   "execution_count": 21,
   "metadata": {},
   "outputs": [
    {
     "output_type": "stream",
     "name": "stdout",
     "text": [
      "Time ellapsed: 0.6756720542907715 seconds\n"
     ]
    }
   ],
   "source": [
    "# Importing the time module, can be useful for determining how long a program may have taken to run\n",
    "from time import time\n",
    "\n",
    "t0 = time() # current time\n",
    "\n",
    "for i in range(10000000):\n",
    "    continue\n",
    "\n",
    "t_final = time() # time after running program\n",
    "\n",
    "print('Time ellapsed: {} seconds'.format(t_final-t0))\n"
   ]
  },
  {
   "source": [
    "One more import concept to mention is referring to as __aliasing__. When we do import modules and have to use the '.' operator to access particular functions, it may get a bit messy if the name of the module/library is long, or may need to use it multiple times in one expression. In Python, we can instead __alias__ these modules/libraries, meaning give them a different (ideally shorter) name! We can carry out aliasing with the __as__ statement, as shown below for the random module."
   ],
   "cell_type": "markdown",
   "metadata": {}
  },
  {
   "cell_type": "code",
   "execution_count": 22,
   "metadata": {},
   "outputs": [
    {
     "output_type": "stream",
     "name": "stdout",
     "text": [
      "13\ngrape\n['apple', 'grape', 'mango', 'banana']\n"
     ]
    }
   ],
   "source": [
    "# Importing math module, an in-built Python module\n",
    "import random as r\n",
    "\n",
    "fruits = [\"banana\", \"apple\", \"mango\", \"grape\"]\n",
    "\n",
    "print(r.randrange(20)) # print a random number fom range(start, stop, step)\n",
    "print(r.choice(fruits)) # print a random element from the list of fruits\n",
    "r.shuffle(fruits)\n",
    "print(fruits) # print the fruits list after radomly shuffling it\n",
    "\n",
    "# This module provides us with a flexible approach for generating randomness and uncertainty"
   ]
  },
  {
   "source": [
    "If we wanted we could also alias individual functions. And that covers the basics of Python imports, congratulations! We will see how to use external libraries once we get to the second chapter of this course."
   ],
   "cell_type": "markdown",
   "metadata": {}
  }
 ]
}
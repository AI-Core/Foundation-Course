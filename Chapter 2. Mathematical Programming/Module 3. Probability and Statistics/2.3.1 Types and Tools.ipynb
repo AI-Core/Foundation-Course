{
 "metadata": {
  "language_info": {
   "codemirror_mode": {
    "name": "ipython",
    "version": 3
   },
   "file_extension": ".py",
   "mimetype": "text/x-python",
   "name": "python",
   "nbconvert_exporter": "python",
   "pygments_lexer": "ipython3",
   "version": "3.7.4-final"
  },
  "orig_nbformat": 2,
  "kernelspec": {
   "name": "python3",
   "display_name": "Python 3"
  }
 },
 "nbformat": 4,
 "nbformat_minor": 2,
 "cells": [
  {
   "source": [
    "# Types and Tools"
   ],
   "cell_type": "markdown",
   "metadata": {}
  },
  {
   "source": [
    "## Learning Objectives\n",
    "* Joint Probability Distributions\n",
    "* Marginal Probability Distributions\n",
    "* Conditional Probability Distributions\n",
    "* Bayes Theorem\n",
    "* Probability Chain Rule"
   ],
   "cell_type": "markdown",
   "metadata": {}
  },
  {
   "source": [
    "# Joint Probability Distributions\n",
    "After we learned about probability distributions and measures to describe them in the last chapter, we will now focus on different types of distributions.<br>\n",
    "Joint probability is the probability of two events occurring at the same time. In general, the notation for two events $A$ and $B$ happening together is $P(A\\cap B)$, which means it is the intersection of these two events as illustrated below:<br>\n",
    "<img src=\"images/joint.png\" align=\"center\"/> <br>\n",
    "([Source](https://www.researchgate.net/figure/Venn-diagrams-of-event-intersection-AB-and-union-AUB-The-ellipse-sizes-are-not-drawn_fig1_308880835))<br>\n",
    "In general, we can think of the joint probability as the probability of A __and__ B or as their intersection. <br>\n",
    "For example, in a deck of cards we can define as event A drawing a red card and as event B drawing a 6. In a deck of 52 cards, we will have 26 red cards s.t. $P(A) =  \\frac{26}{53}$ and 4 cards with the number 10 s.t. $P(B) = \\frac{4}{52}$.\n",
    "This probability can be calculated using the conditional probability:\n",
    "$$ P(A \\cap B) = P(A|B) P(B) = P(B|A) P(A)$$\n",
    "The two formulas are equal because joint probability distributions are symmetrical s.t. $P(A \\cap B) = P(B \\cap A)$.\n",
    "According to this formula, we can calculate the joint probability as follows based on the product rule:\n",
    "$$ P(A \\cap B) = \\frac{2}{26} \\frac{26}{53} = \\frac{1}{26}$$\n",
    "\n",
    "## Exercise 1:\n",
    "Calculate the joint probability of the following random variables in a die throwing experiment:<br>\n",
    "Event $A = \\{1,2,3,4\\}$ and Event $B = \\{1,5,6\\}$ \n"
   ],
   "cell_type": "markdown",
   "metadata": {}
  },
  {
   "source": [
    "# Marginal Probability Distributions\n",
    "We might not always know the individual probability distributions of $X$ and $Y$. Instead, it can happen that we are only given their joint probability distribution. We can then calculate the individual probability distributions or $X$ and $Y$ as the __mariginal distributions __of the joint distributions. This will make more sense, if we visualise the joint probability distribution in a table. Let's say we have to random variables $X$ and $Y$ that can both take two values, 0 and 1, for simplicity:<br>\n",
    "\n",
    "| x/y | $Y=0$ | $Y=1$         \n",
    "| :- |----: | :-:\n",
    "|$X=0$| 0.2 | 0.3\n",
    "| $X=1$ | 0.4 | 0.1\n",
    "\n",
    "<br> where each cell indicates the joint probability of two events occcurring together.<br>\n",
    "We can now add the marginal probabilities by adding row and column sums:<br>\n",
    "\n",
    "| x/y | $Y=0$ | $Y=1$ |        \n",
    "| :- |----: | :-: | \n",
    "|$X=0$| 0.2 | 0.3 | 0.5\n",
    "| $X=1$ | 0.4 | 0.1 | 0.5\n",
    "|   | 0.6  | 0.4  | 1\n",
    "\n",
    "<br> We now see that both the row as well as the column sums sum up to 1. The row sums display the probability distribution of $X$ and the column sums display the probability distribution of $Y$.<br>\n",
    "More formally, we can say that following the sum rule:\n",
    "$$ P(X) = \\sum_y P(x,y) \\text{ and } P(Y) = \\sum_x P(x,y) $$ \n",
    "\n",
    "## Exercise 2:\n",
    "Calculate the following joint distribution in a table and add the marginal probabilities:<br>\n",
    "A company wants to analyse the amount of smokers by gender among their employees. Therefore, they collected the following data from 100 employees:<br>\n",
    "35 employees are female and smokers <br>\n",
    "20 employees are female and non-smokers <br>\n",
    "25 employees are male and smokers <br>\n",
    "20 employees are male and non-smokers\n"
   ],
   "cell_type": "markdown",
   "metadata": {}
  },
  {
   "source": [
    "# Conditional Probability Distributions\n",
    "Beyond the joint occurrence of two events, we are also interested in the occurrence of an event __given__ that another event occurred. Sometimes, the probability of an event can change depending on whether another event occurred. Formally, it is denoted as $P(X|Y)$ and calculated as follows based on the product rule:\n",
    "$$ P(X|Y) = P(X \\cap Y) P(Y)$$\n",
    "On this note, we should also distinguish between __dependent and independent events__. If an event is independent of another event, it means that its outcome is not influenced by the outcome of the other event. This could for example be throwing of a die as the outcome of the first throw does not affect the outcome of the second throw. __Dependent events__ on the other hand are affected by other events. Let's take as an example drawing marbles from a bag. If we have a bag of 5 marbles, 3 of them being red and 2 being blue, the probability of drawing a red marble changes once we have drawn a marble without replacing it. This behaviour also affects the conditional probability. If two events are independent of another, we can calculate the conditional as follows:\n",
    "$$ P(X|Y) = P(X)$$ and vice versa. We can also use this formula to check for the independene of two random variables. If this formula holds, they are independent. Otherwise, they are dependent.<br>\n",
    "Furthermore, we can also distinguish events on whether they are __mutually exlusive__. In this case, once event $X$ has occurred, event $Y$ cannot occur anymore. Formally, they are also denoted as __disjoint events__ s.t.\n",
    "$$ P(X|Y) = 0 $$\n",
    "\n",
    "## Exercise 3:\n",
    "Compute the conditional probability that a female employee smokes and that a male employee smokes based on the data from Exercise 2. Are the two random variables independent or dependent?"
   ],
   "cell_type": "markdown",
   "metadata": {}
  },
  {
   "source": [
    "# Bayes Theorem\n",
    "One of the most important theoremes in probability theory is __Bayes theorem__. It says that the __conditional probability__ of two events $X$ and $Y$, $P(X|Y)$ is related to the inverse form $P(Y|X)$. Therefore, the conditional probability $P(X|Y)$ can be calculated, if we know $P(Y|X)$:\n",
    "$$ P(X|Y) = \\frac{P(Y|X) P(X)}{P(Y)} $$\n",
    "This theorem is useful because we can use it to calculate $P(X|Y)$ without knowing $P(X \\cap Y)$.\n",
    "We can easily derive this theorem based on what we have learned about joint and conditional probabilities:\n",
    "$$ P(X|Y) = \\frac{P(Y|X) P(X)}{P(Y)} = \\frac{P(X \\cap Y)}{P(Y)}$$\n",
    "\n",
    "## Exercise 4:\n",
    "Suppose we are interested in a test to detect a disease which affects one in 100000 people on average.\n",
    "A lab has developed a test which works but is not perfect. If a person has the disease, it will give a\n",
    "positive result with probability 0:97; if they do not, the test will be positive with probability 0:007.\n",
    "You took the test, and it gave a positive result. What is the probability that you actually have the\n",
    "disease?"
   ],
   "cell_type": "markdown",
   "metadata": {}
  },
  {
   "source": [
    "# Probability Chain Rule\n",
    "The examples we have given only refer to the relationship between two events. However, in reality more than just two events react with each other. If we want to calculate the joint probability of multiple random variables, we can extend the formula we have used above. We already used the product rule to calculate joint probabilities between two events $A$ and $B$. We can generalise this rule further for any set of events $X_1$, $E_2$,...,$E_n$ as follows:\n",
    "$$ P(\\cap_{i=1,...,n} E_i) = P(E_n | \\cap_{i=1,...,n-1} E_i) P(\\cap_{i=1,...,n-1} E_i) $$"
   ],
   "cell_type": "markdown",
   "metadata": {}
  },
  {
   "cell_type": "code",
   "execution_count": null,
   "metadata": {},
   "outputs": [],
   "source": []
  }
 ]
}
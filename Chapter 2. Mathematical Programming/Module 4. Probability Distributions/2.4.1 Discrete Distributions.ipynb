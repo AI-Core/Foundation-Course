{
 "metadata": {
  "language_info": {
   "codemirror_mode": {
    "name": "ipython",
    "version": 3
   },
   "file_extension": ".py",
   "mimetype": "text/x-python",
   "name": "python",
   "nbconvert_exporter": "python",
   "pygments_lexer": "ipython3",
   "version": "3.7.4-final"
  },
  "orig_nbformat": 2,
  "kernelspec": {
   "name": "python3",
   "display_name": "Python 3"
  }
 },
 "nbformat": 4,
 "nbformat_minor": 2,
 "cells": [
  {
   "source": [
    "# Discrete Probability Distributions"
   ],
   "cell_type": "markdown",
   "metadata": {}
  },
  {
   "source": [
    "## Learning Objectives\n",
    "* Introduction to Probability Distributions\n",
    "* Discrete Probability Distributions\n",
    "* Visualisation and Application\n",
    "* Bernouilli Distribution\n",
    "* Binomial Distribution"
   ],
   "cell_type": "markdown",
   "metadata": {}
  },
  {
   "source": [
    "# Introduction to Probability Distributions\n",
    "extend introduction from chapter 2.3.0"
   ],
   "cell_type": "markdown",
   "metadata": {}
  },
  {
   "source": [
    "# Discrete Probability Distributions\n",
    "Definition and examples"
   ],
   "cell_type": "markdown",
   "metadata": {}
  },
  {
   "source": [
    "# Graphs and Application\n",
    "Show disc. prob. distr. in graphs, give application in experiments etc"
   ],
   "cell_type": "markdown",
   "metadata": {}
  },
  {
   "source": [
    "# Bernouilli Distribution\n",
    "defintiion with formulas, example, graphs, exercise"
   ],
   "cell_type": "markdown",
   "metadata": {}
  },
  {
   "source": [
    "# Binomial Distribution\n",
    "definition with formulas, example, graph, exercise"
   ],
   "cell_type": "markdown",
   "metadata": {}
  },
  {
   "cell_type": "code",
   "execution_count": null,
   "metadata": {},
   "outputs": [],
   "source": []
  }
 ]
}
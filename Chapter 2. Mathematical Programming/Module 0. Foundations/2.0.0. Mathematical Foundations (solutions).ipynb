{
 "metadata": {
  "language_info": {
   "codemirror_mode": {
    "name": "ipython",
    "version": 3
   },
   "file_extension": ".py",
   "mimetype": "text/x-python",
   "name": "python",
   "nbconvert_exporter": "python",
   "pygments_lexer": "ipython3",
   "version": "3.8.5-final"
  },
  "orig_nbformat": 2,
  "kernelspec": {
   "name": "python3",
   "display_name": "Python 3"
  }
 },
 "nbformat": 4,
 "nbformat_minor": 2,
 "cells": [
  {
   "source": [
    "# Mathematical Foundations\n",
    "\n",
    "### Learning Objectives:\n",
    "- [Python Libraries: Making Maths Easy](#Python-Libraries:-Making-Maths-Easy)\n",
    "- [Mathematical Functions](#Mathematical-Functions)\n",
    "- [Linear Functions](#Linear-Functions)\n",
    "- [Quadratic Functions](#Quadratic-Functions)\n",
    "- [Exponential Functions](#Exponential-Functions)\n",
    "- [Logarithmic Functions](#Logarithmic-Functions)\n",
    "- [Notation](#Notation)"
   ],
   "cell_type": "markdown",
   "metadata": {}
  },
  {
   "source": [
    "# Python Libraries: Making Maths Easy\n",
    "\n",
    "So far, we have only shown you how to import modules/packages from the standard library. How can we possibly import libraries we downloaded? Given that we have installed them, __we just import them as if they were part of the standard library__. It really is that easy. The first, and possibly the most important library we are covering today is going to be __NumPy__, a numerical Python library that gives us the ability to carry out a multitude of mathematical operations with functions that were written more efficiently and cleanly that we could write ourselves. Let us import NumPy and begin working with it. Note that when we move into the realm of NumPy, we begin using a different object type native to NumPy of type __ndarray__. For now, just think of these as very fancy lists.\n"
   ],
   "cell_type": "markdown",
   "metadata": {}
  },
  {
   "cell_type": "code",
   "execution_count": 3,
   "metadata": {},
   "outputs": [
    {
     "output_type": "stream",
     "name": "stdout",
     "text": [
      "<class 'numpy.ndarray'>\nSum: 6\nMean: 2.0\nVariance: 0.6666666666666666\nExponentiated: [ 2.71828183  7.3890561  20.08553692]\n[ 1.  2.  3.  4.  5.  6.  7.  8.  9. 10.]\n"
     ]
    }
   ],
   "source": [
    "import numpy as np # While you do not need to alias numpy this way, it is the convential way to import it\n",
    "\n",
    "# Creating a NumPy array\n",
    "a = np.array([1, 2, 3])\n",
    "print(type(a))\n",
    "\n",
    "# Carrying out some example operations\n",
    "print('Sum: {}'.format(a.sum()))\n",
    "print('Mean: {}'.format(a.mean()))\n",
    "print('Variance: {}'.format(a.var()))\n",
    "print('Exponentiated: {}'.format(np.exp(a)))\n",
    "\n",
    "# Creating a ndarray with evenly spaced numbers ofver a specified interval (unlike range, it's inclusive of the end term)\n",
    "y =  np.linspace(1, 10, 10)\n",
    "zeros = np.zeros(10) # creates n-sized array of zeros\n",
    "ones = np.ones(10) # creates n-size array of ones\n",
    "print(y)"
   ]
  },
  {
   "source": [
    "Great, so we can do some math operations that we did with the math standard library, what's so great about it? Well, from the get go we see that we can apply operations over an entire array (fancy list), whereas before we could only apply them to individual elements. Using NumPy, we can also multiply our arrays by scalars, add or subtract arrays, all things that we cannot do with one line that we could do using the math module. Let us see some examples"
   ],
   "cell_type": "markdown",
   "metadata": {}
  },
  {
   "cell_type": "code",
   "execution_count": null,
   "metadata": {},
   "outputs": [],
   "source": [
    "import math\n",
    "\n",
    "a = [1, 2, 3]\n",
    "b = [4, 5, 6]\n",
    "\n",
    "# Ugly code we have to use with the math module\n",
    "print('Exponent of a: {}'.format([math.exp(value) for value in a])) # forced to use a list comprehension instead of a one-liner\n",
    "print('Double of a: {}'.format([2*element for element in a]))\n",
    "print('List sum of a and b: {}'.format([a_val+b_val for a_val, b_val in zip(a, b)]))\n",
    "print()\n",
    "\n",
    "# Pretty code with NumPy :)\n",
    "a, b = np.array(a), np.array(b) # type casting our lists as arrays\n",
    "print('Exponent of a : {}'.format(np.exp(a)))\n",
    "print('Double of a: {}'.format(2 * a))\n",
    "print('Array sum of a and b: {}'.format(a + b))"
   ]
  },
  {
   "source": [
    "The benefits of using NumPy will become more and more obvious as we learn more mathematical concepts, especially as we will see for vectors and matrices in the next few modules!\n",
    "\n",
    "Another very simple library that we will be using is known as __Matplotlib__, which is a tool that is easy to use and provides us with plots to visualise our data and help us see what we are actually doing! Below we show a very simple example of a straight line. While we will mainly be using Plotly, Matplotlib is easier to first get accustomed to."
   ],
   "cell_type": "markdown",
   "metadata": {}
  },
  {
   "cell_type": "code",
   "execution_count": 6,
   "metadata": {},
   "outputs": [
    {
     "output_type": "display_data",
     "data": {
      "text/plain": "<Figure size 432x288 with 1 Axes>",
      "image/svg+xml": "<?xml version=\"1.0\" encoding=\"utf-8\" standalone=\"no\"?>\n<!DOCTYPE svg PUBLIC \"-//W3C//DTD SVG 1.1//EN\"\n  \"http://www.w3.org/Graphics/SVG/1.1/DTD/svg11.dtd\">\n<!-- Created with matplotlib (https://matplotlib.org/) -->\n<svg height=\"277.314375pt\" version=\"1.1\" viewBox=\"0 0 382.603125 277.314375\" width=\"382.603125pt\" xmlns=\"http://www.w3.org/2000/svg\" xmlns:xlink=\"http://www.w3.org/1999/xlink\">\n <metadata>\n  <rdf:RDF xmlns:cc=\"http://creativecommons.org/ns#\" xmlns:dc=\"http://purl.org/dc/elements/1.1/\" xmlns:rdf=\"http://www.w3.org/1999/02/22-rdf-syntax-ns#\">\n   <cc:Work>\n    <dc:type rdf:resource=\"http://purl.org/dc/dcmitype/StillImage\"/>\n    <dc:date>2020-12-04T12:58:09.009224</dc:date>\n    <dc:format>image/svg+xml</dc:format>\n    <dc:creator>\n     <cc:Agent>\n      <dc:title>Matplotlib v3.3.1, https://matplotlib.org/</dc:title>\n     </cc:Agent>\n    </dc:creator>\n   </cc:Work>\n  </rdf:RDF>\n </metadata>\n <defs>\n  <style type=\"text/css\">*{stroke-linecap:butt;stroke-linejoin:round;}</style>\n </defs>\n <g id=\"figure_1\">\n  <g id=\"patch_1\">\n   <path d=\"M 0 277.314375 \nL 382.603125 277.314375 \nL 382.603125 0 \nL 0 0 \nz\n\" style=\"fill:none;\"/>\n  </g>\n  <g id=\"axes_1\">\n   <g id=\"patch_2\">\n    <path d=\"M 40.603125 239.758125 \nL 375.403125 239.758125 \nL 375.403125 22.318125 \nL 40.603125 22.318125 \nz\n\" style=\"fill:#ffffff;\"/>\n   </g>\n   <g id=\"matplotlib.axis_1\">\n    <g id=\"xtick_1\">\n     <g id=\"line2d_1\">\n      <defs>\n       <path d=\"M 0 0 \nL 0 3.5 \n\" id=\"m3545c378ed\" style=\"stroke:#000000;stroke-width:0.8;\"/>\n      </defs>\n      <g>\n       <use style=\"stroke:#000000;stroke-width:0.8;\" x=\"55.821307\" xlink:href=\"#m3545c378ed\" y=\"239.758125\"/>\n      </g>\n     </g>\n     <g id=\"text_1\">\n      <!-- 0 -->\n      <g transform=\"translate(52.640057 254.356562)scale(0.1 -0.1)\">\n       <defs>\n        <path d=\"M 31.78125 66.40625 \nQ 24.171875 66.40625 20.328125 58.90625 \nQ 16.5 51.421875 16.5 36.375 \nQ 16.5 21.390625 20.328125 13.890625 \nQ 24.171875 6.390625 31.78125 6.390625 \nQ 39.453125 6.390625 43.28125 13.890625 \nQ 47.125 21.390625 47.125 36.375 \nQ 47.125 51.421875 43.28125 58.90625 \nQ 39.453125 66.40625 31.78125 66.40625 \nz\nM 31.78125 74.21875 \nQ 44.046875 74.21875 50.515625 64.515625 \nQ 56.984375 54.828125 56.984375 36.375 \nQ 56.984375 17.96875 50.515625 8.265625 \nQ 44.046875 -1.421875 31.78125 -1.421875 \nQ 19.53125 -1.421875 13.0625 8.265625 \nQ 6.59375 17.96875 6.59375 36.375 \nQ 6.59375 54.828125 13.0625 64.515625 \nQ 19.53125 74.21875 31.78125 74.21875 \nz\n\" id=\"DejaVuSans-48\"/>\n       </defs>\n       <use xlink:href=\"#DejaVuSans-48\"/>\n      </g>\n     </g>\n    </g>\n    <g id=\"xtick_2\">\n     <g id=\"line2d_2\">\n      <g>\n       <use style=\"stroke:#000000;stroke-width:0.8;\" x=\"116.694034\" xlink:href=\"#m3545c378ed\" y=\"239.758125\"/>\n      </g>\n     </g>\n     <g id=\"text_2\">\n      <!-- 10 -->\n      <g transform=\"translate(110.331534 254.356562)scale(0.1 -0.1)\">\n       <defs>\n        <path d=\"M 12.40625 8.296875 \nL 28.515625 8.296875 \nL 28.515625 63.921875 \nL 10.984375 60.40625 \nL 10.984375 69.390625 \nL 28.421875 72.90625 \nL 38.28125 72.90625 \nL 38.28125 8.296875 \nL 54.390625 8.296875 \nL 54.390625 0 \nL 12.40625 0 \nz\n\" id=\"DejaVuSans-49\"/>\n       </defs>\n       <use xlink:href=\"#DejaVuSans-49\"/>\n       <use x=\"63.623047\" xlink:href=\"#DejaVuSans-48\"/>\n      </g>\n     </g>\n    </g>\n    <g id=\"xtick_3\">\n     <g id=\"line2d_3\">\n      <g>\n       <use style=\"stroke:#000000;stroke-width:0.8;\" x=\"177.566761\" xlink:href=\"#m3545c378ed\" y=\"239.758125\"/>\n      </g>\n     </g>\n     <g id=\"text_3\">\n      <!-- 20 -->\n      <g transform=\"translate(171.204261 254.356562)scale(0.1 -0.1)\">\n       <defs>\n        <path d=\"M 19.1875 8.296875 \nL 53.609375 8.296875 \nL 53.609375 0 \nL 7.328125 0 \nL 7.328125 8.296875 \nQ 12.9375 14.109375 22.625 23.890625 \nQ 32.328125 33.6875 34.8125 36.53125 \nQ 39.546875 41.84375 41.421875 45.53125 \nQ 43.3125 49.21875 43.3125 52.78125 \nQ 43.3125 58.59375 39.234375 62.25 \nQ 35.15625 65.921875 28.609375 65.921875 \nQ 23.96875 65.921875 18.8125 64.3125 \nQ 13.671875 62.703125 7.8125 59.421875 \nL 7.8125 69.390625 \nQ 13.765625 71.78125 18.9375 73 \nQ 24.125 74.21875 28.421875 74.21875 \nQ 39.75 74.21875 46.484375 68.546875 \nQ 53.21875 62.890625 53.21875 53.421875 \nQ 53.21875 48.921875 51.53125 44.890625 \nQ 49.859375 40.875 45.40625 35.40625 \nQ 44.1875 33.984375 37.640625 27.21875 \nQ 31.109375 20.453125 19.1875 8.296875 \nz\n\" id=\"DejaVuSans-50\"/>\n       </defs>\n       <use xlink:href=\"#DejaVuSans-50\"/>\n       <use x=\"63.623047\" xlink:href=\"#DejaVuSans-48\"/>\n      </g>\n     </g>\n    </g>\n    <g id=\"xtick_4\">\n     <g id=\"line2d_4\">\n      <g>\n       <use style=\"stroke:#000000;stroke-width:0.8;\" x=\"238.439489\" xlink:href=\"#m3545c378ed\" y=\"239.758125\"/>\n      </g>\n     </g>\n     <g id=\"text_4\">\n      <!-- 30 -->\n      <g transform=\"translate(232.076989 254.356562)scale(0.1 -0.1)\">\n       <defs>\n        <path d=\"M 40.578125 39.3125 \nQ 47.65625 37.796875 51.625 33 \nQ 55.609375 28.21875 55.609375 21.1875 \nQ 55.609375 10.40625 48.1875 4.484375 \nQ 40.765625 -1.421875 27.09375 -1.421875 \nQ 22.515625 -1.421875 17.65625 -0.515625 \nQ 12.796875 0.390625 7.625 2.203125 \nL 7.625 11.71875 \nQ 11.71875 9.328125 16.59375 8.109375 \nQ 21.484375 6.890625 26.8125 6.890625 \nQ 36.078125 6.890625 40.9375 10.546875 \nQ 45.796875 14.203125 45.796875 21.1875 \nQ 45.796875 27.640625 41.28125 31.265625 \nQ 36.765625 34.90625 28.71875 34.90625 \nL 20.21875 34.90625 \nL 20.21875 43.015625 \nL 29.109375 43.015625 \nQ 36.375 43.015625 40.234375 45.921875 \nQ 44.09375 48.828125 44.09375 54.296875 \nQ 44.09375 59.90625 40.109375 62.90625 \nQ 36.140625 65.921875 28.71875 65.921875 \nQ 24.65625 65.921875 20.015625 65.03125 \nQ 15.375 64.15625 9.8125 62.3125 \nL 9.8125 71.09375 \nQ 15.4375 72.65625 20.34375 73.4375 \nQ 25.25 74.21875 29.59375 74.21875 \nQ 40.828125 74.21875 47.359375 69.109375 \nQ 53.90625 64.015625 53.90625 55.328125 \nQ 53.90625 49.265625 50.4375 45.09375 \nQ 46.96875 40.921875 40.578125 39.3125 \nz\n\" id=\"DejaVuSans-51\"/>\n       </defs>\n       <use xlink:href=\"#DejaVuSans-51\"/>\n       <use x=\"63.623047\" xlink:href=\"#DejaVuSans-48\"/>\n      </g>\n     </g>\n    </g>\n    <g id=\"xtick_5\">\n     <g id=\"line2d_5\">\n      <g>\n       <use style=\"stroke:#000000;stroke-width:0.8;\" x=\"299.312216\" xlink:href=\"#m3545c378ed\" y=\"239.758125\"/>\n      </g>\n     </g>\n     <g id=\"text_5\">\n      <!-- 40 -->\n      <g transform=\"translate(292.949716 254.356562)scale(0.1 -0.1)\">\n       <defs>\n        <path d=\"M 37.796875 64.3125 \nL 12.890625 25.390625 \nL 37.796875 25.390625 \nz\nM 35.203125 72.90625 \nL 47.609375 72.90625 \nL 47.609375 25.390625 \nL 58.015625 25.390625 \nL 58.015625 17.1875 \nL 47.609375 17.1875 \nL 47.609375 0 \nL 37.796875 0 \nL 37.796875 17.1875 \nL 4.890625 17.1875 \nL 4.890625 26.703125 \nz\n\" id=\"DejaVuSans-52\"/>\n       </defs>\n       <use xlink:href=\"#DejaVuSans-52\"/>\n       <use x=\"63.623047\" xlink:href=\"#DejaVuSans-48\"/>\n      </g>\n     </g>\n    </g>\n    <g id=\"xtick_6\">\n     <g id=\"line2d_6\">\n      <g>\n       <use style=\"stroke:#000000;stroke-width:0.8;\" x=\"360.184943\" xlink:href=\"#m3545c378ed\" y=\"239.758125\"/>\n      </g>\n     </g>\n     <g id=\"text_6\">\n      <!-- 50 -->\n      <g transform=\"translate(353.822443 254.356562)scale(0.1 -0.1)\">\n       <defs>\n        <path d=\"M 10.796875 72.90625 \nL 49.515625 72.90625 \nL 49.515625 64.59375 \nL 19.828125 64.59375 \nL 19.828125 46.734375 \nQ 21.96875 47.46875 24.109375 47.828125 \nQ 26.265625 48.1875 28.421875 48.1875 \nQ 40.625 48.1875 47.75 41.5 \nQ 54.890625 34.8125 54.890625 23.390625 \nQ 54.890625 11.625 47.5625 5.09375 \nQ 40.234375 -1.421875 26.90625 -1.421875 \nQ 22.3125 -1.421875 17.546875 -0.640625 \nQ 12.796875 0.140625 7.71875 1.703125 \nL 7.71875 11.625 \nQ 12.109375 9.234375 16.796875 8.0625 \nQ 21.484375 6.890625 26.703125 6.890625 \nQ 35.15625 6.890625 40.078125 11.328125 \nQ 45.015625 15.765625 45.015625 23.390625 \nQ 45.015625 31 40.078125 35.4375 \nQ 35.15625 39.890625 26.703125 39.890625 \nQ 22.75 39.890625 18.8125 39.015625 \nQ 14.890625 38.140625 10.796875 36.28125 \nz\n\" id=\"DejaVuSans-53\"/>\n       </defs>\n       <use xlink:href=\"#DejaVuSans-53\"/>\n       <use x=\"63.623047\" xlink:href=\"#DejaVuSans-48\"/>\n      </g>\n     </g>\n    </g>\n    <g id=\"text_7\">\n     <!-- X -->\n     <g transform=\"translate(204.578125 268.034687)scale(0.1 -0.1)\">\n      <defs>\n       <path d=\"M 6.296875 72.90625 \nL 16.890625 72.90625 \nL 35.015625 45.796875 \nL 53.21875 72.90625 \nL 63.8125 72.90625 \nL 40.375 37.890625 \nL 65.375 0 \nL 54.78125 0 \nL 34.28125 31 \nL 13.625 0 \nL 2.984375 0 \nL 29 38.921875 \nz\n\" id=\"DejaVuSans-88\"/>\n      </defs>\n      <use xlink:href=\"#DejaVuSans-88\"/>\n     </g>\n    </g>\n   </g>\n   <g id=\"matplotlib.axis_2\">\n    <g id=\"ytick_1\">\n     <g id=\"line2d_7\">\n      <defs>\n       <path d=\"M 0 0 \nL -3.5 0 \n\" id=\"m89531fb58f\" style=\"stroke:#000000;stroke-width:0.8;\"/>\n      </defs>\n      <g>\n       <use style=\"stroke:#000000;stroke-width:0.8;\" x=\"40.603125\" xlink:href=\"#m89531fb58f\" y=\"229.874489\"/>\n      </g>\n     </g>\n     <g id=\"text_8\">\n      <!-- 0 -->\n      <g transform=\"translate(27.240625 233.673707)scale(0.1 -0.1)\">\n       <use xlink:href=\"#DejaVuSans-48\"/>\n      </g>\n     </g>\n    </g>\n    <g id=\"ytick_2\">\n     <g id=\"line2d_8\">\n      <g>\n       <use style=\"stroke:#000000;stroke-width:0.8;\" x=\"40.603125\" xlink:href=\"#m89531fb58f\" y=\"190.339943\"/>\n      </g>\n     </g>\n     <g id=\"text_9\">\n      <!-- 10 -->\n      <g transform=\"translate(20.878125 194.139162)scale(0.1 -0.1)\">\n       <use xlink:href=\"#DejaVuSans-49\"/>\n       <use x=\"63.623047\" xlink:href=\"#DejaVuSans-48\"/>\n      </g>\n     </g>\n    </g>\n    <g id=\"ytick_3\">\n     <g id=\"line2d_9\">\n      <g>\n       <use style=\"stroke:#000000;stroke-width:0.8;\" x=\"40.603125\" xlink:href=\"#m89531fb58f\" y=\"150.805398\"/>\n      </g>\n     </g>\n     <g id=\"text_10\">\n      <!-- 20 -->\n      <g transform=\"translate(20.878125 154.604616)scale(0.1 -0.1)\">\n       <use xlink:href=\"#DejaVuSans-50\"/>\n       <use x=\"63.623047\" xlink:href=\"#DejaVuSans-48\"/>\n      </g>\n     </g>\n    </g>\n    <g id=\"ytick_4\">\n     <g id=\"line2d_10\">\n      <g>\n       <use style=\"stroke:#000000;stroke-width:0.8;\" x=\"40.603125\" xlink:href=\"#m89531fb58f\" y=\"111.270852\"/>\n      </g>\n     </g>\n     <g id=\"text_11\">\n      <!-- 30 -->\n      <g transform=\"translate(20.878125 115.070071)scale(0.1 -0.1)\">\n       <use xlink:href=\"#DejaVuSans-51\"/>\n       <use x=\"63.623047\" xlink:href=\"#DejaVuSans-48\"/>\n      </g>\n     </g>\n    </g>\n    <g id=\"ytick_5\">\n     <g id=\"line2d_11\">\n      <g>\n       <use style=\"stroke:#000000;stroke-width:0.8;\" x=\"40.603125\" xlink:href=\"#m89531fb58f\" y=\"71.736307\"/>\n      </g>\n     </g>\n     <g id=\"text_12\">\n      <!-- 40 -->\n      <g transform=\"translate(20.878125 75.535526)scale(0.1 -0.1)\">\n       <use xlink:href=\"#DejaVuSans-52\"/>\n       <use x=\"63.623047\" xlink:href=\"#DejaVuSans-48\"/>\n      </g>\n     </g>\n    </g>\n    <g id=\"ytick_6\">\n     <g id=\"line2d_12\">\n      <g>\n       <use style=\"stroke:#000000;stroke-width:0.8;\" x=\"40.603125\" xlink:href=\"#m89531fb58f\" y=\"32.201761\"/>\n      </g>\n     </g>\n     <g id=\"text_13\">\n      <!-- 50 -->\n      <g transform=\"translate(20.878125 36.00098)scale(0.1 -0.1)\">\n       <use xlink:href=\"#DejaVuSans-53\"/>\n       <use x=\"63.623047\" xlink:href=\"#DejaVuSans-48\"/>\n      </g>\n     </g>\n    </g>\n    <g id=\"text_14\">\n     <!-- Y -->\n     <g transform=\"translate(14.798438 134.092031)rotate(-90)scale(0.1 -0.1)\">\n      <defs>\n       <path d=\"M -0.203125 72.90625 \nL 10.40625 72.90625 \nL 30.609375 42.921875 \nL 50.6875 72.90625 \nL 61.28125 72.90625 \nL 35.5 34.71875 \nL 35.5 0 \nL 25.59375 0 \nL 25.59375 34.71875 \nz\n\" id=\"DejaVuSans-89\"/>\n      </defs>\n      <use xlink:href=\"#DejaVuSans-89\"/>\n     </g>\n    </g>\n   </g>\n   <g id=\"line2d_13\">\n    <path clip-path=\"url(#p3b9ed4adfe)\" d=\"M 55.821307 229.874489 \nL 360.184943 32.201761 \nL 360.184943 32.201761 \n\" style=\"fill:none;stroke:#1f77b4;stroke-linecap:square;stroke-width:1.5;\"/>\n   </g>\n   <g id=\"patch_3\">\n    <path d=\"M 40.603125 239.758125 \nL 40.603125 22.318125 \n\" style=\"fill:none;stroke:#000000;stroke-linecap:square;stroke-linejoin:miter;stroke-width:0.8;\"/>\n   </g>\n   <g id=\"patch_4\">\n    <path d=\"M 375.403125 239.758125 \nL 375.403125 22.318125 \n\" style=\"fill:none;stroke:#000000;stroke-linecap:square;stroke-linejoin:miter;stroke-width:0.8;\"/>\n   </g>\n   <g id=\"patch_5\">\n    <path d=\"M 40.603125 239.758125 \nL 375.403125 239.758125 \n\" style=\"fill:none;stroke:#000000;stroke-linecap:square;stroke-linejoin:miter;stroke-width:0.8;\"/>\n   </g>\n   <g id=\"patch_6\">\n    <path d=\"M 40.603125 22.318125 \nL 375.403125 22.318125 \n\" style=\"fill:none;stroke:#000000;stroke-linecap:square;stroke-linejoin:miter;stroke-width:0.8;\"/>\n   </g>\n   <g id=\"text_15\">\n    <!-- Demo Plot woohoo -->\n    <g transform=\"translate(151.659375 16.318125)scale(0.12 -0.12)\">\n     <defs>\n      <path d=\"M 19.671875 64.796875 \nL 19.671875 8.109375 \nL 31.59375 8.109375 \nQ 46.6875 8.109375 53.6875 14.9375 \nQ 60.6875 21.78125 60.6875 36.53125 \nQ 60.6875 51.171875 53.6875 57.984375 \nQ 46.6875 64.796875 31.59375 64.796875 \nz\nM 9.8125 72.90625 \nL 30.078125 72.90625 \nQ 51.265625 72.90625 61.171875 64.09375 \nQ 71.09375 55.28125 71.09375 36.53125 \nQ 71.09375 17.671875 61.125 8.828125 \nQ 51.171875 0 30.078125 0 \nL 9.8125 0 \nz\n\" id=\"DejaVuSans-68\"/>\n      <path d=\"M 56.203125 29.59375 \nL 56.203125 25.203125 \nL 14.890625 25.203125 \nQ 15.484375 15.921875 20.484375 11.0625 \nQ 25.484375 6.203125 34.421875 6.203125 \nQ 39.59375 6.203125 44.453125 7.46875 \nQ 49.3125 8.734375 54.109375 11.28125 \nL 54.109375 2.78125 \nQ 49.265625 0.734375 44.1875 -0.34375 \nQ 39.109375 -1.421875 33.890625 -1.421875 \nQ 20.796875 -1.421875 13.15625 6.1875 \nQ 5.515625 13.8125 5.515625 26.8125 \nQ 5.515625 40.234375 12.765625 48.109375 \nQ 20.015625 56 32.328125 56 \nQ 43.359375 56 49.78125 48.890625 \nQ 56.203125 41.796875 56.203125 29.59375 \nz\nM 47.21875 32.234375 \nQ 47.125 39.59375 43.09375 43.984375 \nQ 39.0625 48.390625 32.421875 48.390625 \nQ 24.90625 48.390625 20.390625 44.140625 \nQ 15.875 39.890625 15.1875 32.171875 \nz\n\" id=\"DejaVuSans-101\"/>\n      <path d=\"M 52 44.1875 \nQ 55.375 50.25 60.0625 53.125 \nQ 64.75 56 71.09375 56 \nQ 79.640625 56 84.28125 50.015625 \nQ 88.921875 44.046875 88.921875 33.015625 \nL 88.921875 0 \nL 79.890625 0 \nL 79.890625 32.71875 \nQ 79.890625 40.578125 77.09375 44.375 \nQ 74.3125 48.1875 68.609375 48.1875 \nQ 61.625 48.1875 57.5625 43.546875 \nQ 53.515625 38.921875 53.515625 30.90625 \nL 53.515625 0 \nL 44.484375 0 \nL 44.484375 32.71875 \nQ 44.484375 40.625 41.703125 44.40625 \nQ 38.921875 48.1875 33.109375 48.1875 \nQ 26.21875 48.1875 22.15625 43.53125 \nQ 18.109375 38.875 18.109375 30.90625 \nL 18.109375 0 \nL 9.078125 0 \nL 9.078125 54.6875 \nL 18.109375 54.6875 \nL 18.109375 46.1875 \nQ 21.1875 51.21875 25.484375 53.609375 \nQ 29.78125 56 35.6875 56 \nQ 41.65625 56 45.828125 52.96875 \nQ 50 49.953125 52 44.1875 \nz\n\" id=\"DejaVuSans-109\"/>\n      <path d=\"M 30.609375 48.390625 \nQ 23.390625 48.390625 19.1875 42.75 \nQ 14.984375 37.109375 14.984375 27.296875 \nQ 14.984375 17.484375 19.15625 11.84375 \nQ 23.34375 6.203125 30.609375 6.203125 \nQ 37.796875 6.203125 41.984375 11.859375 \nQ 46.1875 17.53125 46.1875 27.296875 \nQ 46.1875 37.015625 41.984375 42.703125 \nQ 37.796875 48.390625 30.609375 48.390625 \nz\nM 30.609375 56 \nQ 42.328125 56 49.015625 48.375 \nQ 55.71875 40.765625 55.71875 27.296875 \nQ 55.71875 13.875 49.015625 6.21875 \nQ 42.328125 -1.421875 30.609375 -1.421875 \nQ 18.84375 -1.421875 12.171875 6.21875 \nQ 5.515625 13.875 5.515625 27.296875 \nQ 5.515625 40.765625 12.171875 48.375 \nQ 18.84375 56 30.609375 56 \nz\n\" id=\"DejaVuSans-111\"/>\n      <path id=\"DejaVuSans-32\"/>\n      <path d=\"M 19.671875 64.796875 \nL 19.671875 37.40625 \nL 32.078125 37.40625 \nQ 38.96875 37.40625 42.71875 40.96875 \nQ 46.484375 44.53125 46.484375 51.125 \nQ 46.484375 57.671875 42.71875 61.234375 \nQ 38.96875 64.796875 32.078125 64.796875 \nz\nM 9.8125 72.90625 \nL 32.078125 72.90625 \nQ 44.34375 72.90625 50.609375 67.359375 \nQ 56.890625 61.8125 56.890625 51.125 \nQ 56.890625 40.328125 50.609375 34.8125 \nQ 44.34375 29.296875 32.078125 29.296875 \nL 19.671875 29.296875 \nL 19.671875 0 \nL 9.8125 0 \nz\n\" id=\"DejaVuSans-80\"/>\n      <path d=\"M 9.421875 75.984375 \nL 18.40625 75.984375 \nL 18.40625 0 \nL 9.421875 0 \nz\n\" id=\"DejaVuSans-108\"/>\n      <path d=\"M 18.3125 70.21875 \nL 18.3125 54.6875 \nL 36.8125 54.6875 \nL 36.8125 47.703125 \nL 18.3125 47.703125 \nL 18.3125 18.015625 \nQ 18.3125 11.328125 20.140625 9.421875 \nQ 21.96875 7.515625 27.59375 7.515625 \nL 36.8125 7.515625 \nL 36.8125 0 \nL 27.59375 0 \nQ 17.1875 0 13.234375 3.875 \nQ 9.28125 7.765625 9.28125 18.015625 \nL 9.28125 47.703125 \nL 2.6875 47.703125 \nL 2.6875 54.6875 \nL 9.28125 54.6875 \nL 9.28125 70.21875 \nz\n\" id=\"DejaVuSans-116\"/>\n      <path d=\"M 4.203125 54.6875 \nL 13.1875 54.6875 \nL 24.421875 12.015625 \nL 35.59375 54.6875 \nL 46.1875 54.6875 \nL 57.421875 12.015625 \nL 68.609375 54.6875 \nL 77.59375 54.6875 \nL 63.28125 0 \nL 52.6875 0 \nL 40.921875 44.828125 \nL 29.109375 0 \nL 18.5 0 \nz\n\" id=\"DejaVuSans-119\"/>\n      <path d=\"M 54.890625 33.015625 \nL 54.890625 0 \nL 45.90625 0 \nL 45.90625 32.71875 \nQ 45.90625 40.484375 42.875 44.328125 \nQ 39.84375 48.1875 33.796875 48.1875 \nQ 26.515625 48.1875 22.3125 43.546875 \nQ 18.109375 38.921875 18.109375 30.90625 \nL 18.109375 0 \nL 9.078125 0 \nL 9.078125 75.984375 \nL 18.109375 75.984375 \nL 18.109375 46.1875 \nQ 21.34375 51.125 25.703125 53.5625 \nQ 30.078125 56 35.796875 56 \nQ 45.21875 56 50.046875 50.171875 \nQ 54.890625 44.34375 54.890625 33.015625 \nz\n\" id=\"DejaVuSans-104\"/>\n     </defs>\n     <use xlink:href=\"#DejaVuSans-68\"/>\n     <use x=\"77.001953\" xlink:href=\"#DejaVuSans-101\"/>\n     <use x=\"138.525391\" xlink:href=\"#DejaVuSans-109\"/>\n     <use x=\"235.9375\" xlink:href=\"#DejaVuSans-111\"/>\n     <use x=\"297.119141\" xlink:href=\"#DejaVuSans-32\"/>\n     <use x=\"328.90625\" xlink:href=\"#DejaVuSans-80\"/>\n     <use x=\"389.208984\" xlink:href=\"#DejaVuSans-108\"/>\n     <use x=\"416.992188\" xlink:href=\"#DejaVuSans-111\"/>\n     <use x=\"478.173828\" xlink:href=\"#DejaVuSans-116\"/>\n     <use x=\"517.382812\" xlink:href=\"#DejaVuSans-32\"/>\n     <use x=\"549.169922\" xlink:href=\"#DejaVuSans-119\"/>\n     <use x=\"630.957031\" xlink:href=\"#DejaVuSans-111\"/>\n     <use x=\"692.138672\" xlink:href=\"#DejaVuSans-111\"/>\n     <use x=\"753.320312\" xlink:href=\"#DejaVuSans-104\"/>\n     <use x=\"816.699219\" xlink:href=\"#DejaVuSans-111\"/>\n     <use x=\"877.880859\" xlink:href=\"#DejaVuSans-111\"/>\n    </g>\n   </g>\n  </g>\n </g>\n <defs>\n  <clipPath id=\"p3b9ed4adfe\">\n   <rect height=\"217.44\" width=\"334.8\" x=\"40.603125\" y=\"22.318125\"/>\n  </clipPath>\n </defs>\n</svg>\n",
      "image/png": "[encoded data removed]"
     },
     "metadata": {
      "needs_background": "light"
     }
    }
   ],
   "source": [
    "import matplotlib.pyplot as plt # Again another import aliasing convention\n",
    "\n",
    "# Let us plot a simple straight line curve\n",
    "x = np.linspace(0, 50, 1000)\n",
    "y = x\n",
    "\n",
    "fig = plt.figure() # create a figure object\n",
    "plt.plot(x, y) # Add the plot of y=x to our figure object\n",
    "plt.xlabel('X') # Adding the label to our x-axis\n",
    "plt.ylabel('Y') # Adding the label to our y-axis\n",
    "plt.title('Demo Plot woohoo') # Adding our title\n",
    "fig.show() # display the image!"
   ]
  },
  {
   "source": [
    "As a challenge, now you are going to plot two lines on the same graph: one line that is constant, meaning all your y-values are equal to 5, and the other line is going to be a straight line like the one above, but rather than $y=x$, we want to plot $y=-x$. Plot these from -20 < x < 20 (Bonus: see if you can add legends)"
   ],
   "cell_type": "markdown",
   "metadata": {}
  },
  {
   "cell_type": "code",
   "execution_count": null,
   "metadata": {},
   "outputs": [],
   "source": [
    "## Challenge: Plotting our first graph!\n",
    "\n",
    "# Getting our linear line\n",
    "x = np.linspace(-20, 20, 1000)\n",
    "y0 = np.ones(len(x)) * 5 \n",
    "y1 = -x\n",
    "\n",
    "fig = plt.figure() # create a figure object\n",
    "plt.plot(x, y0) # Add the plot of y=5 to our figure object\n",
    "plt.plot(x, y1) # Add the plot of y=-x to our figure object\n",
    "plt.xlabel('X') # Adding the label to our x-axis\n",
    "plt.ylabel('Y') # Adding the label to our y-axis\n",
    "plt.title('Demo Plot woohoo') # Adding our title\n",
    "plt.legend(('Constant', 'Straight Line'))\n",
    "fig.show() # display the image!"
   ]
  },
  {
   "source": [
    "# Mathematical Functions\n",
    "\n",
    "We are now going to cover one of the most important concepts in mathematics: __functions__. A function is basically a process that associates every possible input to one, __unique__ output. In the simplest sense, a function in mathematics is just any general process that takes an __input__ and generates an __output__, with the condition that a given input maps to a __unique__ output. Consider the function in the example below:\n",
    "\n",
    "<img src=\"https://upload.wikimedia.org/wikipedia/commons/thumb/d/df/Function_color_example_3.svg/220px-Function_color_example_3.svg.png\" style=\"display: block; margin-left: auto; margin-right: auto; width: 30%;\">\n",
    "\n",
    "[Source](https://en.wikipedia.org/wiki/Function_(mathematics))\n",
    "\n",
    "In this example, the function:\n",
    "- Maps every single input, in these case these shapes, to a particular colour as an output\n",
    "- Different inputs can map to the same output, just as in this example, two objects can be mapped to the colour 'red'\n",
    "- Each single input can only be mapped to one single output and in our example, we see it would not make sense to assign more than one colour to one single object\n",
    "\n",
    "Another intutive example to understand functions is a function that takes in the items you wish to purchase at the supermarket, and maps this to a particular price for you to pay at the checkout. It makes sense for two people to pay the same price for a different combinations of items, but it would not make sense to charge two people with the same items different prices! While it is important to keep these notions in mind, we abstract it further (especially in the context in which we will be dealing with functions), and with the conditions above, treat a function as a __black-box__. It's that simple, in goes an input and out comes an output, as shown in the diagram below:\n",
    "\n",
    "<img src=\"https://upload.wikimedia.org/wikipedia/commons/thumb/3/3b/Function_machine2.svg/220px-Function_machine2.svg.png\" style=\"display: block; margin-left: auto; margin-right: auto; width: 30%\">\n",
    "\n",
    "[Source](https://upload.wikimedia.org/wikipedia/commons/thumb/3/3b/Function_machine2.svg/220px-Function_machine2.svg.png)\n",
    "\n",
    "If that looks similar, it's because it is! We used the same black-box analogy to try and understand functions in Python and we first came about them. It turns out that mathematical functions translate over to Python pretty nicely through functions, as we will see shortly. In general, we denote this input to the function as $x$, the function itself as $f$ and the output as $y$ or $f(x)$. This is not very strict, but is the standard notion when you first start getting familiar with functions. Let's learn a bit more about these by looking at one of the most common and simplest type of functions."
   ],
   "cell_type": "markdown",
   "metadata": {}
  },
  {
   "source": [
    "# Linear Functions\n",
    "\n",
    "You have all probably encountered this concept in the past, but __linear relationships__ are pretty important in data science so it's always good to lay down some strong foundations. A __linear function__ is a function of the following form:\n",
    "\n",
    "$$f(x) = y = mx + c$$\n",
    "\n",
    "Where $m$ is referred to as the __slope__ or __gradient__, and __c__ is the y-intercept.\n",
    "\n",
    "At its core, linear functions are just straight lines in the __Cartesian Plane__ (an output vs. input graph), and by varying the parameters $m$ and $c$, we can describe _any_ straight line. To explore this idea, let us start with the simplest example: $m=1$, $c=0$.\n",
    "\n",
    "$$f(x) = x$$\n",
    "\n",
    "All this means, is that the output of a given input is just the input itself! Here are some example inputs to show this:\n",
    "$$f(0) = 0$$\n",
    "$$f(2) = 2$$\n",
    "$$f(-20) = -20$$\n",
    "$$f(2.3) = 2.3$$\n",
    "\n",
    "We can now plot this, as we have done below:"
   ],
   "cell_type": "markdown",
   "metadata": {}
  },
  {
   "cell_type": "code",
   "execution_count": null,
   "metadata": {},
   "outputs": [],
   "source": [
    "# Function representing f(x)=x\n",
    "def f(x):\n",
    "    return x\n",
    "\n",
    "# Let us plot a simple straight line curve\n",
    "x = np.linspace(0, 50, 1000)\n",
    "y = f(x)\n",
    "\n",
    "fig = plt.figure() # create a figure object\n",
    "plt.plot(x, y) # Add the plot of y=x to our figure object\n",
    "plt.xlabel('X') # Adding the label to our x-axis\n",
    "plt.ylabel('Y') # Adding the label to our y-axis\n",
    "plt.title('Demo Plot woohoo') # Adding our title\n",
    "fig.show() # display the image!"
   ]
  },
  {
   "source": [
    "So what happens when we vary the values of $m$ and $c$? Let's find out! below, write two more functions: f1() and f2(), just like f(x) in the above example. For f1(), change the value of $m$ from 1 with $c=0$, and for f2(), change the value of $c$ from 0, with $m=1. Then, plot f(x), f1(x) and f2(x) on the same plot with axes labels, a title and legends. What are some differences you observe?"
   ],
   "cell_type": "markdown",
   "metadata": {}
  },
  {
   "cell_type": "code",
   "execution_count": null,
   "metadata": {},
   "outputs": [],
   "source": [
    "## Challenge: Make your own functions!\n",
    "def f1(x):\n",
    "    return 2*x\n",
    "def f2(x):\n",
    "    return x + 20\n",
    "\n",
    "# Let us plot the appropriate lines\n",
    "x = np.linspace(0, 50, 1000)\n",
    "y1 = f(x)\n",
    "y2 = f1(x)\n",
    "y3 = f2(x) \n",
    "\n",
    "fig = plt.figure() # create a figure object\n",
    "plt.plot(x, y1)\n",
    "plt.plot(x, y2)\n",
    "plt.plot(x, y3)\n",
    "plt.xlabel('X') # Adding the label to our x-axis\n",
    "plt.ylabel('Y') # Adding the label to our y-axis\n",
    "plt.title('Demo Plot woohoo') # Adding our title\n",
    "plt.legend(('f(x) = x', 'f(x) = 2x', 'f(x) = x + 3'))\n",
    "fig.show() # display the image!"
   ]
  },
  {
   "source": [
    "If you managed to get it working, then you must have noticed the differences between changing $m$ and changing $c$: increasing the gradient makes the straight line steeper, whereas increasing our y-intercept, $c$, simply shifts the line up (would shift it down if the value was negative). With infinitely many combinations of $m$ and $c$, we can represent any straight line as a linear function!!\n",
    "\n",
    "In the world, it is very rare that you will find perfect linear functions as we have seen today (at least in the case of one input variable that is), but nonetheless, they are a building block of many other types of functions and the idea of the slope/gradient of a straight line will be very handy when we get to calculus! We will now look at another type of function.\n"
   ],
   "cell_type": "markdown",
   "metadata": {}
  },
  {
   "source": [
    "# Quadratic Functions\n",
    "\n",
    "Another function that models other types of relationships is a __quadratic function__, generally written in the form below:\n",
    "\n",
    "$$f(x) = ax^{2} + bx +c$$\n",
    "\n",
    "Where $a, b, \\text{ and } c$ are the parameters of the quadratic function. To understand the difference in behaviour between a quadratic function and a linear function, let us look at a very simple example: area and perimeter of a square garden, as shown in the image below.\n",
    "\n",
    "<img src=\"https://upload.wikimedia.org/wikipedia/commons/9/9b/Greensquare.png\" style=\"display: block; margin-left: auto; margin-right: auto; width:20%\">\n",
    "\n",
    "If we consider at any point for the width and length of this garden to be equal to $x$, then we can write the perimeter of the garden as follows:\n",
    "\n",
    "$$P(x) = x + x + x + x = 4x$$\n",
    "\n",
    "And the area of the garden as follows:\n",
    "\n",
    "$$A(x) = x \\times x = x^{2}$$\n",
    "\n",
    "From our formulation of the problem, the perimeter of the garden is now a __linear function__ of the width, whereas the area is a __quadratic function__ of the width. The simplest distintion between the two is the following: if I double the width/height, the perimeter __doubles__, but the area __increases by a factor of 4__! Let's plot these to get a bit better of an understanding of this distinction."
   ],
   "cell_type": "markdown",
   "metadata": {}
  },
  {
   "cell_type": "code",
   "execution_count": null,
   "metadata": {},
   "outputs": [],
   "source": [
    "# Plotting perimeter and area as functions of width\n",
    "def P(x):\n",
    "    return 4*x\n",
    "def A(x):\n",
    "    return x**2\n",
    "\n",
    "x = np.linspace(0, 20, 1000) # getting the width values\n",
    "P = P(x) # computing the perimeter\n",
    "A = A(x) # computing the area\n",
    "\n",
    "\n",
    "fig = plt.figure() # create a figure object\n",
    "plt.plot(x, P)\n",
    "plt.plot(x, A)\n",
    "plt.xlabel('X') # Adding the label to our x-axis\n",
    "plt.ylabel('Y') # Adding the label to our y-axis\n",
    "plt.title('The Green Garden Scenario') # Adding our title\n",
    "plt.legend(('P(x)', 'A(x)'))\n",
    "fig.show() # display the image!\n"
   ]
  },
  {
   "source": [
    "Wow, so we see that a quadratic functions grows much more rapidly than a linear function would. Below we just display some general quadratic functions for different parameters."
   ],
   "cell_type": "markdown",
   "metadata": {}
  },
  {
   "cell_type": "code",
   "execution_count": null,
   "metadata": {},
   "outputs": [],
   "source": [
    "# Plotting quadratics\n",
    "def general_quadratic(x, params):\n",
    "    a, b, c = params\n",
    "    return a*(x**2) + b*x + c\n",
    "\n",
    "x = np.linspace(-10, 10, 1000)\n",
    "my_legend = []\n",
    "\n",
    "fig = plt.figure() # create a figure object\n",
    "for i in range(5): # plotting 5 different graphs with random values for their 3 parameters\n",
    "    abc = (np.random.rand(3)-0.5)*10\n",
    "    plt.plot(x, general_quadratic(x, abc))\n",
    "    my_legend.append('f(x) = {:.2f}x^2 + {:.2f}x + {:.2f}'.format(abc[0], abc[1], abc[2])) \n",
    "\n",
    "print(my_legend)\n",
    "plt.xlabel('X') # Adding the label to our x-axis\n",
    "plt.ylabel('Y') # Adding the label to our y-axis\n",
    "plt.title('Many many quadratics') # Adding our title\n",
    "plt.legend(my_legend)\n",
    "fig.show() # display the image!"
   ]
  },
  {
   "source": [
    "While in the domain of quadratic functions, an important tool is often knowing how to find the __zeros__ of a function. It can get pretty tricky to determine this analytically for more complex functions. However, for quadratic functions, we can use the infamous __quadratic formula__. For a quadratic function of the form:\n",
    "$$f(x) = ax^{2} + bx + c = 0$$\n",
    "\n",
    "Its zeros are given by:\n",
    "\n",
    "$$x_{+,-} = \\frac{-b \\pm \\sqrt{b^{2} - 4ab} }{2a}$$\n",
    "\n",
    "In general, we can use computational methods to compute this faster than we could ourselves (especially since most of the time with the quadratic formula you would still use a calculator anyways!). But for some identities you may encounter in the future, they may assume this to be prior knowledge\n",
    " "
   ],
   "cell_type": "markdown",
   "metadata": {}
  },
  {
   "source": [
    "# Polynomial Functions\n",
    "\n",
    "These are are just a family of functions, with the general form given by:\n",
    "\n",
    "$$f(x) = a_{n}x^{n} + a_{n-1}x^{n-1} + ... + a_{2}x^{2} + a_{1}x + a_{0}$$\n",
    "\n",
    "Where $a_{n}, a_{n-1}, ..., a_{0}$ are the parameters of the polynomial function. This is essentially a fancy generalization for functions that contain the sum of many different $x$ terms with different powers and coefficients. The largest power in a polynomial is referred to as its __degree__. We have actually already seen a few of these.\n",
    "\n",
    "$f(x) = c$ - constant function, equivalent to a polynomial with a degree of 0\n",
    "\n",
    "$f(x) = mx + c$ - linear function, equivalent to a polynomial with a degree of 1\n",
    "\n",
    "$f(x) = ax^{2} + bx + c$ - quadratic function, equivalent to a polynomial with a degree of 2\n",
    "\n",
    "Can we still find the zeros of polynomials with a single equation like the quadratic formula? I'm afraid that it only gets trickier as the degree of the polynomial goes up... that is if you are doing it by hand! Since we have Python, we can find the zeros of large polynomials in less than a second with _np.roots_! Since every polynomial has a unique combination of parameters, by inputing the parameters, NumPy uses computational methods to find all the possible zeros. Below, we write a function that generates a random polynomial of a chosen degree, and plots red, vertical lines across its zeros."
   ],
   "cell_type": "markdown",
   "metadata": {}
  },
  {
   "cell_type": "code",
   "execution_count": 18,
   "metadata": {},
   "outputs": [],
   "source": [
    "# Find the zeros of any polynomial with NumPy\n",
    "def polynomial_function(degree):\n",
    "    # Getting parameters and printing the polynomial\n",
    "    parameters = (np.random.rand(degree + 1) - 0.5)*5\n",
    "    func_string = []\n",
    "    for power, param in enumerate(parameters):\n",
    "        if power == 0:\n",
    "            func_string.append('{:.2f}'.format(param))\n",
    "        elif power == 1:\n",
    "            func_string.append('{:.2f}x'.format(param))\n",
    "        else:\n",
    "            func_string.append('{:.2f}x^{}'.format(param, power))\n",
    "    print('f(x) = ' + ' + '.join(func_string[::-1]))\n",
    "\n",
    "    # Getting the values and plotting our polynomial    \n",
    "    x = np.linspace(-10, 10, 1000)\n",
    "    y = np.zeros_like(x)\n",
    "    for power, param in enumerate(parameters):\n",
    "        y += param * (x ** power)\n",
    "    fig = plt.figure()\n",
    "    plt.plot(x, y)\n",
    "\n",
    "    # Finds the zeros of the given polynomial and plotting them (vertical line has constant x value and increasing y values)\n",
    "    zeros = np.roots(parameters[::-1]) # must flip the array because of the way the input is defined in numpy\n",
    "    print('Zeros: {}'.format(zeros))\n",
    "    upper, lower = np.amax(y), np.amin(y) # determines where to stop vertical lines\n",
    "    y = np.linspace(lower, upper, 1000)\n",
    "    for zero in zeros:\n",
    "        if np.isreal(zero):\n",
    "            plt.plot(np.ones_like(y)*zero, y, 'r--')\n",
    "    \n",
    "    # Adding extra bits to finish off our plot!\n",
    "    plt.xlabel('X')\n",
    "    plt.ylabel('Y')\n",
    "    plt.title('Polynomial Function and Its Zeros')\n",
    "    plt.grid(b=True)"
   ]
  },
  {
   "cell_type": "code",
   "execution_count": 19,
   "metadata": {},
   "outputs": [
    {
     "output_type": "stream",
     "name": "stdout",
     "text": [
      "f(x) = 0.61x^2 + -0.86x + 2.05\nZeros: [0.70179836+1.68935488j 0.70179836-1.68935488j]\n"
     ]
    },
    {
     "output_type": "display_data",
     "data": {
      "text/plain": "<Figure size 432x288 with 1 Axes>",
      "image/svg+xml": "<?xml version=\"1.0\" encoding=\"utf-8\" standalone=\"no\"?>\n<!DOCTYPE svg PUBLIC \"-//W3C//DTD SVG 1.1//EN\"\n  \"http://www.w3.org/Graphics/SVG/1.1/DTD/svg11.dtd\">\n<!-- Created with matplotlib (https://matplotlib.org/) -->\n<svg height=\"277.314375pt\" version=\"1.1\" viewBox=\"0 0 382.603125 277.314375\" width=\"382.603125pt\" xmlns=\"http://www.w3.org/2000/svg\" xmlns:xlink=\"http://www.w3.org/1999/xlink\">\n <metadata>\n  <rdf:RDF xmlns:cc=\"http://creativecommons.org/ns#\" xmlns:dc=\"http://purl.org/dc/elements/1.1/\" xmlns:rdf=\"http://www.w3.org/1999/02/22-rdf-syntax-ns#\">\n   <cc:Work>\n    <dc:type rdf:resource=\"http://purl.org/dc/dcmitype/StillImage\"/>\n    <dc:date>2020-12-04T12:59:24.999338</dc:date>\n    <dc:format>image/svg+xml</dc:format>\n    <dc:creator>\n     <cc:Agent>\n      <dc:title>Matplotlib v3.3.1, https://matplotlib.org/</dc:title>\n     </cc:Agent>\n    </dc:creator>\n   </cc:Work>\n  </rdf:RDF>\n </metadata>\n <defs>\n  <style type=\"text/css\">*{stroke-linecap:butt;stroke-linejoin:round;}</style>\n </defs>\n <g id=\"figure_1\">\n  <g id=\"patch_1\">\n   <path d=\"M 0 277.314375 \nL 382.603125 277.314375 \nL 382.603125 0 \nL 0 0 \nz\n\" style=\"fill:none;\"/>\n  </g>\n  <g id=\"axes_1\">\n   <g id=\"patch_2\">\n    <path d=\"M 40.603125 239.758125 \nL 375.403125 239.758125 \nL 375.403125 22.318125 \nL 40.603125 22.318125 \nz\n\" style=\"fill:#ffffff;\"/>\n   </g>\n   <g id=\"matplotlib.axis_1\">\n    <g id=\"xtick_1\">\n     <g id=\"line2d_1\">\n      <path clip-path=\"url(#p3d0049d580)\" d=\"M 55.821307 239.758125 \nL 55.821307 22.318125 \n\" style=\"fill:none;stroke:#b0b0b0;stroke-linecap:square;stroke-width:0.8;\"/>\n     </g>\n     <g id=\"line2d_2\">\n      <defs>\n       <path d=\"M 0 0 \nL 0 3.5 \n\" id=\"mab8201b6b3\" style=\"stroke:#000000;stroke-width:0.8;\"/>\n      </defs>\n      <g>\n       <use style=\"stroke:#000000;stroke-width:0.8;\" x=\"55.821307\" xlink:href=\"#mab8201b6b3\" y=\"239.758125\"/>\n      </g>\n     </g>\n     <g id=\"text_1\">\n      <!-- −10.0 -->\n      <g transform=\"translate(40.498651 254.356562)scale(0.1 -0.1)\">\n       <defs>\n        <path d=\"M 10.59375 35.5 \nL 73.1875 35.5 \nL 73.1875 27.203125 \nL 10.59375 27.203125 \nz\n\" id=\"DejaVuSans-8722\"/>\n        <path d=\"M 12.40625 8.296875 \nL 28.515625 8.296875 \nL 28.515625 63.921875 \nL 10.984375 60.40625 \nL 10.984375 69.390625 \nL 28.421875 72.90625 \nL 38.28125 72.90625 \nL 38.28125 8.296875 \nL 54.390625 8.296875 \nL 54.390625 0 \nL 12.40625 0 \nz\n\" id=\"DejaVuSans-49\"/>\n        <path d=\"M 31.78125 66.40625 \nQ 24.171875 66.40625 20.328125 58.90625 \nQ 16.5 51.421875 16.5 36.375 \nQ 16.5 21.390625 20.328125 13.890625 \nQ 24.171875 6.390625 31.78125 6.390625 \nQ 39.453125 6.390625 43.28125 13.890625 \nQ 47.125 21.390625 47.125 36.375 \nQ 47.125 51.421875 43.28125 58.90625 \nQ 39.453125 66.40625 31.78125 66.40625 \nz\nM 31.78125 74.21875 \nQ 44.046875 74.21875 50.515625 64.515625 \nQ 56.984375 54.828125 56.984375 36.375 \nQ 56.984375 17.96875 50.515625 8.265625 \nQ 44.046875 -1.421875 31.78125 -1.421875 \nQ 19.53125 -1.421875 13.0625 8.265625 \nQ 6.59375 17.96875 6.59375 36.375 \nQ 6.59375 54.828125 13.0625 64.515625 \nQ 19.53125 74.21875 31.78125 74.21875 \nz\n\" id=\"DejaVuSans-48\"/>\n        <path d=\"M 10.6875 12.40625 \nL 21 12.40625 \nL 21 0 \nL 10.6875 0 \nz\n\" id=\"DejaVuSans-46\"/>\n       </defs>\n       <use xlink:href=\"#DejaVuSans-8722\"/>\n       <use x=\"83.789062\" xlink:href=\"#DejaVuSans-49\"/>\n       <use x=\"147.412109\" xlink:href=\"#DejaVuSans-48\"/>\n       <use x=\"211.035156\" xlink:href=\"#DejaVuSans-46\"/>\n       <use x=\"242.822266\" xlink:href=\"#DejaVuSans-48\"/>\n      </g>\n     </g>\n    </g>\n    <g id=\"xtick_2\">\n     <g id=\"line2d_3\">\n      <path clip-path=\"url(#p3d0049d580)\" d=\"M 93.866761 239.758125 \nL 93.866761 22.318125 \n\" style=\"fill:none;stroke:#b0b0b0;stroke-linecap:square;stroke-width:0.8;\"/>\n     </g>\n     <g id=\"line2d_4\">\n      <g>\n       <use style=\"stroke:#000000;stroke-width:0.8;\" x=\"93.866761\" xlink:href=\"#mab8201b6b3\" y=\"239.758125\"/>\n      </g>\n     </g>\n     <g id=\"text_2\">\n      <!-- −7.5 -->\n      <g transform=\"translate(81.725355 254.356562)scale(0.1 -0.1)\">\n       <defs>\n        <path d=\"M 8.203125 72.90625 \nL 55.078125 72.90625 \nL 55.078125 68.703125 \nL 28.609375 0 \nL 18.3125 0 \nL 43.21875 64.59375 \nL 8.203125 64.59375 \nz\n\" id=\"DejaVuSans-55\"/>\n        <path d=\"M 10.796875 72.90625 \nL 49.515625 72.90625 \nL 49.515625 64.59375 \nL 19.828125 64.59375 \nL 19.828125 46.734375 \nQ 21.96875 47.46875 24.109375 47.828125 \nQ 26.265625 48.1875 28.421875 48.1875 \nQ 40.625 48.1875 47.75 41.5 \nQ 54.890625 34.8125 54.890625 23.390625 \nQ 54.890625 11.625 47.5625 5.09375 \nQ 40.234375 -1.421875 26.90625 -1.421875 \nQ 22.3125 -1.421875 17.546875 -0.640625 \nQ 12.796875 0.140625 7.71875 1.703125 \nL 7.71875 11.625 \nQ 12.109375 9.234375 16.796875 8.0625 \nQ 21.484375 6.890625 26.703125 6.890625 \nQ 35.15625 6.890625 40.078125 11.328125 \nQ 45.015625 15.765625 45.015625 23.390625 \nQ 45.015625 31 40.078125 35.4375 \nQ 35.15625 39.890625 26.703125 39.890625 \nQ 22.75 39.890625 18.8125 39.015625 \nQ 14.890625 38.140625 10.796875 36.28125 \nz\n\" id=\"DejaVuSans-53\"/>\n       </defs>\n       <use xlink:href=\"#DejaVuSans-8722\"/>\n       <use x=\"83.789062\" xlink:href=\"#DejaVuSans-55\"/>\n       <use x=\"147.412109\" xlink:href=\"#DejaVuSans-46\"/>\n       <use x=\"179.199219\" xlink:href=\"#DejaVuSans-53\"/>\n      </g>\n     </g>\n    </g>\n    <g id=\"xtick_3\">\n     <g id=\"line2d_5\">\n      <path clip-path=\"url(#p3d0049d580)\" d=\"M 131.912216 239.758125 \nL 131.912216 22.318125 \n\" style=\"fill:none;stroke:#b0b0b0;stroke-linecap:square;stroke-width:0.8;\"/>\n     </g>\n     <g id=\"line2d_6\">\n      <g>\n       <use style=\"stroke:#000000;stroke-width:0.8;\" x=\"131.912216\" xlink:href=\"#mab8201b6b3\" y=\"239.758125\"/>\n      </g>\n     </g>\n     <g id=\"text_3\">\n      <!-- −5.0 -->\n      <g transform=\"translate(119.77081 254.356562)scale(0.1 -0.1)\">\n       <use xlink:href=\"#DejaVuSans-8722\"/>\n       <use x=\"83.789062\" xlink:href=\"#DejaVuSans-53\"/>\n       <use x=\"147.412109\" xlink:href=\"#DejaVuSans-46\"/>\n       <use x=\"179.199219\" xlink:href=\"#DejaVuSans-48\"/>\n      </g>\n     </g>\n    </g>\n    <g id=\"xtick_4\">\n     <g id=\"line2d_7\">\n      <path clip-path=\"url(#p3d0049d580)\" d=\"M 169.95767 239.758125 \nL 169.95767 22.318125 \n\" style=\"fill:none;stroke:#b0b0b0;stroke-linecap:square;stroke-width:0.8;\"/>\n     </g>\n     <g id=\"line2d_8\">\n      <g>\n       <use style=\"stroke:#000000;stroke-width:0.8;\" x=\"169.95767\" xlink:href=\"#mab8201b6b3\" y=\"239.758125\"/>\n      </g>\n     </g>\n     <g id=\"text_4\">\n      <!-- −2.5 -->\n      <g transform=\"translate(157.816264 254.356562)scale(0.1 -0.1)\">\n       <defs>\n        <path d=\"M 19.1875 8.296875 \nL 53.609375 8.296875 \nL 53.609375 0 \nL 7.328125 0 \nL 7.328125 8.296875 \nQ 12.9375 14.109375 22.625 23.890625 \nQ 32.328125 33.6875 34.8125 36.53125 \nQ 39.546875 41.84375 41.421875 45.53125 \nQ 43.3125 49.21875 43.3125 52.78125 \nQ 43.3125 58.59375 39.234375 62.25 \nQ 35.15625 65.921875 28.609375 65.921875 \nQ 23.96875 65.921875 18.8125 64.3125 \nQ 13.671875 62.703125 7.8125 59.421875 \nL 7.8125 69.390625 \nQ 13.765625 71.78125 18.9375 73 \nQ 24.125 74.21875 28.421875 74.21875 \nQ 39.75 74.21875 46.484375 68.546875 \nQ 53.21875 62.890625 53.21875 53.421875 \nQ 53.21875 48.921875 51.53125 44.890625 \nQ 49.859375 40.875 45.40625 35.40625 \nQ 44.1875 33.984375 37.640625 27.21875 \nQ 31.109375 20.453125 19.1875 8.296875 \nz\n\" id=\"DejaVuSans-50\"/>\n       </defs>\n       <use xlink:href=\"#DejaVuSans-8722\"/>\n       <use x=\"83.789062\" xlink:href=\"#DejaVuSans-50\"/>\n       <use x=\"147.412109\" xlink:href=\"#DejaVuSans-46\"/>\n       <use x=\"179.199219\" xlink:href=\"#DejaVuSans-53\"/>\n      </g>\n     </g>\n    </g>\n    <g id=\"xtick_5\">\n     <g id=\"line2d_9\">\n      <path clip-path=\"url(#p3d0049d580)\" d=\"M 208.003125 239.758125 \nL 208.003125 22.318125 \n\" style=\"fill:none;stroke:#b0b0b0;stroke-linecap:square;stroke-width:0.8;\"/>\n     </g>\n     <g id=\"line2d_10\">\n      <g>\n       <use style=\"stroke:#000000;stroke-width:0.8;\" x=\"208.003125\" xlink:href=\"#mab8201b6b3\" y=\"239.758125\"/>\n      </g>\n     </g>\n     <g id=\"text_5\">\n      <!-- 0.0 -->\n      <g transform=\"translate(200.051562 254.356562)scale(0.1 -0.1)\">\n       <use xlink:href=\"#DejaVuSans-48\"/>\n       <use x=\"63.623047\" xlink:href=\"#DejaVuSans-46\"/>\n       <use x=\"95.410156\" xlink:href=\"#DejaVuSans-48\"/>\n      </g>\n     </g>\n    </g>\n    <g id=\"xtick_6\">\n     <g id=\"line2d_11\">\n      <path clip-path=\"url(#p3d0049d580)\" d=\"M 246.04858 239.758125 \nL 246.04858 22.318125 \n\" style=\"fill:none;stroke:#b0b0b0;stroke-linecap:square;stroke-width:0.8;\"/>\n     </g>\n     <g id=\"line2d_12\">\n      <g>\n       <use style=\"stroke:#000000;stroke-width:0.8;\" x=\"246.04858\" xlink:href=\"#mab8201b6b3\" y=\"239.758125\"/>\n      </g>\n     </g>\n     <g id=\"text_6\">\n      <!-- 2.5 -->\n      <g transform=\"translate(238.097017 254.356562)scale(0.1 -0.1)\">\n       <use xlink:href=\"#DejaVuSans-50\"/>\n       <use x=\"63.623047\" xlink:href=\"#DejaVuSans-46\"/>\n       <use x=\"95.410156\" xlink:href=\"#DejaVuSans-53\"/>\n      </g>\n     </g>\n    </g>\n    <g id=\"xtick_7\">\n     <g id=\"line2d_13\">\n      <path clip-path=\"url(#p3d0049d580)\" d=\"M 284.094034 239.758125 \nL 284.094034 22.318125 \n\" style=\"fill:none;stroke:#b0b0b0;stroke-linecap:square;stroke-width:0.8;\"/>\n     </g>\n     <g id=\"line2d_14\">\n      <g>\n       <use style=\"stroke:#000000;stroke-width:0.8;\" x=\"284.094034\" xlink:href=\"#mab8201b6b3\" y=\"239.758125\"/>\n      </g>\n     </g>\n     <g id=\"text_7\">\n      <!-- 5.0 -->\n      <g transform=\"translate(276.142472 254.356562)scale(0.1 -0.1)\">\n       <use xlink:href=\"#DejaVuSans-53\"/>\n       <use x=\"63.623047\" xlink:href=\"#DejaVuSans-46\"/>\n       <use x=\"95.410156\" xlink:href=\"#DejaVuSans-48\"/>\n      </g>\n     </g>\n    </g>\n    <g id=\"xtick_8\">\n     <g id=\"line2d_15\">\n      <path clip-path=\"url(#p3d0049d580)\" d=\"M 322.139489 239.758125 \nL 322.139489 22.318125 \n\" style=\"fill:none;stroke:#b0b0b0;stroke-linecap:square;stroke-width:0.8;\"/>\n     </g>\n     <g id=\"line2d_16\">\n      <g>\n       <use style=\"stroke:#000000;stroke-width:0.8;\" x=\"322.139489\" xlink:href=\"#mab8201b6b3\" y=\"239.758125\"/>\n      </g>\n     </g>\n     <g id=\"text_8\">\n      <!-- 7.5 -->\n      <g transform=\"translate(314.187926 254.356562)scale(0.1 -0.1)\">\n       <use xlink:href=\"#DejaVuSans-55\"/>\n       <use x=\"63.623047\" xlink:href=\"#DejaVuSans-46\"/>\n       <use x=\"95.410156\" xlink:href=\"#DejaVuSans-53\"/>\n      </g>\n     </g>\n    </g>\n    <g id=\"xtick_9\">\n     <g id=\"line2d_17\">\n      <path clip-path=\"url(#p3d0049d580)\" d=\"M 360.184943 239.758125 \nL 360.184943 22.318125 \n\" style=\"fill:none;stroke:#b0b0b0;stroke-linecap:square;stroke-width:0.8;\"/>\n     </g>\n     <g id=\"line2d_18\">\n      <g>\n       <use style=\"stroke:#000000;stroke-width:0.8;\" x=\"360.184943\" xlink:href=\"#mab8201b6b3\" y=\"239.758125\"/>\n      </g>\n     </g>\n     <g id=\"text_9\">\n      <!-- 10.0 -->\n      <g transform=\"translate(349.052131 254.356562)scale(0.1 -0.1)\">\n       <use xlink:href=\"#DejaVuSans-49\"/>\n       <use x=\"63.623047\" xlink:href=\"#DejaVuSans-48\"/>\n       <use x=\"127.246094\" xlink:href=\"#DejaVuSans-46\"/>\n       <use x=\"159.033203\" xlink:href=\"#DejaVuSans-48\"/>\n      </g>\n     </g>\n    </g>\n    <g id=\"text_10\">\n     <!-- X -->\n     <g transform=\"translate(204.578125 268.034687)scale(0.1 -0.1)\">\n      <defs>\n       <path d=\"M 6.296875 72.90625 \nL 16.890625 72.90625 \nL 35.015625 45.796875 \nL 53.21875 72.90625 \nL 63.8125 72.90625 \nL 40.375 37.890625 \nL 65.375 0 \nL 54.78125 0 \nL 34.28125 31 \nL 13.625 0 \nL 2.984375 0 \nL 29 38.921875 \nz\n\" id=\"DejaVuSans-88\"/>\n      </defs>\n      <use xlink:href=\"#DejaVuSans-88\"/>\n     </g>\n    </g>\n   </g>\n   <g id=\"matplotlib.axis_2\">\n    <g id=\"ytick_1\">\n     <g id=\"line2d_19\">\n      <path clip-path=\"url(#p3d0049d580)\" d=\"M 40.603125 234.800409 \nL 375.403125 234.800409 \n\" style=\"fill:none;stroke:#b0b0b0;stroke-linecap:square;stroke-width:0.8;\"/>\n     </g>\n     <g id=\"line2d_20\">\n      <defs>\n       <path d=\"M 0 0 \nL -3.5 0 \n\" id=\"m3eb8239523\" style=\"stroke:#000000;stroke-width:0.8;\"/>\n      </defs>\n      <g>\n       <use style=\"stroke:#000000;stroke-width:0.8;\" x=\"40.603125\" xlink:href=\"#m3eb8239523\" y=\"234.800409\"/>\n      </g>\n     </g>\n     <g id=\"text_11\">\n      <!-- 0 -->\n      <g transform=\"translate(27.240625 238.599628)scale(0.1 -0.1)\">\n       <use xlink:href=\"#DejaVuSans-48\"/>\n      </g>\n     </g>\n    </g>\n    <g id=\"ytick_2\">\n     <g id=\"line2d_21\">\n      <path clip-path=\"url(#p3d0049d580)\" d=\"M 40.603125 206.659596 \nL 375.403125 206.659596 \n\" style=\"fill:none;stroke:#b0b0b0;stroke-linecap:square;stroke-width:0.8;\"/>\n     </g>\n     <g id=\"line2d_22\">\n      <g>\n       <use style=\"stroke:#000000;stroke-width:0.8;\" x=\"40.603125\" xlink:href=\"#m3eb8239523\" y=\"206.659596\"/>\n      </g>\n     </g>\n     <g id=\"text_12\">\n      <!-- 10 -->\n      <g transform=\"translate(20.878125 210.458814)scale(0.1 -0.1)\">\n       <use xlink:href=\"#DejaVuSans-49\"/>\n       <use x=\"63.623047\" xlink:href=\"#DejaVuSans-48\"/>\n      </g>\n     </g>\n    </g>\n    <g id=\"ytick_3\">\n     <g id=\"line2d_23\">\n      <path clip-path=\"url(#p3d0049d580)\" d=\"M 40.603125 178.518782 \nL 375.403125 178.518782 \n\" style=\"fill:none;stroke:#b0b0b0;stroke-linecap:square;stroke-width:0.8;\"/>\n     </g>\n     <g id=\"line2d_24\">\n      <g>\n       <use style=\"stroke:#000000;stroke-width:0.8;\" x=\"40.603125\" xlink:href=\"#m3eb8239523\" y=\"178.518782\"/>\n      </g>\n     </g>\n     <g id=\"text_13\">\n      <!-- 20 -->\n      <g transform=\"translate(20.878125 182.318001)scale(0.1 -0.1)\">\n       <use xlink:href=\"#DejaVuSans-50\"/>\n       <use x=\"63.623047\" xlink:href=\"#DejaVuSans-48\"/>\n      </g>\n     </g>\n    </g>\n    <g id=\"ytick_4\">\n     <g id=\"line2d_25\">\n      <path clip-path=\"url(#p3d0049d580)\" d=\"M 40.603125 150.377969 \nL 375.403125 150.377969 \n\" style=\"fill:none;stroke:#b0b0b0;stroke-linecap:square;stroke-width:0.8;\"/>\n     </g>\n     <g id=\"line2d_26\">\n      <g>\n       <use style=\"stroke:#000000;stroke-width:0.8;\" x=\"40.603125\" xlink:href=\"#m3eb8239523\" y=\"150.377969\"/>\n      </g>\n     </g>\n     <g id=\"text_14\">\n      <!-- 30 -->\n      <g transform=\"translate(20.878125 154.177187)scale(0.1 -0.1)\">\n       <defs>\n        <path d=\"M 40.578125 39.3125 \nQ 47.65625 37.796875 51.625 33 \nQ 55.609375 28.21875 55.609375 21.1875 \nQ 55.609375 10.40625 48.1875 4.484375 \nQ 40.765625 -1.421875 27.09375 -1.421875 \nQ 22.515625 -1.421875 17.65625 -0.515625 \nQ 12.796875 0.390625 7.625 2.203125 \nL 7.625 11.71875 \nQ 11.71875 9.328125 16.59375 8.109375 \nQ 21.484375 6.890625 26.8125 6.890625 \nQ 36.078125 6.890625 40.9375 10.546875 \nQ 45.796875 14.203125 45.796875 21.1875 \nQ 45.796875 27.640625 41.28125 31.265625 \nQ 36.765625 34.90625 28.71875 34.90625 \nL 20.21875 34.90625 \nL 20.21875 43.015625 \nL 29.109375 43.015625 \nQ 36.375 43.015625 40.234375 45.921875 \nQ 44.09375 48.828125 44.09375 54.296875 \nQ 44.09375 59.90625 40.109375 62.90625 \nQ 36.140625 65.921875 28.71875 65.921875 \nQ 24.65625 65.921875 20.015625 65.03125 \nQ 15.375 64.15625 9.8125 62.3125 \nL 9.8125 71.09375 \nQ 15.4375 72.65625 20.34375 73.4375 \nQ 25.25 74.21875 29.59375 74.21875 \nQ 40.828125 74.21875 47.359375 69.109375 \nQ 53.90625 64.015625 53.90625 55.328125 \nQ 53.90625 49.265625 50.4375 45.09375 \nQ 46.96875 40.921875 40.578125 39.3125 \nz\n\" id=\"DejaVuSans-51\"/>\n       </defs>\n       <use xlink:href=\"#DejaVuSans-51\"/>\n       <use x=\"63.623047\" xlink:href=\"#DejaVuSans-48\"/>\n      </g>\n     </g>\n    </g>\n    <g id=\"ytick_5\">\n     <g id=\"line2d_27\">\n      <path clip-path=\"url(#p3d0049d580)\" d=\"M 40.603125 122.237155 \nL 375.403125 122.237155 \n\" style=\"fill:none;stroke:#b0b0b0;stroke-linecap:square;stroke-width:0.8;\"/>\n     </g>\n     <g id=\"line2d_28\">\n      <g>\n       <use style=\"stroke:#000000;stroke-width:0.8;\" x=\"40.603125\" xlink:href=\"#m3eb8239523\" y=\"122.237155\"/>\n      </g>\n     </g>\n     <g id=\"text_15\">\n      <!-- 40 -->\n      <g transform=\"translate(20.878125 126.036374)scale(0.1 -0.1)\">\n       <defs>\n        <path d=\"M 37.796875 64.3125 \nL 12.890625 25.390625 \nL 37.796875 25.390625 \nz\nM 35.203125 72.90625 \nL 47.609375 72.90625 \nL 47.609375 25.390625 \nL 58.015625 25.390625 \nL 58.015625 17.1875 \nL 47.609375 17.1875 \nL 47.609375 0 \nL 37.796875 0 \nL 37.796875 17.1875 \nL 4.890625 17.1875 \nL 4.890625 26.703125 \nz\n\" id=\"DejaVuSans-52\"/>\n       </defs>\n       <use xlink:href=\"#DejaVuSans-52\"/>\n       <use x=\"63.623047\" xlink:href=\"#DejaVuSans-48\"/>\n      </g>\n     </g>\n    </g>\n    <g id=\"ytick_6\">\n     <g id=\"line2d_29\">\n      <path clip-path=\"url(#p3d0049d580)\" d=\"M 40.603125 94.096342 \nL 375.403125 94.096342 \n\" style=\"fill:none;stroke:#b0b0b0;stroke-linecap:square;stroke-width:0.8;\"/>\n     </g>\n     <g id=\"line2d_30\">\n      <g>\n       <use style=\"stroke:#000000;stroke-width:0.8;\" x=\"40.603125\" xlink:href=\"#m3eb8239523\" y=\"94.096342\"/>\n      </g>\n     </g>\n     <g id=\"text_16\">\n      <!-- 50 -->\n      <g transform=\"translate(20.878125 97.89556)scale(0.1 -0.1)\">\n       <use xlink:href=\"#DejaVuSans-53\"/>\n       <use x=\"63.623047\" xlink:href=\"#DejaVuSans-48\"/>\n      </g>\n     </g>\n    </g>\n    <g id=\"ytick_7\">\n     <g id=\"line2d_31\">\n      <path clip-path=\"url(#p3d0049d580)\" d=\"M 40.603125 65.955528 \nL 375.403125 65.955528 \n\" style=\"fill:none;stroke:#b0b0b0;stroke-linecap:square;stroke-width:0.8;\"/>\n     </g>\n     <g id=\"line2d_32\">\n      <g>\n       <use style=\"stroke:#000000;stroke-width:0.8;\" x=\"40.603125\" xlink:href=\"#m3eb8239523\" y=\"65.955528\"/>\n      </g>\n     </g>\n     <g id=\"text_17\">\n      <!-- 60 -->\n      <g transform=\"translate(20.878125 69.754747)scale(0.1 -0.1)\">\n       <defs>\n        <path d=\"M 33.015625 40.375 \nQ 26.375 40.375 22.484375 35.828125 \nQ 18.609375 31.296875 18.609375 23.390625 \nQ 18.609375 15.53125 22.484375 10.953125 \nQ 26.375 6.390625 33.015625 6.390625 \nQ 39.65625 6.390625 43.53125 10.953125 \nQ 47.40625 15.53125 47.40625 23.390625 \nQ 47.40625 31.296875 43.53125 35.828125 \nQ 39.65625 40.375 33.015625 40.375 \nz\nM 52.59375 71.296875 \nL 52.59375 62.3125 \nQ 48.875 64.0625 45.09375 64.984375 \nQ 41.3125 65.921875 37.59375 65.921875 \nQ 27.828125 65.921875 22.671875 59.328125 \nQ 17.53125 52.734375 16.796875 39.40625 \nQ 19.671875 43.65625 24.015625 45.921875 \nQ 28.375 48.1875 33.59375 48.1875 \nQ 44.578125 48.1875 50.953125 41.515625 \nQ 57.328125 34.859375 57.328125 23.390625 \nQ 57.328125 12.15625 50.6875 5.359375 \nQ 44.046875 -1.421875 33.015625 -1.421875 \nQ 20.359375 -1.421875 13.671875 8.265625 \nQ 6.984375 17.96875 6.984375 36.375 \nQ 6.984375 53.65625 15.1875 63.9375 \nQ 23.390625 74.21875 37.203125 74.21875 \nQ 40.921875 74.21875 44.703125 73.484375 \nQ 48.484375 72.75 52.59375 71.296875 \nz\n\" id=\"DejaVuSans-54\"/>\n       </defs>\n       <use xlink:href=\"#DejaVuSans-54\"/>\n       <use x=\"63.623047\" xlink:href=\"#DejaVuSans-48\"/>\n      </g>\n     </g>\n    </g>\n    <g id=\"ytick_8\">\n     <g id=\"line2d_33\">\n      <path clip-path=\"url(#p3d0049d580)\" d=\"M 40.603125 37.814714 \nL 375.403125 37.814714 \n\" style=\"fill:none;stroke:#b0b0b0;stroke-linecap:square;stroke-width:0.8;\"/>\n     </g>\n     <g id=\"line2d_34\">\n      <g>\n       <use style=\"stroke:#000000;stroke-width:0.8;\" x=\"40.603125\" xlink:href=\"#m3eb8239523\" y=\"37.814714\"/>\n      </g>\n     </g>\n     <g id=\"text_18\">\n      <!-- 70 -->\n      <g transform=\"translate(20.878125 41.613933)scale(0.1 -0.1)\">\n       <use xlink:href=\"#DejaVuSans-55\"/>\n       <use x=\"63.623047\" xlink:href=\"#DejaVuSans-48\"/>\n      </g>\n     </g>\n    </g>\n    <g id=\"text_19\">\n     <!-- Y -->\n     <g transform=\"translate(14.798438 134.092031)rotate(-90)scale(0.1 -0.1)\">\n      <defs>\n       <path d=\"M -0.203125 72.90625 \nL 10.40625 72.90625 \nL 30.609375 42.921875 \nL 50.6875 72.90625 \nL 61.28125 72.90625 \nL 35.5 34.71875 \nL 35.5 0 \nL 25.59375 0 \nL 25.59375 34.71875 \nz\n\" id=\"DejaVuSans-89\"/>\n      </defs>\n      <use xlink:href=\"#DejaVuSans-89\"/>\n     </g>\n    </g>\n   </g>\n   <g id=\"line2d_35\">\n    <path clip-path=\"url(#p3d0049d580)\" d=\"M 55.821307 32.201761 \nL 62.219341 47.427857 \nL 68.312707 61.361648 \nL 74.406073 74.742023 \nL 80.499439 87.56898 \nL 86.288137 99.241986 \nL 92.076835 110.415534 \nL 97.865533 121.089623 \nL 103.349562 130.741198 \nL 108.833592 139.944506 \nL 114.317621 148.699545 \nL 119.496982 156.55659 \nL 124.676344 164.01379 \nL 129.855705 171.071147 \nL 134.730398 177.34811 \nL 139.605091 183.270886 \nL 144.479783 188.839475 \nL 149.049808 193.738354 \nL 153.619833 198.325936 \nL 158.189857 202.60222 \nL 162.759882 206.567208 \nL 167.025238 209.987003 \nL 171.290594 213.135625 \nL 175.555951 216.013072 \nL 179.821307 218.619345 \nL 184.086663 220.954443 \nL 188.047351 222.879937 \nL 192.008039 224.571612 \nL 195.968727 226.029469 \nL 199.929415 227.253506 \nL 203.890103 228.243726 \nL 207.850791 229.000126 \nL 211.811479 229.522708 \nL 215.772167 229.811471 \nL 219.732855 229.866415 \nL 223.693543 229.687541 \nL 227.654231 229.274847 \nL 231.614919 228.628336 \nL 235.575607 227.748005 \nL 239.536295 226.633856 \nL 243.496982 225.285888 \nL 247.45767 223.704101 \nL 251.418358 221.888496 \nL 255.379046 219.839072 \nL 259.644403 217.370511 \nL 263.909759 214.630775 \nL 268.175115 211.619864 \nL 272.440471 208.33778 \nL 276.705828 204.784521 \nL 281.275852 200.676537 \nL 285.845877 196.257256 \nL 290.415901 191.526678 \nL 294.985926 186.484804 \nL 299.860619 180.763685 \nL 304.735312 174.68838 \nL 309.610005 168.258887 \nL 314.484697 161.475208 \nL 319.664059 153.879465 \nL 324.84342 145.883878 \nL 330.022781 137.488448 \nL 335.506811 128.163353 \nL 340.99084 118.389989 \nL 346.474869 108.168359 \nL 352.263567 96.892544 \nL 358.052265 85.117271 \nL 360.184943 80.65311 \nL 360.184943 80.65311 \n\" style=\"fill:none;stroke:#1f77b4;stroke-linecap:square;stroke-width:1.5;\"/>\n   </g>\n   <g id=\"patch_3\">\n    <path d=\"M 40.603125 239.758125 \nL 40.603125 22.318125 \n\" style=\"fill:none;stroke:#000000;stroke-linecap:square;stroke-linejoin:miter;stroke-width:0.8;\"/>\n   </g>\n   <g id=\"patch_4\">\n    <path d=\"M 375.403125 239.758125 \nL 375.403125 22.318125 \n\" style=\"fill:none;stroke:#000000;stroke-linecap:square;stroke-linejoin:miter;stroke-width:0.8;\"/>\n   </g>\n   <g id=\"patch_5\">\n    <path d=\"M 40.603125 239.758125 \nL 375.403125 239.758125 \n\" style=\"fill:none;stroke:#000000;stroke-linecap:square;stroke-linejoin:miter;stroke-width:0.8;\"/>\n   </g>\n   <g id=\"patch_6\">\n    <path d=\"M 40.603125 22.318125 \nL 375.403125 22.318125 \n\" style=\"fill:none;stroke:#000000;stroke-linecap:square;stroke-linejoin:miter;stroke-width:0.8;\"/>\n   </g>\n   <g id=\"text_20\">\n    <!-- Polynomial Function and Its Zeros -->\n    <g transform=\"translate(106.772812 16.318125)scale(0.12 -0.12)\">\n     <defs>\n      <path d=\"M 19.671875 64.796875 \nL 19.671875 37.40625 \nL 32.078125 37.40625 \nQ 38.96875 37.40625 42.71875 40.96875 \nQ 46.484375 44.53125 46.484375 51.125 \nQ 46.484375 57.671875 42.71875 61.234375 \nQ 38.96875 64.796875 32.078125 64.796875 \nz\nM 9.8125 72.90625 \nL 32.078125 72.90625 \nQ 44.34375 72.90625 50.609375 67.359375 \nQ 56.890625 61.8125 56.890625 51.125 \nQ 56.890625 40.328125 50.609375 34.8125 \nQ 44.34375 29.296875 32.078125 29.296875 \nL 19.671875 29.296875 \nL 19.671875 0 \nL 9.8125 0 \nz\n\" id=\"DejaVuSans-80\"/>\n      <path d=\"M 30.609375 48.390625 \nQ 23.390625 48.390625 19.1875 42.75 \nQ 14.984375 37.109375 14.984375 27.296875 \nQ 14.984375 17.484375 19.15625 11.84375 \nQ 23.34375 6.203125 30.609375 6.203125 \nQ 37.796875 6.203125 41.984375 11.859375 \nQ 46.1875 17.53125 46.1875 27.296875 \nQ 46.1875 37.015625 41.984375 42.703125 \nQ 37.796875 48.390625 30.609375 48.390625 \nz\nM 30.609375 56 \nQ 42.328125 56 49.015625 48.375 \nQ 55.71875 40.765625 55.71875 27.296875 \nQ 55.71875 13.875 49.015625 6.21875 \nQ 42.328125 -1.421875 30.609375 -1.421875 \nQ 18.84375 -1.421875 12.171875 6.21875 \nQ 5.515625 13.875 5.515625 27.296875 \nQ 5.515625 40.765625 12.171875 48.375 \nQ 18.84375 56 30.609375 56 \nz\n\" id=\"DejaVuSans-111\"/>\n      <path d=\"M 9.421875 75.984375 \nL 18.40625 75.984375 \nL 18.40625 0 \nL 9.421875 0 \nz\n\" id=\"DejaVuSans-108\"/>\n      <path d=\"M 32.171875 -5.078125 \nQ 28.375 -14.84375 24.75 -17.8125 \nQ 21.140625 -20.796875 15.09375 -20.796875 \nL 7.90625 -20.796875 \nL 7.90625 -13.28125 \nL 13.1875 -13.28125 \nQ 16.890625 -13.28125 18.9375 -11.515625 \nQ 21 -9.765625 23.484375 -3.21875 \nL 25.09375 0.875 \nL 2.984375 54.6875 \nL 12.5 54.6875 \nL 29.59375 11.921875 \nL 46.6875 54.6875 \nL 56.203125 54.6875 \nz\n\" id=\"DejaVuSans-121\"/>\n      <path d=\"M 54.890625 33.015625 \nL 54.890625 0 \nL 45.90625 0 \nL 45.90625 32.71875 \nQ 45.90625 40.484375 42.875 44.328125 \nQ 39.84375 48.1875 33.796875 48.1875 \nQ 26.515625 48.1875 22.3125 43.546875 \nQ 18.109375 38.921875 18.109375 30.90625 \nL 18.109375 0 \nL 9.078125 0 \nL 9.078125 54.6875 \nL 18.109375 54.6875 \nL 18.109375 46.1875 \nQ 21.34375 51.125 25.703125 53.5625 \nQ 30.078125 56 35.796875 56 \nQ 45.21875 56 50.046875 50.171875 \nQ 54.890625 44.34375 54.890625 33.015625 \nz\n\" id=\"DejaVuSans-110\"/>\n      <path d=\"M 52 44.1875 \nQ 55.375 50.25 60.0625 53.125 \nQ 64.75 56 71.09375 56 \nQ 79.640625 56 84.28125 50.015625 \nQ 88.921875 44.046875 88.921875 33.015625 \nL 88.921875 0 \nL 79.890625 0 \nL 79.890625 32.71875 \nQ 79.890625 40.578125 77.09375 44.375 \nQ 74.3125 48.1875 68.609375 48.1875 \nQ 61.625 48.1875 57.5625 43.546875 \nQ 53.515625 38.921875 53.515625 30.90625 \nL 53.515625 0 \nL 44.484375 0 \nL 44.484375 32.71875 \nQ 44.484375 40.625 41.703125 44.40625 \nQ 38.921875 48.1875 33.109375 48.1875 \nQ 26.21875 48.1875 22.15625 43.53125 \nQ 18.109375 38.875 18.109375 30.90625 \nL 18.109375 0 \nL 9.078125 0 \nL 9.078125 54.6875 \nL 18.109375 54.6875 \nL 18.109375 46.1875 \nQ 21.1875 51.21875 25.484375 53.609375 \nQ 29.78125 56 35.6875 56 \nQ 41.65625 56 45.828125 52.96875 \nQ 50 49.953125 52 44.1875 \nz\n\" id=\"DejaVuSans-109\"/>\n      <path d=\"M 9.421875 54.6875 \nL 18.40625 54.6875 \nL 18.40625 0 \nL 9.421875 0 \nz\nM 9.421875 75.984375 \nL 18.40625 75.984375 \nL 18.40625 64.59375 \nL 9.421875 64.59375 \nz\n\" id=\"DejaVuSans-105\"/>\n      <path d=\"M 34.28125 27.484375 \nQ 23.390625 27.484375 19.1875 25 \nQ 14.984375 22.515625 14.984375 16.5 \nQ 14.984375 11.71875 18.140625 8.90625 \nQ 21.296875 6.109375 26.703125 6.109375 \nQ 34.1875 6.109375 38.703125 11.40625 \nQ 43.21875 16.703125 43.21875 25.484375 \nL 43.21875 27.484375 \nz\nM 52.203125 31.203125 \nL 52.203125 0 \nL 43.21875 0 \nL 43.21875 8.296875 \nQ 40.140625 3.328125 35.546875 0.953125 \nQ 30.953125 -1.421875 24.3125 -1.421875 \nQ 15.921875 -1.421875 10.953125 3.296875 \nQ 6 8.015625 6 15.921875 \nQ 6 25.140625 12.171875 29.828125 \nQ 18.359375 34.515625 30.609375 34.515625 \nL 43.21875 34.515625 \nL 43.21875 35.40625 \nQ 43.21875 41.609375 39.140625 45 \nQ 35.0625 48.390625 27.6875 48.390625 \nQ 23 48.390625 18.546875 47.265625 \nQ 14.109375 46.140625 10.015625 43.890625 \nL 10.015625 52.203125 \nQ 14.9375 54.109375 19.578125 55.046875 \nQ 24.21875 56 28.609375 56 \nQ 40.484375 56 46.34375 49.84375 \nQ 52.203125 43.703125 52.203125 31.203125 \nz\n\" id=\"DejaVuSans-97\"/>\n      <path id=\"DejaVuSans-32\"/>\n      <path d=\"M 9.8125 72.90625 \nL 51.703125 72.90625 \nL 51.703125 64.59375 \nL 19.671875 64.59375 \nL 19.671875 43.109375 \nL 48.578125 43.109375 \nL 48.578125 34.8125 \nL 19.671875 34.8125 \nL 19.671875 0 \nL 9.8125 0 \nz\n\" id=\"DejaVuSans-70\"/>\n      <path d=\"M 8.5 21.578125 \nL 8.5 54.6875 \nL 17.484375 54.6875 \nL 17.484375 21.921875 \nQ 17.484375 14.15625 20.5 10.265625 \nQ 23.53125 6.390625 29.59375 6.390625 \nQ 36.859375 6.390625 41.078125 11.03125 \nQ 45.3125 15.671875 45.3125 23.6875 \nL 45.3125 54.6875 \nL 54.296875 54.6875 \nL 54.296875 0 \nL 45.3125 0 \nL 45.3125 8.40625 \nQ 42.046875 3.421875 37.71875 1 \nQ 33.40625 -1.421875 27.6875 -1.421875 \nQ 18.265625 -1.421875 13.375 4.4375 \nQ 8.5 10.296875 8.5 21.578125 \nz\nM 31.109375 56 \nz\n\" id=\"DejaVuSans-117\"/>\n      <path d=\"M 48.78125 52.59375 \nL 48.78125 44.1875 \nQ 44.96875 46.296875 41.140625 47.34375 \nQ 37.3125 48.390625 33.40625 48.390625 \nQ 24.65625 48.390625 19.8125 42.84375 \nQ 14.984375 37.3125 14.984375 27.296875 \nQ 14.984375 17.28125 19.8125 11.734375 \nQ 24.65625 6.203125 33.40625 6.203125 \nQ 37.3125 6.203125 41.140625 7.25 \nQ 44.96875 8.296875 48.78125 10.40625 \nL 48.78125 2.09375 \nQ 45.015625 0.34375 40.984375 -0.53125 \nQ 36.96875 -1.421875 32.421875 -1.421875 \nQ 20.0625 -1.421875 12.78125 6.34375 \nQ 5.515625 14.109375 5.515625 27.296875 \nQ 5.515625 40.671875 12.859375 48.328125 \nQ 20.21875 56 33.015625 56 \nQ 37.15625 56 41.109375 55.140625 \nQ 45.0625 54.296875 48.78125 52.59375 \nz\n\" id=\"DejaVuSans-99\"/>\n      <path d=\"M 18.3125 70.21875 \nL 18.3125 54.6875 \nL 36.8125 54.6875 \nL 36.8125 47.703125 \nL 18.3125 47.703125 \nL 18.3125 18.015625 \nQ 18.3125 11.328125 20.140625 9.421875 \nQ 21.96875 7.515625 27.59375 7.515625 \nL 36.8125 7.515625 \nL 36.8125 0 \nL 27.59375 0 \nQ 17.1875 0 13.234375 3.875 \nQ 9.28125 7.765625 9.28125 18.015625 \nL 9.28125 47.703125 \nL 2.6875 47.703125 \nL 2.6875 54.6875 \nL 9.28125 54.6875 \nL 9.28125 70.21875 \nz\n\" id=\"DejaVuSans-116\"/>\n      <path d=\"M 45.40625 46.390625 \nL 45.40625 75.984375 \nL 54.390625 75.984375 \nL 54.390625 0 \nL 45.40625 0 \nL 45.40625 8.203125 \nQ 42.578125 3.328125 38.25 0.953125 \nQ 33.9375 -1.421875 27.875 -1.421875 \nQ 17.96875 -1.421875 11.734375 6.484375 \nQ 5.515625 14.40625 5.515625 27.296875 \nQ 5.515625 40.1875 11.734375 48.09375 \nQ 17.96875 56 27.875 56 \nQ 33.9375 56 38.25 53.625 \nQ 42.578125 51.265625 45.40625 46.390625 \nz\nM 14.796875 27.296875 \nQ 14.796875 17.390625 18.875 11.75 \nQ 22.953125 6.109375 30.078125 6.109375 \nQ 37.203125 6.109375 41.296875 11.75 \nQ 45.40625 17.390625 45.40625 27.296875 \nQ 45.40625 37.203125 41.296875 42.84375 \nQ 37.203125 48.484375 30.078125 48.484375 \nQ 22.953125 48.484375 18.875 42.84375 \nQ 14.796875 37.203125 14.796875 27.296875 \nz\n\" id=\"DejaVuSans-100\"/>\n      <path d=\"M 9.8125 72.90625 \nL 19.671875 72.90625 \nL 19.671875 0 \nL 9.8125 0 \nz\n\" id=\"DejaVuSans-73\"/>\n      <path d=\"M 44.28125 53.078125 \nL 44.28125 44.578125 \nQ 40.484375 46.53125 36.375 47.5 \nQ 32.28125 48.484375 27.875 48.484375 \nQ 21.1875 48.484375 17.84375 46.4375 \nQ 14.5 44.390625 14.5 40.28125 \nQ 14.5 37.15625 16.890625 35.375 \nQ 19.28125 33.59375 26.515625 31.984375 \nL 29.59375 31.296875 \nQ 39.15625 29.25 43.1875 25.515625 \nQ 47.21875 21.78125 47.21875 15.09375 \nQ 47.21875 7.46875 41.1875 3.015625 \nQ 35.15625 -1.421875 24.609375 -1.421875 \nQ 20.21875 -1.421875 15.453125 -0.5625 \nQ 10.6875 0.296875 5.421875 2 \nL 5.421875 11.28125 \nQ 10.40625 8.6875 15.234375 7.390625 \nQ 20.0625 6.109375 24.8125 6.109375 \nQ 31.15625 6.109375 34.5625 8.28125 \nQ 37.984375 10.453125 37.984375 14.40625 \nQ 37.984375 18.0625 35.515625 20.015625 \nQ 33.0625 21.96875 24.703125 23.78125 \nL 21.578125 24.515625 \nQ 13.234375 26.265625 9.515625 29.90625 \nQ 5.8125 33.546875 5.8125 39.890625 \nQ 5.8125 47.609375 11.28125 51.796875 \nQ 16.75 56 26.8125 56 \nQ 31.78125 56 36.171875 55.265625 \nQ 40.578125 54.546875 44.28125 53.078125 \nz\n\" id=\"DejaVuSans-115\"/>\n      <path d=\"M 5.609375 72.90625 \nL 62.890625 72.90625 \nL 62.890625 65.375 \nL 16.796875 8.296875 \nL 64.015625 8.296875 \nL 64.015625 0 \nL 4.5 0 \nL 4.5 7.515625 \nL 50.59375 64.59375 \nL 5.609375 64.59375 \nz\n\" id=\"DejaVuSans-90\"/>\n      <path d=\"M 56.203125 29.59375 \nL 56.203125 25.203125 \nL 14.890625 25.203125 \nQ 15.484375 15.921875 20.484375 11.0625 \nQ 25.484375 6.203125 34.421875 6.203125 \nQ 39.59375 6.203125 44.453125 7.46875 \nQ 49.3125 8.734375 54.109375 11.28125 \nL 54.109375 2.78125 \nQ 49.265625 0.734375 44.1875 -0.34375 \nQ 39.109375 -1.421875 33.890625 -1.421875 \nQ 20.796875 -1.421875 13.15625 6.1875 \nQ 5.515625 13.8125 5.515625 26.8125 \nQ 5.515625 40.234375 12.765625 48.109375 \nQ 20.015625 56 32.328125 56 \nQ 43.359375 56 49.78125 48.890625 \nQ 56.203125 41.796875 56.203125 29.59375 \nz\nM 47.21875 32.234375 \nQ 47.125 39.59375 43.09375 43.984375 \nQ 39.0625 48.390625 32.421875 48.390625 \nQ 24.90625 48.390625 20.390625 44.140625 \nQ 15.875 39.890625 15.1875 32.171875 \nz\n\" id=\"DejaVuSans-101\"/>\n      <path d=\"M 41.109375 46.296875 \nQ 39.59375 47.171875 37.8125 47.578125 \nQ 36.03125 48 33.890625 48 \nQ 26.265625 48 22.1875 43.046875 \nQ 18.109375 38.09375 18.109375 28.8125 \nL 18.109375 0 \nL 9.078125 0 \nL 9.078125 54.6875 \nL 18.109375 54.6875 \nL 18.109375 46.1875 \nQ 20.953125 51.171875 25.484375 53.578125 \nQ 30.03125 56 36.53125 56 \nQ 37.453125 56 38.578125 55.875 \nQ 39.703125 55.765625 41.0625 55.515625 \nz\n\" id=\"DejaVuSans-114\"/>\n     </defs>\n     <use xlink:href=\"#DejaVuSans-80\"/>\n     <use x=\"56.677734\" xlink:href=\"#DejaVuSans-111\"/>\n     <use x=\"117.859375\" xlink:href=\"#DejaVuSans-108\"/>\n     <use x=\"145.642578\" xlink:href=\"#DejaVuSans-121\"/>\n     <use x=\"204.822266\" xlink:href=\"#DejaVuSans-110\"/>\n     <use x=\"268.201172\" xlink:href=\"#DejaVuSans-111\"/>\n     <use x=\"329.382812\" xlink:href=\"#DejaVuSans-109\"/>\n     <use x=\"426.794922\" xlink:href=\"#DejaVuSans-105\"/>\n     <use x=\"454.578125\" xlink:href=\"#DejaVuSans-97\"/>\n     <use x=\"515.857422\" xlink:href=\"#DejaVuSans-108\"/>\n     <use x=\"543.640625\" xlink:href=\"#DejaVuSans-32\"/>\n     <use x=\"575.427734\" xlink:href=\"#DejaVuSans-70\"/>\n     <use x=\"627.447266\" xlink:href=\"#DejaVuSans-117\"/>\n     <use x=\"690.826172\" xlink:href=\"#DejaVuSans-110\"/>\n     <use x=\"754.205078\" xlink:href=\"#DejaVuSans-99\"/>\n     <use x=\"809.185547\" xlink:href=\"#DejaVuSans-116\"/>\n     <use x=\"848.394531\" xlink:href=\"#DejaVuSans-105\"/>\n     <use x=\"876.177734\" xlink:href=\"#DejaVuSans-111\"/>\n     <use x=\"937.359375\" xlink:href=\"#DejaVuSans-110\"/>\n     <use x=\"1000.738281\" xlink:href=\"#DejaVuSans-32\"/>\n     <use x=\"1032.525391\" xlink:href=\"#DejaVuSans-97\"/>\n     <use x=\"1093.804688\" xlink:href=\"#DejaVuSans-110\"/>\n     <use x=\"1157.183594\" xlink:href=\"#DejaVuSans-100\"/>\n     <use x=\"1220.660156\" xlink:href=\"#DejaVuSans-32\"/>\n     <use x=\"1252.447266\" xlink:href=\"#DejaVuSans-73\"/>\n     <use x=\"1281.939453\" xlink:href=\"#DejaVuSans-116\"/>\n     <use x=\"1321.148438\" xlink:href=\"#DejaVuSans-115\"/>\n     <use x=\"1373.248047\" xlink:href=\"#DejaVuSans-32\"/>\n     <use x=\"1405.035156\" xlink:href=\"#DejaVuSans-90\"/>\n     <use x=\"1473.541016\" xlink:href=\"#DejaVuSans-101\"/>\n     <use x=\"1535.064453\" xlink:href=\"#DejaVuSans-114\"/>\n     <use x=\"1573.927734\" xlink:href=\"#DejaVuSans-111\"/>\n     <use x=\"1635.109375\" xlink:href=\"#DejaVuSans-115\"/>\n    </g>\n   </g>\n  </g>\n </g>\n <defs>\n  <clipPath id=\"p3d0049d580\">\n   <rect height=\"217.44\" width=\"334.8\" x=\"40.603125\" y=\"22.318125\"/>\n  </clipPath>\n </defs>\n</svg>\n",
      "image/png": "[encoded data removed]"
     },
     "metadata": {
      "needs_background": "light"
     }
    }
   ],
   "source": [
    "# Testing our function\n",
    "polynomial_function(degree=2)"
   ]
  },
  {
   "source": [
    "Don't worry if you feel like this went a bit quick, you'll be writing a similar program as a challenge!"
   ],
   "cell_type": "markdown",
   "metadata": {}
  },
  {
   "source": [
    "# Exponential Functions\n",
    "\n",
    "You may hear all the time, people throw around words like 'exponential growth', but what does that even mean? Before moving on, let's swiftly cover some properties of __exponents__, a quantity representing the power to which a given number or expression is to be raised. Consider three real numbers, $a$, $x$ and $y$:\n",
    "\n",
    "1. $a^{1} = a$\n",
    "2. $a^{0} = 1$\n",
    "3. $a^{-1} = \\frac{1}{a}$\n",
    "4. $a^{x}\\times a^{y} = a^{x+y}$: Since an exponent represents the amount of times we multiply a number with itself the product of two numbers with the same base (in this case $a$) is the same as summing the exponents. For example $2^{2}\\times 2^{3} = (2 \\times 2)\\times(2 \\times 2 \\times 2) = 2^{5}$\n",
    "5. $(a^{x})^y = a^{xy}$: An example of this would be $(2^{2})^{3} = (2 \\times 2)\\times (2 \\times 2) \\times (2 \\times 2) = 2^{6} $\n",
    "6. $a^{-x} = (a^{x})^{-1} = \\frac{1}{a^{x}}$\n",
    "7. $1^{x} = 1\\times 1\\times 1\\times ... \\times1 = 1$\n",
    "\n",
    "After looking at these properties we can formulate the general form for an __exponential function__:\n",
    "\n",
    "$$f(x) = ab^{x}$$\n",
    "\n",
    "Where $a$ is a coefficient, and $b$ is referred to as the base.\n",
    "\n",
    "An example of this we have already seen was the time complexity of the recursive Fibonacci algorithm, given by $O(2^{x})$. In this case, the growth shown with respect to the input size was much larger than for the other categories. This is referred to as __exponential growth__. This type of growth, characterised by exponential functions, is used to model behaviour where the larger the value of $x$ is, the faster we grow. A typical example of this is when we try to capture how a rabbit population grows over time. As rabbits do not distinguish between family and non-family members, the larger the rabbit population, the more rabbits will be produced, leading to a plot as shown below:\n",
    "\n",
    "<img src=\"https://4.bp.blogspot.com/-BmOse_B51Jo/TsvyDRSI-VI/AAAAAAAAAFI/U56U4GTIoQQ/s1600/Rabbit+Population+Growth+Graph.PNG\" style=\"display: block; margin-left: auto; margin-right: auto; width:50%\">\n",
    "\n",
    "[Source](https://4.bp.blogspot.com/-BmOse_B51Jo/TsvyDRSI-VI/AAAAAAAAAFI/U56U4GTIoQQ/s1600/Rabbit+Population+Growth+Graph.PNG)\n",
    "\n",
    "An exponential function will exhibit exponential growth if $b > 1$, where $b$ is the base. If this is met, by increasing $x$, f(x) will grow exponentially, with no exceptions. Consider for instance, $f(x) = 1.0001^{x}$. It doesn't seem like it's going to grow much, but what happens if we plot it?"
   ],
   "cell_type": "markdown",
   "metadata": {}
  },
  {
   "source": [
    "# Plotting exponential function\n",
    "def f(x):\n",
    "    return 1.0001**x\n",
    "\n",
    "x = np.linspace(0, 40000, 1000)\n",
    "y = f(x)\n",
    "\n",
    "fig = plt.figure() # create a figure object\n",
    "plt.plot(x, y) # Add the plot of y=x to our figure object\n",
    "plt.xlabel('X') # Adding the label to our x-axis\n",
    "plt.ylabel('Y') # Adding the label to our y-axis\n",
    "plt.title('Little Exponential Growth') # Adding our title\n",
    "fig.show() # display the image!"
   ],
   "cell_type": "code",
   "metadata": {},
   "execution_count": null,
   "outputs": []
  },
  {
   "source": [
    "Besides growth, we will experience __exponential decay__ if $b<1$. It basically means that as $x$ increases, $f(x)$ will exponentially decay 0. What happens if $b=1$? Well in this case, since $1\\times 1 = 1$, $f(x)= a(1)^{x} = a$, meaning we get a constant! "
   ],
   "cell_type": "markdown",
   "metadata": {}
  },
  {
   "cell_type": "code",
   "execution_count": null,
   "metadata": {},
   "outputs": [],
   "source": [
    "# Plotting quadratics\n",
    "def general_exponents(x, a, b):\n",
    "    return a*(b**x)\n",
    "\n",
    "x = np.linspace(-5, 5, 1000)\n",
    "my_legend = []\n",
    "\n",
    "fig = plt.figure() # create a figure object\n",
    "for i in range(5): # plotting 5 different graphs with random values for their 3 parameters\n",
    "    a, b = (np.random.rand(2)-0.5)*5\n",
    "    plt.plot(x, general_exponents(x, a, b))\n",
    "    my_legend.append('f(x) = {:.2f}*({:.2f})^x'.format(a, b)) \n",
    "\n",
    "print(my_legend)\n",
    "plt.xlabel('X') # Adding the label to our x-axis\n",
    "plt.ylabel('Y') # Adding the label to our y-axis\n",
    "plt.title('Many many exponents') # Adding our title\n",
    "plt.legend(my_legend)\n",
    "fig.show() # display the image!"
   ]
  },
  {
   "source": [
    "Generally, the most common base to be used for exponential functions is $e\\approx 2.718$, referred to as __Euler's number__. The function _np.exp()_ automatically assumes $e$ to be the base."
   ],
   "cell_type": "markdown",
   "metadata": {}
  },
  {
   "source": [
    "# Logarithmic Functions\n",
    "\n",
    "While we will not go deeply over logarithms, it is important to understand the basic of __logarithmic functions__. Logarithms are intrinsicly linked to exponentials. Consider the following general problem:\n",
    "\n",
    "$$x = b^{y}$$\n",
    "\n",
    "If given something like this, how can we find $x$? We could maybe write a search-algorithm, but there feels like there should be an intuitive operation that we could, hence comes in the logarithm. Given the problem above, we can determine $x$ as follows:\n",
    "\n",
    "$$y = log_{b}x$$\n",
    "\n",
    "Where, once again, $b$ is referred to as the base. An example case is the following:\n",
    "\n",
    "$8 = 2^{x}$ (where we know intuitively $x=3$)\n",
    "\n",
    "$x = log_{2}8 = 3$\n",
    "\n",
    "Below are some useful properties of logarithms:\n",
    "\n",
    "1. $log_{b}(b) = 1$\n",
    "2. $log_{b}(1) = 0$ (for any value of $b$)\n",
    "3. $log_{b}(a) + log_{b}(c) = log_{b}(ac)$\n",
    "4. $log_{b}(a) - log_{b}(c) = log_{b}(\\frac{a}{c})$\n",
    "5. $log_{b}(a^{x}) = log_{b}(a\\times a\\times ... \\times a) = log_{b}(a) + log_{b}(a) + ... + log_{b}(a) = xlog_{b}(a)$\n",
    "\n",
    "Generally, when dealing with logarithms, we tend to stick to using $log_{e}(x) = ln(x)$, which is referred to as the __natural logarithm__. luckily, we can use the __base change rule__ to convert logarithms of any base to natural logarithms as follows:\n",
    "\n",
    "$$log_{b}(x) = \\frac{ln(x)}{ln(b)}$$\n",
    "\n",
    "Where if we are only dealing with the variable $x$, means we can re-write logarithms of any base as a scaled natural logarithm! As you probably guessed, let's plot the $f(x) = ln(x)$:"
   ],
   "cell_type": "markdown",
   "metadata": {}
  },
  {
   "cell_type": "code",
   "execution_count": null,
   "metadata": {},
   "outputs": [],
   "source": [
    "# Logarithmic Function\n",
    "def f(x):\n",
    "    return np.log(x) # numpy uses natural logarithms by default.\n",
    "\n",
    "# Let us plot a simple straight line curve\n",
    "x = np.linspace(0, 50, 1000)\n",
    "y = f(x)\n",
    "\n",
    "fig = plt.figure() # create a figure object\n",
    "plt.plot(x, y) # Add the plot of y=x to our figure object\n",
    "plt.xlabel('X') # Adding the label to our x-axis\n",
    "plt.ylabel('Y') # Adding the label to our y-axis\n",
    "plt.title('Natural Logarithm') # Adding our title\n",
    "fig.show() # display the image!"
   ]
  },
  {
   "source": [
    "As it is considered to be an inverse operation to __exponentiation__, which is what we do to derive exponential functions, we see that as $x$ increases, the output of the function gets compressed!"
   ],
   "cell_type": "markdown",
   "metadata": {}
  },
  {
   "source": [
    "# Notation\n",
    "\n",
    "Lastly, we will go over some important notation that we will use throughout the course and that you will also see in the future. Firstly, to present large sums without having to write out all the individual terms, we use $\\Sigma$, where:\n",
    "\n",
    "$$\\sum_{i=1}^{n}x_{i} = x_{1} + x_{2} + x_{3} + ... + x_{n-1} + x_{n}$$\n",
    "\n",
    "For example, we can represent the mean, which is the sum of all terms in a set divided by the number of terms in the set, as follows:\n",
    "\n",
    "$$\\bar{x} = \\frac{1}{n}\\sum_{i=1}^{n}x_{i}$$\n",
    "\n",
    "This type of notation is particularly useful for large values of $n$ and when we want to generalise a relationship that applies to _any_ value of $n$. What if now we wanted something analogous to the sum notation we have seen above, but for the product of many terms? All we do is replace $\\Sigma$ with $\\Pi$ and we're done!\n",
    "\n",
    "$$\\prod_{i=1}^{n}x_{i} = x_{1} \\times x_{2} \\times x_{3} \\times ... \\times x_{n-1} \\times x_{n}$$\n",
    "\n",
    "It is also a good recap to keep the distinction of some common __number sets__ in mind. \n",
    "\n",
    "<img src=\"https://www.mathsisfun.com/sets/images/number-sets.svg\" style=\"display: block; margin-left: auto; margin-right: auto; width:30%\">\n",
    "\n",
    "Where:\n",
    "- __Natural Numbers__ ($\\mathbb{N}$): All whole numbers from 1 to $\\infty$ (may sometimes also include 0)\n",
    "- __Integers__ ($\\mathbb{Z}$): All whole numbers, from $-\\infty$ to $\\infty$, hence includes negative numbers as well\n",
    "- __Rational Numbers__ ($\\mathbb{Q}$): Any real number that can be represented as a fraction of two integers (e.g. $\\frac{3}{4}$)\n",
    "- __Real Numbers__ ($\\mathbb{R}$): All rational and irrational numbers (e.g. $\\frac{3}{4}$, $\\pi$, $\\sqrt{2}$)\n",
    "- __Imaginary Numbers__ ($\\mathbb{I}$): Any real number multiplied by $i$, where $i=\\sqrt{-1}$\n",
    "\n"
   ],
   "cell_type": "markdown",
   "metadata": {}
  },
  {
   "source": [
    "# Challenges\n",
    "\n",
    "__Question 1:__ Write a function called polynomial_function that:\n",
    "- Takes in a list of parameters of any length\n",
    "- Determines the polynomial order from the number of parameters\n",
    "- Returns a ndarray containing the zeros of the polynomial"
   ],
   "cell_type": "markdown",
   "metadata": {}
  }
 ]
}